{
 "cells": [
  {
   "cell_type": "markdown",
   "metadata": {},
   "source": [
    "## Irap & Mona data merge, EDA"
   ]
  },
  {
   "cell_type": "code",
   "execution_count": 1,
   "metadata": {},
   "outputs": [],
   "source": [
    "import numpy as np\n",
    "import pandas as pd\n",
    "import matplotlib.pyplot as plt \n",
    "from scipy.stats import pearsonr\n",
    "from sklearn.linear_model import LogisticRegression "
   ]
  },
  {
   "cell_type": "code",
   "execution_count": 5,
   "metadata": {},
   "outputs": [],
   "source": [
    "path = \"Final Soft Launch Results/Current Source Data/\""
   ]
  },
  {
   "cell_type": "code",
   "execution_count": 3,
   "metadata": {},
   "outputs": [],
   "source": [
    "d1=\"Data from IRAP 01072020.xlsx\"\n",
    "# d2=\"Merge for Vulnerability Screening.xlsx\"\n",
    "d3=\"Raw Data from Mona 01172020.xlsx\""
   ]
  },
  {
   "cell_type": "code",
   "execution_count": null,
   "metadata": {},
   "outputs": [],
   "source": [
    "irap = pd.read_excel (path+d1)\n",
    "# merge = pd.read_excel (path+d2)\n",
    "mona = pd.read_excel (path+d3)"
   ]
  },
  {
   "cell_type": "code",
   "execution_count": null,
   "metadata": {},
   "outputs": [],
   "source": [
    "irap['process_days'] = irap['Date of Screening Decision']-irap['Date of Screening Start']\n",
    "irap['process_days'] = irap['process_days'].astype('timedelta64[D]')"
   ]
  },
  {
   "cell_type": "code",
   "execution_count": null,
   "metadata": {},
   "outputs": [],
   "source": [
    "mona = mona.rename({'Contact UUID': 'Mona Unique User ID'}, axis=1)"
   ]
  },
  {
   "cell_type": "markdown",
   "metadata": {},
   "source": [
    "#### Joining tables into \"full\""
   ]
  },
  {
   "cell_type": "code",
   "execution_count": null,
   "metadata": {},
   "outputs": [],
   "source": [
    "full = pd.merge(irap, mona, on='Mona Unique User ID',how=\"left\").dropna(axis=1, how='all')"
   ]
  },
  {
   "cell_type": "code",
   "execution_count": null,
   "metadata": {},
   "outputs": [],
   "source": [
    "full['Field:Gender'].replace(('Male', 'Female'), (1, 0), inplace=True)\n",
    "full['Vulnerability Threshold'].replace(('Above', 'Below'), (1, 0), inplace=True)"
   ]
  },
  {
   "cell_type": "markdown",
   "metadata": {},
   "source": [
    "#### Create one-hot features"
   ]
  },
  {
   "cell_type": "code",
   "execution_count": null,
   "metadata": {},
   "outputs": [],
   "source": [
    "def one_hot(dataframe,column_name):\n",
    "    gen_onehot_features = pd.get_dummies(dataframe[column_name])\n",
    "    result = pd.concat([dataframe, gen_onehot_features],axis=1)\n",
    "    return result"
   ]
  },
  {
   "cell_type": "code",
   "execution_count": null,
   "metadata": {},
   "outputs": [],
   "source": [
    "full['Field:Nationality1'] = 'nationality_' + full['Field:Nationality1']\n",
    "full = one_hot(full,'Field:Nationality1')\n"
   ]
  },
  {
   "cell_type": "code",
   "execution_count": null,
   "metadata": {},
   "outputs": [],
   "source": [
    "full['Field:Current Country'] = 'curr_country_' + full['Field:Current Country']\n",
    "full = one_hot(full,'Field:Current Country')"
   ]
  },
  {
   "cell_type": "code",
   "execution_count": null,
   "metadata": {},
   "outputs": [],
   "source": [
    "full.head()"
   ]
  },
  {
   "cell_type": "code",
   "execution_count": null,
   "metadata": {},
   "outputs": [],
   "source": [
    "numeric = full.select_dtypes(exclude=['object','datetime64[ns]'])"
   ]
  },
  {
   "cell_type": "code",
   "execution_count": null,
   "metadata": {},
   "outputs": [],
   "source": [
    "multiple_vars = numeric[numeric['Field:Age'].notna() \n",
    "        & numeric['Field:Gender'].notna()\n",
    "        & numeric['Field:Medical Condition Score'].notna()\n",
    "        & numeric['Vulnerability Threshold'].notna()\n",
    "        & numeric['Field:LPPN Score'].notna()\n",
    "        & numeric['process_days'].notna()\n",
    "       ].dropna(axis=1)"
   ]
  },
  {
   "cell_type": "markdown",
   "metadata": {},
   "source": [
    "### Part A: Mona’s Vulnerability Scores versus Decision-Making Time:\n"
   ]
  },
  {
   "cell_type": "code",
   "execution_count": null,
   "metadata": {},
   "outputs": [],
   "source": [
    "fig = plt.figure(figsize=[10,5])\n",
    "plt.scatter(full['Field:Medical Needs Score'], full['process_days'], \n",
    "            marker=\"o\",alpha=0.2)\n",
    "\n",
    "plt.ylim(-2,)\n",
    "plt.title(\"Medical Needs\")\n",
    "plt.xlabel(\"Medical Needs Score\")\n",
    "plt.ylabel(\"No. of days to process\")\n",
    "\n",
    "plt.show()"
   ]
  },
  {
   "cell_type": "code",
   "execution_count": null,
   "metadata": {},
   "outputs": [],
   "source": [
    "fig = plt.figure(figsize=[10,5])\n",
    "plt.scatter(full['Field:LPPN Score'], full['process_days'], \n",
    "            marker=\"o\",alpha=0.2,c=\"g\")\n",
    "\n",
    "plt.ylim(-2,)\n",
    "plt.title(\"LPPN (Legal and Physical Protection Needs)\")\n",
    "plt.xlabel(\"LPPN Score\")\n",
    "plt.ylabel(\"No. of days to process\")\n",
    "\n",
    "plt.show()"
   ]
  },
  {
   "cell_type": "code",
   "execution_count": null,
   "metadata": {},
   "outputs": [],
   "source": [
    "fig = plt.figure(figsize=[10,2])\n",
    "plt.scatter(full['Field:LPPN Score'], [1 if i ==1 else 0 for i in full['process_days']], \n",
    "            marker=\"o\",alpha=0.2,c=\"g\")\n",
    "\n",
    "# plt.ylim(-,)\n",
    "plt.title(\"LPPN (Legal and Physical Protection Needs)\")\n",
    "plt.xlabel(\"LPPN Score\")\n",
    "plt.ylabel(\"Screening finished in one day?\")\n",
    "\n",
    "plt.show()"
   ]
  },
  {
   "cell_type": "code",
   "execution_count": null,
   "metadata": {
    "scrolled": true
   },
   "outputs": [],
   "source": [
    "index = [0,1,2,3,4,5,6]\n",
    "n_days = [full.loc[(full['Field:LPPN Score'] == i) & (full['process_days'] > 1)].shape[0] for i in index]\n",
    "one_day = [full.loc[(full['Field:LPPN Score'] == i) & (full['process_days'] == 1)].shape[0] for i in index]\n",
    "df = pd.DataFrame({'Screening took 1 day': one_day,\n",
    "                   'Screening took >1 days': n_days}, index=index)\n",
    "df.plot.bar(rot=0)\n",
    "plt.xlabel(\"LPPN Score\")\n",
    "plt.ylabel(\"Frequencies\")\n",
    "\n",
    "plt.show()"
   ]
  },
  {
   "cell_type": "markdown",
   "metadata": {},
   "source": [
    "### Part B: Mona’s Vulnerability Scores verses IRAP’s Above/Below Threshold\n"
   ]
  },
  {
   "cell_type": "code",
   "execution_count": null,
   "metadata": {},
   "outputs": [],
   "source": [
    "full['Vulnerability Threshold'].value_counts()"
   ]
  },
  {
   "cell_type": "code",
   "execution_count": null,
   "metadata": {
    "scrolled": true
   },
   "outputs": [],
   "source": [
    "index = [0,1,2,3,4,5,6]\n",
    "below = [full.loc[(full['Field:Medical Needs Score'] == i) & \n",
    "                    (full['Vulnerability Threshold'] ==0)].shape[0] for i in index]\n",
    "above = [full.loc[(full['Field:Medical Needs Score'] == i) & \n",
    "                    (full['Vulnerability Threshold'] == 1)].shape[0] for i in index]\n",
    "df = pd.DataFrame({'below': below,\n",
    "                   'above': above}, index=index)\n",
    "df.plot.bar(rot=0)\n",
    "plt.xlabel(\"Medical Needs Score\")\n",
    "plt.ylabel(\"Frequencies\")\n",
    "\n",
    "plt.show()"
   ]
  },
  {
   "cell_type": "code",
   "execution_count": null,
   "metadata": {
    "scrolled": true
   },
   "outputs": [],
   "source": [
    "index = [0,1,2,3,4,5,6]\n",
    "\n",
    "below = [full.loc[(full['Field:LPPN Score'] == i) & \n",
    "                    (full['Vulnerability Threshold'] == 0)].shape[0] for i in index]\n",
    "above = [full.loc[(full['Field:LPPN Score'] == i) & \n",
    "                    (full['Vulnerability Threshold'] == 1)].shape[0] for i in index]\n",
    "df = pd.DataFrame({'below': below,\n",
    "                   'above': above}, index=index)\n",
    "df.plot.bar(rot=0)\n",
    "plt.xlabel(\"LPPN Score\")\n",
    "plt.ylabel(\"Frequencies\")\n",
    "\n",
    "plt.show()"
   ]
  },
  {
   "cell_type": "markdown",
   "metadata": {},
   "source": [
    "### Cross tab distribution"
   ]
  },
  {
   "cell_type": "code",
   "execution_count": null,
   "metadata": {},
   "outputs": [],
   "source": [
    "pd.crosstab(full['Field:LPPN Score'],full['Vulnerability Threshold'],margins = False)"
   ]
  },
  {
   "cell_type": "code",
   "execution_count": null,
   "metadata": {},
   "outputs": [],
   "source": [
    "157+29+14+26+23"
   ]
  },
  {
   "cell_type": "code",
   "execution_count": null,
   "metadata": {},
   "outputs": [],
   "source": [
    "full[full['Vulnerability Threshold']==1][['Vulnerability Threshold','Field:Medical Needs Score','Field:LPPN Score']]"
   ]
  },
  {
   "cell_type": "code",
   "execution_count": null,
   "metadata": {},
   "outputs": [],
   "source": [
    "pd.crosstab(full['Field:Medical Needs Score'],full['Vulnerability Threshold'],margins = False)"
   ]
  },
  {
   "cell_type": "code",
   "execution_count": null,
   "metadata": {},
   "outputs": [],
   "source": [
    "212+6+11+34+59"
   ]
  },
  {
   "cell_type": "code",
   "execution_count": null,
   "metadata": {},
   "outputs": [],
   "source": [
    "pd.crosstab(full['Field:LPPN Score'],full['process_days']>1,margins = False)"
   ]
  },
  {
   "cell_type": "code",
   "execution_count": null,
   "metadata": {},
   "outputs": [],
   "source": [
    "34+9+2+10+11"
   ]
  },
  {
   "cell_type": "code",
   "execution_count": null,
   "metadata": {},
   "outputs": [],
   "source": [
    "pd.crosstab(full['Field:Medical Needs Score'],full['process_days']>1,margins = False)"
   ]
  },
  {
   "cell_type": "code",
   "execution_count": null,
   "metadata": {},
   "outputs": [],
   "source": [
    "44+3+5+7+17"
   ]
  },
  {
   "cell_type": "markdown",
   "metadata": {},
   "source": [
    "### Pearsons correlations"
   ]
  },
  {
   "cell_type": "code",
   "execution_count": null,
   "metadata": {},
   "outputs": [],
   "source": [
    "medi_score = full[['Field:Medical Needs Score','process_days']].dropna()\n",
    "pearsonr(medi_score['Field:Medical Needs Score'],medi_score['process_days'])"
   ]
  },
  {
   "cell_type": "code",
   "execution_count": null,
   "metadata": {},
   "outputs": [],
   "source": [
    "def find_pearson_time(var):\n",
    "    df = full[[var,'process_days']].dropna()\n",
    "    p = pearsonr(df[var],df['process_days'])\n",
    "#     print(var)\n",
    "#     print(\"PEARSON: {:.5f} p-value: {:.5f}\".format(p[0],p[1]))\n",
    "    return(p[0])\n",
    "    "
   ]
  },
  {
   "cell_type": "code",
   "execution_count": null,
   "metadata": {},
   "outputs": [],
   "source": [
    "def find_pearson_thresh(var):\n",
    "    df = full[[var,'Vulnerability Threshold']].dropna()\n",
    "    p = pearsonr(df[var],df['Vulnerability Threshold'])\n",
    "#     print(var)\n",
    "#     print(\"PEARSON: {:.5f} p-value: {:.5f}\".format(p[0],p[1]))\n",
    "    return(p[0])\n",
    "    "
   ]
  },
  {
   "cell_type": "code",
   "execution_count": null,
   "metadata": {},
   "outputs": [],
   "source": [
    "find_pearson_time('Field:Medical Needs Score')"
   ]
  },
  {
   "cell_type": "code",
   "execution_count": null,
   "metadata": {},
   "outputs": [],
   "source": [
    "full[' Mona Follow up Needed'].replace(('Yes', 'No'), (1, 0), inplace=True)\n",
    "full['Mona Case Type Identification'].replace(('Accurate', 'Inaccurate'), (1, 0), inplace=True)\n",
    "full['Screening Stage'].replace(('Screening Complete', 'Screening'), (1, 0), inplace=True)\n",
    "full['In IRAP Process'].replace(('Yes', 'No'), (1, 0), inplace=True)\n",
    "full['First Referral'].replace(('Yes', 'No'), (1, 0), inplace=True)\n",
    "full[\"Flags\"].fillna(\"responsive\",inplace=True)\n",
    "full['Flags'].replace(('Unresponsive', 'responsive'), (1, 0), inplace=True)"
   ]
  },
  {
   "cell_type": "code",
   "execution_count": null,
   "metadata": {},
   "outputs": [],
   "source": [
    "pearson_time = []\n",
    "for i in [' Mona Follow up Needed', 'Mona Case Type Identification',\n",
    "    'Screening Stage','In IRAP Process','First Referral','Flags',\n",
    "         'Field:Medical Needs Score','Field:LPPN Score']:\n",
    "    pearson_time.append((find_pearson_time(i),i))\n",
    "sorted(pearson_time, key=lambda a: abs(a[0]), reverse=True)"
   ]
  },
  {
   "cell_type": "code",
   "execution_count": null,
   "metadata": {},
   "outputs": [],
   "source": [
    "pearson_thresh = []\n",
    "for i in [' Mona Follow up Needed', 'Mona Case Type Identification',\n",
    "    'Screening Stage','In IRAP Process','First Referral','Flags',\n",
    "          'Field:Medical Needs Score','Field:LPPN Score']:\n",
    "    pearson_thresh.append((find_pearson_thresh(i),i))\n",
    "sorted(pearson_thresh, key=lambda a: abs(a[0]), reverse=True)"
   ]
  },
  {
   "cell_type": "code",
   "execution_count": null,
   "metadata": {},
   "outputs": [],
   "source": [
    "full['Screening Stage'].value_counts()"
   ]
  },
  {
   "cell_type": "code",
   "execution_count": null,
   "metadata": {},
   "outputs": [],
   "source": [
    "full[' Mona Follow up Needed'].value_counts()"
   ]
  },
  {
   "cell_type": "markdown",
   "metadata": {},
   "source": [
    "### Regression"
   ]
  },
  {
   "cell_type": "code",
   "execution_count": null,
   "metadata": {},
   "outputs": [],
   "source": [
    "from sklearn.ensemble import RandomForestClassifier\n",
    "from sklearn.linear_model import LogisticRegression"
   ]
  },
  {
   "cell_type": "code",
   "execution_count": null,
   "metadata": {},
   "outputs": [],
   "source": [
    "drop_na_full = full[[' Mona Follow up Needed', 'Mona Case Type Identification',\n",
    "    'Screening Stage','In IRAP Process','First Referral','Flags',\n",
    "          'Field:Medical Needs Score','Field:LPPN Score',\"Vulnerability Threshold\"]]"
   ]
  },
  {
   "cell_type": "code",
   "execution_count": null,
   "metadata": {},
   "outputs": [],
   "source": [
    "drop_na_full = drop_na_full.dropna()"
   ]
  },
  {
   "cell_type": "code",
   "execution_count": null,
   "metadata": {},
   "outputs": [],
   "source": [
    "x = drop_na_full[[' Mona Follow up Needed', 'Mona Case Type Identification',\n",
    "    'Screening Stage','In IRAP Process','First Referral','Flags',\n",
    "          'Field:Medical Needs Score','Field:LPPN Score']]"
   ]
  },
  {
   "cell_type": "code",
   "execution_count": null,
   "metadata": {},
   "outputs": [],
   "source": [
    "y = drop_na_full[\"Vulnerability Threshold\"]"
   ]
  },
  {
   "cell_type": "code",
   "execution_count": null,
   "metadata": {},
   "outputs": [],
   "source": [
    "logi = LogisticRegression(solver='lbfgs')\n",
    "logi.fit(x,y)"
   ]
  },
  {
   "cell_type": "markdown",
   "metadata": {},
   "source": [
    "#### Logistic"
   ]
  },
  {
   "cell_type": "code",
   "execution_count": null,
   "metadata": {},
   "outputs": [],
   "source": [
    "sorted(pearson_time, key=lambda a: abs(a[0]), reverse=True)"
   ]
  },
  {
   "cell_type": "code",
   "execution_count": null,
   "metadata": {},
   "outputs": [],
   "source": [
    "sorted(list(zip(logi.coef_[0],x.columns)), key=lambda a: abs(a[0]), reverse=True)"
   ]
  },
  {
   "cell_type": "markdown",
   "metadata": {},
   "source": [
    "#### Random Forest"
   ]
  },
  {
   "cell_type": "code",
   "execution_count": null,
   "metadata": {
    "scrolled": true
   },
   "outputs": [],
   "source": [
    "rf = RandomForestClassifier()\n",
    "rf.fit(x,y)\n",
    "sorted(list(zip(rf.feature_importances_,x.columns)),reverse=True)"
   ]
  },
  {
   "cell_type": "markdown",
   "metadata": {},
   "source": [
    "### Now on \"processing time\""
   ]
  },
  {
   "cell_type": "markdown",
   "metadata": {},
   "source": [
    "#### Pearsons"
   ]
  },
  {
   "cell_type": "code",
   "execution_count": null,
   "metadata": {},
   "outputs": [],
   "source": [
    "corr = full[['Field:Medical Needs Score','Field:LPPN Score']].dropna()\n",
    "pearsonr(corr['Field:Medical Needs Score'],corr['Field:LPPN Score'])"
   ]
  },
  {
   "cell_type": "code",
   "execution_count": null,
   "metadata": {},
   "outputs": [],
   "source": [
    "plt.scatter(corr['Field:Medical Needs Score'],corr['Field:LPPN Score'],alpha=0.1)\n",
    "plt.show()"
   ]
  },
  {
   "cell_type": "code",
   "execution_count": null,
   "metadata": {},
   "outputs": [],
   "source": [
    "corr2 = full[['Field:LPPN Score','process_days']].dropna()\n",
    "pearsonr(corr2['Field:LPPN Score'],corr2['process_days'])"
   ]
  },
  {
   "cell_type": "code",
   "execution_count": null,
   "metadata": {},
   "outputs": [],
   "source": [
    "corr2 = full[['Field:Medical Needs Score','process_days']].dropna()\n",
    "pearsonr(corr2['Field:Medical Needs Score'],corr2['process_days'])"
   ]
  },
  {
   "cell_type": "code",
   "execution_count": null,
   "metadata": {},
   "outputs": [],
   "source": [
    "corr2['Field:Medical Needs Score']"
   ]
  },
  {
   "cell_type": "code",
   "execution_count": null,
   "metadata": {},
   "outputs": [],
   "source": [
    "plt.scatter(corr2['Field:Medical Needs Score'],corr2['process_days'],alpha=0.1)\n",
    "plt.ylim(-2,)\n",
    "plt.show()"
   ]
  },
  {
   "cell_type": "code",
   "execution_count": null,
   "metadata": {},
   "outputs": [],
   "source": [
    "def find_pearson_time(var,df_name):\n",
    "    df = df_name[[var,'process_days']].dropna()\n",
    "    p = pearsonr(df[var],df['process_days'])\n",
    "#     print(var)\n",
    "#     print(\"PEARSON: {:.5f} p-value: {:.5f}\".format(p[0],p[1]))\n",
    "    return(p[0])\n",
    "    "
   ]
  },
  {
   "cell_type": "code",
   "execution_count": null,
   "metadata": {},
   "outputs": [],
   "source": [
    "def find_pearson_thresh(var,df_name):\n",
    "    df = df_name[[var,'Vulnerability Threshold']].dropna()\n",
    "    p = pearsonr(df[var],df['Vulnerability Threshold'])\n",
    "#     print(var)\n",
    "#     print(\"PEARSON: {:.5f} p-value: {:.5f}\".format(p[0],p[1]))\n",
    "    return(p[0])\n",
    "    "
   ]
  },
  {
   "cell_type": "code",
   "execution_count": null,
   "metadata": {},
   "outputs": [],
   "source": [
    "find_pearson_time('Field:Medical Needs Score',multiple_vars)"
   ]
  },
  {
   "cell_type": "code",
   "execution_count": null,
   "metadata": {},
   "outputs": [],
   "source": [
    "multiple_vars.columns"
   ]
  },
  {
   "cell_type": "code",
   "execution_count": null,
   "metadata": {},
   "outputs": [],
   "source": [
    "pearson_time = []\n",
    "for i in ['Vulnerability Threshold', 'Field:Age', 'Field:Gender',\n",
    "       'Field:LPPN Score', 'Field:Medical Condition Assessment',\n",
    "       'Field:Medical Condition Score', 'Field:Medical Condition 1 Score',\n",
    "       'Field:Medical Condition 2 Score', 'Field:Medical Condition 3 Score',\n",
    "       'Field:Medical Needs Score', 'Field:Years in Current Country',\n",
    "       'nationality_Iraqi', 'nationality_Syrian', 'curr_country_Egypt',\n",
    "       'curr_country_Iraq', 'curr_country_Lebanon',\n",
    "       'curr_country_Saudi Arabia', 'curr_country_Syria',\n",
    "       'curr_country_Turkey']:\n",
    "    pearson_time.append((find_pearson_time(i,multiple_vars),i))\n",
    "sorted(pearson_time, key=lambda a: abs(a[0]), reverse=True)"
   ]
  },
  {
   "cell_type": "code",
   "execution_count": null,
   "metadata": {},
   "outputs": [],
   "source": [
    "pearson_thresh = []\n",
    "for i in ['process_days', 'Field:Age', 'Field:Gender',\n",
    "       'Field:LPPN Score', 'Field:Medical Condition Assessment',\n",
    "       'Field:Medical Condition Score', 'Field:Medical Condition 1 Score',\n",
    "       'Field:Medical Condition 2 Score', 'Field:Medical Condition 3 Score',\n",
    "       'Field:Medical Needs Score', 'Field:Years in Current Country',\n",
    "       'nationality_Iraqi', 'nationality_Syrian', 'curr_country_Egypt',\n",
    "       'curr_country_Iraq', 'curr_country_Lebanon',\n",
    "       'curr_country_Saudi Arabia', 'curr_country_Syria',\n",
    "       'curr_country_Turkey']:\n",
    "    pearson_thresh.append((find_pearson_thresh(i,multiple_vars),i))\n",
    "sorted(pearson_thresh, key=lambda a: abs(a[0]), reverse=True)"
   ]
  },
  {
   "cell_type": "markdown",
   "metadata": {},
   "source": [
    "#### Regression"
   ]
  },
  {
   "cell_type": "code",
   "execution_count": null,
   "metadata": {},
   "outputs": [],
   "source": [
    "x = multiple_vars.drop('Vulnerability Threshold',axis=1)"
   ]
  },
  {
   "cell_type": "code",
   "execution_count": null,
   "metadata": {},
   "outputs": [],
   "source": [
    "y = multiple_vars['Vulnerability Threshold']"
   ]
  },
  {
   "cell_type": "code",
   "execution_count": null,
   "metadata": {},
   "outputs": [],
   "source": [
    "x2 = multiple_vars.drop('process_days',axis=1)"
   ]
  },
  {
   "cell_type": "code",
   "execution_count": null,
   "metadata": {},
   "outputs": [],
   "source": [
    "y2 = multiple_vars['process_days']"
   ]
  },
  {
   "cell_type": "code",
   "execution_count": null,
   "metadata": {},
   "outputs": [],
   "source": [
    "logi = LogisticRegression(solver='lbfgs',max_iter=10000)\n",
    "logi.fit(x,y)\n",
    "logi2 = LogisticRegression(solver='lbfgs',max_iter=10000)\n",
    "logi2.fit(x2,y2)"
   ]
  },
  {
   "cell_type": "markdown",
   "metadata": {},
   "source": [
    "#### Logistic (vulnerability)"
   ]
  },
  {
   "cell_type": "code",
   "execution_count": null,
   "metadata": {},
   "outputs": [],
   "source": [
    "sorted(list(zip(logi.coef_[0],x.columns)), key=lambda a: abs(a[0]), reverse=True)"
   ]
  },
  {
   "cell_type": "markdown",
   "metadata": {},
   "source": [
    "#### Logistic (process days)"
   ]
  },
  {
   "cell_type": "code",
   "execution_count": null,
   "metadata": {},
   "outputs": [],
   "source": [
    "sorted(list(zip(logi2.coef_[0],x2.columns)), key=lambda a: abs(a[0]), reverse=True)"
   ]
  },
  {
   "cell_type": "markdown",
   "metadata": {},
   "source": [
    "#### Random Forest  (vulnerability)"
   ]
  },
  {
   "cell_type": "code",
   "execution_count": null,
   "metadata": {
    "scrolled": false
   },
   "outputs": [],
   "source": [
    "rf = RandomForestClassifier()\n",
    "rf.fit(x,y)\n",
    "sorted(list(zip(rf.feature_importances_,x.columns)),reverse=True)"
   ]
  },
  {
   "cell_type": "markdown",
   "metadata": {},
   "source": [
    "#### Random Forest  (process days)"
   ]
  },
  {
   "cell_type": "code",
   "execution_count": null,
   "metadata": {
    "scrolled": false
   },
   "outputs": [],
   "source": [
    "rf = RandomForestClassifier()\n",
    "rf.fit(x2,y2)\n",
    "sorted(list(zip(rf.feature_importances_,x.columns)),reverse=True)"
   ]
  },
  {
   "cell_type": "code",
   "execution_count": null,
   "metadata": {},
   "outputs": [],
   "source": []
  }
 ],
 "metadata": {
  "kernelspec": {
   "display_name": "Python 3",
   "language": "python",
   "name": "python3"
  },
  "language_info": {
   "codemirror_mode": {
    "name": "ipython",
    "version": 3
   },
   "file_extension": ".py",
   "mimetype": "text/x-python",
   "name": "python",
   "nbconvert_exporter": "python",
   "pygments_lexer": "ipython3",
   "version": "3.7.5"
  }
 },
 "nbformat": 4,
 "nbformat_minor": 2
}

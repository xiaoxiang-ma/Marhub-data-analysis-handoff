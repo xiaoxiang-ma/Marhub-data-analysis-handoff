{
 "cells": [
  {
   "cell_type": "markdown",
   "metadata": {},
   "source": [
    "## Irap & Mona data merge, 2nd EDA with statsmodel"
   ]
  },
  {
   "cell_type": "code",
   "execution_count": 1,
   "metadata": {},
   "outputs": [],
   "source": [
    "import numpy as np\n",
    "import pandas as pd\n",
    "import matplotlib.pyplot as plt \n",
    "from scipy.stats import pearsonr\n",
    "from sklearn.linear_model import LogisticRegression "
   ]
  },
  {
   "cell_type": "markdown",
   "metadata": {},
   "source": [
    "#### import and merge data"
   ]
  },
  {
   "cell_type": "code",
   "execution_count": 2,
   "metadata": {},
   "outputs": [],
   "source": [
    "path = \"../Final Soft Launch Results/Current Source Data/\""
   ]
  },
  {
   "cell_type": "code",
   "execution_count": 3,
   "metadata": {},
   "outputs": [],
   "source": [
    "d1=\"Data from IRAP 01072020.xlsx\"\n",
    "d2=\"Merge for Vulnerability Screening.xlsx\"\n",
    "d3=\"Raw Data from Mona 01172020.xlsx\""
   ]
  },
  {
   "cell_type": "code",
   "execution_count": 4,
   "metadata": {},
   "outputs": [],
   "source": [
    "irap = pd.read_excel (path+d1)\n",
    "mona = pd.read_excel (path+d3)"
   ]
  },
  {
   "cell_type": "code",
   "execution_count": 5,
   "metadata": {},
   "outputs": [],
   "source": [
    "irap['process_days'] = irap['Date of Screening Decision']-irap['Date of Screening Start']\n",
    "irap['process_days'] = irap['process_days'].astype('timedelta64[D]')\n",
    "irap['process_daysA'] = irap['Date of Screening Start']-irap['Date of Referral']\n",
    "irap['process_daysA'] = irap['process_daysA'].astype('timedelta64[D]')\n",
    "irap['process_daysC'] = irap['Date of Screening Decision']-irap['Date of Referral']\n",
    "irap['process_daysC'] = irap['process_daysC'].astype('timedelta64[D]')"
   ]
  },
  {
   "cell_type": "code",
   "execution_count": 6,
   "metadata": {},
   "outputs": [
    {
     "data": {
      "text/plain": [
       "['Date of Referral', 'Date of Screening Start', 'Date of Screening Decision']"
      ]
     },
     "execution_count": 6,
     "metadata": {},
     "output_type": "execute_result"
    }
   ],
   "source": [
    "filter_col = [col for col in irap if col.startswith('Date')]\n",
    "filter_col"
   ]
  },
  {
   "cell_type": "code",
   "execution_count": 7,
   "metadata": {},
   "outputs": [],
   "source": [
    "mona = mona.rename({'Contact UUID': 'Mona Unique User ID'}, axis=1)"
   ]
  },
  {
   "cell_type": "code",
   "execution_count": 99,
   "metadata": {},
   "outputs": [],
   "source": [
    "full = pd.merge(irap, mona, on='Mona Unique User ID',how=\"outer\").dropna(axis=1, how='all')"
   ]
  },
  {
   "cell_type": "code",
   "execution_count": 100,
   "metadata": {},
   "outputs": [
    {
     "data": {
      "text/plain": [
       "(7676, 339)"
      ]
     },
     "execution_count": 100,
     "metadata": {},
     "output_type": "execute_result"
    }
   ],
   "source": [
    "full.shape"
   ]
  },
  {
   "cell_type": "code",
   "execution_count": 101,
   "metadata": {},
   "outputs": [],
   "source": [
    "full['Field:Gender'].replace(('Male', 'Female'), (1, 0), inplace=True)\n",
    "full['Vulnerability Threshold'].replace(('Above', 'Below'), (1, 0), inplace=True)"
   ]
  },
  {
   "cell_type": "code",
   "execution_count": 102,
   "metadata": {},
   "outputs": [],
   "source": [
    "def one_hot(dataframe,column_name):\n",
    "    gen_onehot_features = pd.get_dummies(dataframe[column_name])\n",
    "    result = pd.concat([dataframe, gen_onehot_features],axis=1)\n",
    "    return result"
   ]
  },
  {
   "cell_type": "code",
   "execution_count": 103,
   "metadata": {},
   "outputs": [],
   "source": [
    "full['Field:Nationality1'] = 'nationality_' + full['Field:Nationality1']\n",
    "full = one_hot(full,'Field:Nationality1')\n"
   ]
  },
  {
   "cell_type": "code",
   "execution_count": 104,
   "metadata": {},
   "outputs": [],
   "source": [
    "full['Field:Current Country'] = 'curr_country_' + full['Field:Current Country']\n",
    "full = one_hot(full,'Field:Current Country')"
   ]
  },
  {
   "cell_type": "code",
   "execution_count": 105,
   "metadata": {},
   "outputs": [],
   "source": [
    "numeric = full.select_dtypes(exclude=['object','datetime64[ns]'])"
   ]
  },
  {
   "cell_type": "code",
   "execution_count": 106,
   "metadata": {},
   "outputs": [
    {
     "data": {
      "text/html": [
       "<div>\n",
       "<style scoped>\n",
       "    .dataframe tbody tr th:only-of-type {\n",
       "        vertical-align: middle;\n",
       "    }\n",
       "\n",
       "    .dataframe tbody tr th {\n",
       "        vertical-align: top;\n",
       "    }\n",
       "\n",
       "    .dataframe thead th {\n",
       "        text-align: right;\n",
       "    }\n",
       "</style>\n",
       "<table border=\"1\" class=\"dataframe\">\n",
       "  <thead>\n",
       "    <tr style=\"text-align: right;\">\n",
       "      <th></th>\n",
       "      <th>Mona Unique Session ID</th>\n",
       "      <th>Mona Unique User ID</th>\n",
       "      <th>Created on</th>\n",
       "      <th>Created by</th>\n",
       "      <th>Pipeline</th>\n",
       "      <th>Date of Referral</th>\n",
       "      <th>First Referral</th>\n",
       "      <th>In IRAP Process</th>\n",
       "      <th>Screening Stage</th>\n",
       "      <th>Screener</th>\n",
       "      <th>...</th>\n",
       "      <th>curr_country_the United States</th>\n",
       "      <th>curr_country_أوكرانيا</th>\n",
       "      <th>curr_country_إيطاليا</th>\n",
       "      <th>curr_country_اليونان</th>\n",
       "      <th>curr_country_جزيرة كوس اليونان</th>\n",
       "      <th>curr_country_جورجيا تبليسي</th>\n",
       "      <th>curr_country_قطاع غزة</th>\n",
       "      <th>curr_country_كندا</th>\n",
       "      <th>curr_country_نعم أنا في إيطاليا</th>\n",
       "      <th>curr_country_يونان</th>\n",
       "    </tr>\n",
       "  </thead>\n",
       "  <tbody>\n",
       "    <tr>\n",
       "      <th>0</th>\n",
       "      <td>ce81140c-7083-4463-90ed-ad36d1a41011.2019-07-2...</td>\n",
       "      <td>ce81140c-7083-4463-90ed-ad36d1a41011</td>\n",
       "      <td>2019-12-11 06:02:17</td>\n",
       "      <td>Brooke Sauro</td>\n",
       "      <td>Mona</td>\n",
       "      <td>2019-07-25</td>\n",
       "      <td>No</td>\n",
       "      <td>No</td>\n",
       "      <td>Screening Complete</td>\n",
       "      <td>Michaela Gallien</td>\n",
       "      <td>...</td>\n",
       "      <td>0</td>\n",
       "      <td>0</td>\n",
       "      <td>0</td>\n",
       "      <td>0</td>\n",
       "      <td>0</td>\n",
       "      <td>0</td>\n",
       "      <td>0</td>\n",
       "      <td>0</td>\n",
       "      <td>0</td>\n",
       "      <td>0</td>\n",
       "    </tr>\n",
       "    <tr>\n",
       "      <th>1</th>\n",
       "      <td>92952aa434524f549543d3fcc79054fe20190804T02434...</td>\n",
       "      <td>92952aa4-3452-4f54-9543-d3fcc79054fe</td>\n",
       "      <td>2019-12-11 06:02:17</td>\n",
       "      <td>Brooke Sauro</td>\n",
       "      <td>Mona</td>\n",
       "      <td>2019-08-03</td>\n",
       "      <td>No</td>\n",
       "      <td>Yes</td>\n",
       "      <td>Screening Complete</td>\n",
       "      <td>Manal ElKhoury</td>\n",
       "      <td>...</td>\n",
       "      <td>0</td>\n",
       "      <td>0</td>\n",
       "      <td>0</td>\n",
       "      <td>0</td>\n",
       "      <td>0</td>\n",
       "      <td>0</td>\n",
       "      <td>0</td>\n",
       "      <td>0</td>\n",
       "      <td>0</td>\n",
       "      <td>0</td>\n",
       "    </tr>\n",
       "    <tr>\n",
       "      <th>2</th>\n",
       "      <td>92952aa434524f549543d3fcc79054fe20190806T11414...</td>\n",
       "      <td>92952aa4-3452-4f54-9543-d3fcc79054fe</td>\n",
       "      <td>2019-10-07 08:21:12</td>\n",
       "      <td>Brooke Sauro</td>\n",
       "      <td>Mona</td>\n",
       "      <td>2019-08-08</td>\n",
       "      <td>Yes</td>\n",
       "      <td>No</td>\n",
       "      <td>Screening</td>\n",
       "      <td>Manal ElKhoury</td>\n",
       "      <td>...</td>\n",
       "      <td>0</td>\n",
       "      <td>0</td>\n",
       "      <td>0</td>\n",
       "      <td>0</td>\n",
       "      <td>0</td>\n",
       "      <td>0</td>\n",
       "      <td>0</td>\n",
       "      <td>0</td>\n",
       "      <td>0</td>\n",
       "      <td>0</td>\n",
       "    </tr>\n",
       "    <tr>\n",
       "      <th>3</th>\n",
       "      <td>8a4a87a6eeeb43019d820644a8a7534620190802T07350...</td>\n",
       "      <td>8a4a87a6-eeeb-4301-9d82-0644a8a75346</td>\n",
       "      <td>2019-12-11 06:02:17</td>\n",
       "      <td>Brooke Sauro</td>\n",
       "      <td>Mona</td>\n",
       "      <td>2019-08-02</td>\n",
       "      <td>No</td>\n",
       "      <td>No</td>\n",
       "      <td>Screening</td>\n",
       "      <td>Tiba Fatli</td>\n",
       "      <td>...</td>\n",
       "      <td>0</td>\n",
       "      <td>0</td>\n",
       "      <td>0</td>\n",
       "      <td>0</td>\n",
       "      <td>0</td>\n",
       "      <td>0</td>\n",
       "      <td>0</td>\n",
       "      <td>0</td>\n",
       "      <td>0</td>\n",
       "      <td>0</td>\n",
       "    </tr>\n",
       "    <tr>\n",
       "      <th>4</th>\n",
       "      <td>758240c9578a4e29b66bd1d95de9cdc620190802T21293...</td>\n",
       "      <td>758240c9-578a-4e29-b66b-d1d95de9cdc6</td>\n",
       "      <td>2019-12-11 06:02:17</td>\n",
       "      <td>Brooke Sauro</td>\n",
       "      <td>Mona</td>\n",
       "      <td>2019-08-02</td>\n",
       "      <td>No</td>\n",
       "      <td>No</td>\n",
       "      <td>Screening Complete</td>\n",
       "      <td>Tania El Khoury</td>\n",
       "      <td>...</td>\n",
       "      <td>0</td>\n",
       "      <td>0</td>\n",
       "      <td>0</td>\n",
       "      <td>0</td>\n",
       "      <td>0</td>\n",
       "      <td>0</td>\n",
       "      <td>0</td>\n",
       "      <td>0</td>\n",
       "      <td>0</td>\n",
       "      <td>0</td>\n",
       "    </tr>\n",
       "  </tbody>\n",
       "</table>\n",
       "<p>5 rows × 374 columns</p>\n",
       "</div>"
      ],
      "text/plain": [
       "                              Mona Unique Session ID  \\\n",
       "0  ce81140c-7083-4463-90ed-ad36d1a41011.2019-07-2...   \n",
       "1  92952aa434524f549543d3fcc79054fe20190804T02434...   \n",
       "2  92952aa434524f549543d3fcc79054fe20190806T11414...   \n",
       "3  8a4a87a6eeeb43019d820644a8a7534620190802T07350...   \n",
       "4  758240c9578a4e29b66bd1d95de9cdc620190802T21293...   \n",
       "\n",
       "                    Mona Unique User ID          Created on    Created by  \\\n",
       "0  ce81140c-7083-4463-90ed-ad36d1a41011 2019-12-11 06:02:17  Brooke Sauro   \n",
       "1  92952aa4-3452-4f54-9543-d3fcc79054fe 2019-12-11 06:02:17  Brooke Sauro   \n",
       "2  92952aa4-3452-4f54-9543-d3fcc79054fe 2019-10-07 08:21:12  Brooke Sauro   \n",
       "3  8a4a87a6-eeeb-4301-9d82-0644a8a75346 2019-12-11 06:02:17  Brooke Sauro   \n",
       "4  758240c9-578a-4e29-b66b-d1d95de9cdc6 2019-12-11 06:02:17  Brooke Sauro   \n",
       "\n",
       "  Pipeline Date of Referral First Referral In IRAP Process  \\\n",
       "0     Mona       2019-07-25             No              No   \n",
       "1     Mona       2019-08-03             No             Yes   \n",
       "2     Mona       2019-08-08            Yes              No   \n",
       "3     Mona       2019-08-02             No              No   \n",
       "4     Mona       2019-08-02             No              No   \n",
       "\n",
       "      Screening Stage          Screener  ... curr_country_the United States  \\\n",
       "0  Screening Complete  Michaela Gallien  ...                              0   \n",
       "1  Screening Complete    Manal ElKhoury  ...                              0   \n",
       "2           Screening    Manal ElKhoury  ...                              0   \n",
       "3           Screening        Tiba Fatli  ...                              0   \n",
       "4  Screening Complete   Tania El Khoury  ...                              0   \n",
       "\n",
       "  curr_country_أوكرانيا curr_country_إيطاليا curr_country_اليونان  \\\n",
       "0                     0                    0                    0   \n",
       "1                     0                    0                    0   \n",
       "2                     0                    0                    0   \n",
       "3                     0                    0                    0   \n",
       "4                     0                    0                    0   \n",
       "\n",
       "  curr_country_جزيرة كوس اليونان curr_country_جورجيا تبليسي  \\\n",
       "0                              0                          0   \n",
       "1                              0                          0   \n",
       "2                              0                          0   \n",
       "3                              0                          0   \n",
       "4                              0                          0   \n",
       "\n",
       "   curr_country_قطاع غزة curr_country_كندا curr_country_نعم أنا في إيطاليا  \\\n",
       "0                      0                 0                               0   \n",
       "1                      0                 0                               0   \n",
       "2                      0                 0                               0   \n",
       "3                      0                 0                               0   \n",
       "4                      0                 0                               0   \n",
       "\n",
       "  curr_country_يونان  \n",
       "0                  0  \n",
       "1                  0  \n",
       "2                  0  \n",
       "3                  0  \n",
       "4                  0  \n",
       "\n",
       "[5 rows x 374 columns]"
      ]
     },
     "execution_count": 106,
     "metadata": {},
     "output_type": "execute_result"
    }
   ],
   "source": [
    "full.head()"
   ]
  },
  {
   "cell_type": "markdown",
   "metadata": {},
   "source": [
    "#### Create processing time related variables"
   ]
  },
  {
   "cell_type": "code",
   "execution_count": 17,
   "metadata": {},
   "outputs": [],
   "source": [
    "def label_process_day_1(row):\n",
    "    if row['process_days'] >= 1 :\n",
    "        return 1\n",
    "    if row['process_days'] == 0 :\n",
    "        return 0\n",
    "    else: return np.nan\n",
    "def label_process_day_7(row):\n",
    "    if row['process_days'] >= 7 :\n",
    "        return 1\n",
    "    if row['process_days'] <7 :\n",
    "        return 0\n",
    "    else: return np.nan\n",
    "def label_process_dayA_1(row):\n",
    "    if row['process_daysA'] >= 1 :\n",
    "        return 1\n",
    "    if row['process_daysA'] == 0 :\n",
    "        return 0\n",
    "    else: return np.nan\n",
    "def label_process_dayC_1(row):\n",
    "    if row['process_daysC'] >= 1 :\n",
    "        return 1\n",
    "    if row['process_daysC'] == 0 :\n",
    "        return 0\n",
    "    else: return np.nan"
   ]
  },
  {
   "cell_type": "code",
   "execution_count": 18,
   "metadata": {},
   "outputs": [],
   "source": [
    "# result['process_day_>=1'] = result['process_days']>=1\n",
    "# result['process_day_>=1'] *=1\n",
    "# result['process_day_>=7'] = result['process_days']>=7\n",
    "# result['process_day_>=7'] *=1"
   ]
  },
  {
   "cell_type": "code",
   "execution_count": 19,
   "metadata": {},
   "outputs": [],
   "source": [
    "result['process_day_>=1'] = result.apply (lambda row: label_process_day_1(row), axis=1)\n",
    "result['process_day_>=7'] = result.apply (lambda row: label_process_day_7(row), axis=1)"
   ]
  },
  {
   "cell_type": "code",
   "execution_count": 20,
   "metadata": {},
   "outputs": [],
   "source": [
    "result['process_dayA_>=1'] = result.apply (lambda row: label_process_dayA_1(row), axis=1)\n",
    "result['process_dayC_>=1'] = result.apply (lambda row: label_process_dayC_1(row), axis=1)"
   ]
  },
  {
   "cell_type": "code",
   "execution_count": 21,
   "metadata": {},
   "outputs": [],
   "source": [
    "full['process_day_>=1'] = full.apply (lambda row: label_process_day_1(row), axis=1)\n",
    "full['process_day_>=7'] = full.apply (lambda row: label_process_day_7(row), axis=1)\n",
    "full['process_dayA_>=1'] = full.apply (lambda row: label_process_dayA_1(row), axis=1)\n",
    "full['process_dayC_>=1'] = full.apply (lambda row: label_process_dayC_1(row), axis=1)\n",
    "full['Medical_X_LPPN'] = full['Field:Medical Needs Score'] * full['Field:LPPN Score']"
   ]
  },
  {
   "cell_type": "markdown",
   "metadata": {},
   "source": [
    "### Look into potential interaction effect between Medical and LPPN"
   ]
  },
  {
   "cell_type": "code",
   "execution_count": 22,
   "metadata": {},
   "outputs": [],
   "source": [
    "interaction = result[['process_days','Field:Medical Needs Score','Field:LPPN Score']]"
   ]
  },
  {
   "cell_type": "code",
   "execution_count": 23,
   "metadata": {},
   "outputs": [
    {
     "name": "stderr",
     "output_type": "stream",
     "text": [
      "/Users/xiaoxiangma/anaconda3/lib/python3.7/site-packages/ipykernel_launcher.py:1: SettingWithCopyWarning: \n",
      "A value is trying to be set on a copy of a slice from a DataFrame.\n",
      "Try using .loc[row_indexer,col_indexer] = value instead\n",
      "\n",
      "See the caveats in the documentation: https://pandas.pydata.org/pandas-docs/stable/user_guide/indexing.html#returning-a-view-versus-a-copy\n",
      "  \"\"\"Entry point for launching an IPython kernel.\n"
     ]
    }
   ],
   "source": [
    "interaction['Medical_X_LPPN'] = interaction['Field:Medical Needs Score'] * interaction['Field:LPPN Score']"
   ]
  },
  {
   "cell_type": "code",
   "execution_count": 24,
   "metadata": {},
   "outputs": [
    {
     "name": "stderr",
     "output_type": "stream",
     "text": [
      "/Users/xiaoxiangma/anaconda3/lib/python3.7/site-packages/ipykernel_launcher.py:1: SettingWithCopyWarning: \n",
      "A value is trying to be set on a copy of a slice from a DataFrame.\n",
      "Try using .loc[row_indexer,col_indexer] = value instead\n",
      "\n",
      "See the caveats in the documentation: https://pandas.pydata.org/pandas-docs/stable/user_guide/indexing.html#returning-a-view-versus-a-copy\n",
      "  \"\"\"Entry point for launching an IPython kernel.\n",
      "/Users/xiaoxiangma/anaconda3/lib/python3.7/site-packages/ipykernel_launcher.py:2: SettingWithCopyWarning: \n",
      "A value is trying to be set on a copy of a slice from a DataFrame.\n",
      "Try using .loc[row_indexer,col_indexer] = value instead\n",
      "\n",
      "See the caveats in the documentation: https://pandas.pydata.org/pandas-docs/stable/user_guide/indexing.html#returning-a-view-versus-a-copy\n",
      "  \n",
      "/Users/xiaoxiangma/anaconda3/lib/python3.7/site-packages/ipykernel_launcher.py:3: SettingWithCopyWarning: \n",
      "A value is trying to be set on a copy of a slice from a DataFrame.\n",
      "Try using .loc[row_indexer,col_indexer] = value instead\n",
      "\n",
      "See the caveats in the documentation: https://pandas.pydata.org/pandas-docs/stable/user_guide/indexing.html#returning-a-view-versus-a-copy\n",
      "  This is separate from the ipykernel package so we can avoid doing imports until\n",
      "/Users/xiaoxiangma/anaconda3/lib/python3.7/site-packages/ipykernel_launcher.py:4: SettingWithCopyWarning: \n",
      "A value is trying to be set on a copy of a slice from a DataFrame.\n",
      "Try using .loc[row_indexer,col_indexer] = value instead\n",
      "\n",
      "See the caveats in the documentation: https://pandas.pydata.org/pandas-docs/stable/user_guide/indexing.html#returning-a-view-versus-a-copy\n",
      "  after removing the cwd from sys.path.\n"
     ]
    }
   ],
   "source": [
    "interaction['process_day_>=1'] = interaction['process_days']>=1\n",
    "interaction['process_day_>=1'] *=1\n",
    "interaction['process_day_>=7'] = interaction['process_days']>=7\n",
    "interaction['process_day_>=7'] *=1"
   ]
  },
  {
   "cell_type": "code",
   "execution_count": 25,
   "metadata": {},
   "outputs": [
    {
     "data": {
      "text/html": [
       "<div>\n",
       "<style scoped>\n",
       "    .dataframe tbody tr th:only-of-type {\n",
       "        vertical-align: middle;\n",
       "    }\n",
       "\n",
       "    .dataframe tbody tr th {\n",
       "        vertical-align: top;\n",
       "    }\n",
       "\n",
       "    .dataframe thead th {\n",
       "        text-align: right;\n",
       "    }\n",
       "</style>\n",
       "<table border=\"1\" class=\"dataframe\">\n",
       "  <thead>\n",
       "    <tr style=\"text-align: right;\">\n",
       "      <th></th>\n",
       "      <th>process_days</th>\n",
       "      <th>Field:Medical Needs Score</th>\n",
       "      <th>Field:LPPN Score</th>\n",
       "      <th>Medical_X_LPPN</th>\n",
       "      <th>process_day_&gt;=1</th>\n",
       "      <th>process_day_&gt;=7</th>\n",
       "    </tr>\n",
       "  </thead>\n",
       "  <tbody>\n",
       "    <tr>\n",
       "      <th>3</th>\n",
       "      <td>0.0</td>\n",
       "      <td>0.0</td>\n",
       "      <td>0.0</td>\n",
       "      <td>0.0</td>\n",
       "      <td>0</td>\n",
       "      <td>0</td>\n",
       "    </tr>\n",
       "    <tr>\n",
       "      <th>5</th>\n",
       "      <td>0.0</td>\n",
       "      <td>0.0</td>\n",
       "      <td>0.0</td>\n",
       "      <td>0.0</td>\n",
       "      <td>0</td>\n",
       "      <td>0</td>\n",
       "    </tr>\n",
       "    <tr>\n",
       "      <th>7</th>\n",
       "      <td>0.0</td>\n",
       "      <td>0.0</td>\n",
       "      <td>0.0</td>\n",
       "      <td>0.0</td>\n",
       "      <td>0</td>\n",
       "      <td>0</td>\n",
       "    </tr>\n",
       "    <tr>\n",
       "      <th>13</th>\n",
       "      <td>26.0</td>\n",
       "      <td>5.0</td>\n",
       "      <td>3.0</td>\n",
       "      <td>15.0</td>\n",
       "      <td>1</td>\n",
       "      <td>1</td>\n",
       "    </tr>\n",
       "    <tr>\n",
       "      <th>16</th>\n",
       "      <td>30.0</td>\n",
       "      <td>0.0</td>\n",
       "      <td>0.0</td>\n",
       "      <td>0.0</td>\n",
       "      <td>1</td>\n",
       "      <td>1</td>\n",
       "    </tr>\n",
       "  </tbody>\n",
       "</table>\n",
       "</div>"
      ],
      "text/plain": [
       "    process_days  Field:Medical Needs Score  Field:LPPN Score  Medical_X_LPPN  \\\n",
       "3            0.0                        0.0               0.0             0.0   \n",
       "5            0.0                        0.0               0.0             0.0   \n",
       "7            0.0                        0.0               0.0             0.0   \n",
       "13          26.0                        5.0               3.0            15.0   \n",
       "16          30.0                        0.0               0.0             0.0   \n",
       "\n",
       "    process_day_>=1  process_day_>=7  \n",
       "3                 0                0  \n",
       "5                 0                0  \n",
       "7                 0                0  \n",
       "13                1                1  \n",
       "16                1                1  "
      ]
     },
     "execution_count": 25,
     "metadata": {},
     "output_type": "execute_result"
    }
   ],
   "source": [
    "interaction = interaction.dropna()\n",
    "interaction.head()"
   ]
  },
  {
   "cell_type": "code",
   "execution_count": 26,
   "metadata": {},
   "outputs": [],
   "source": [
    "X = interaction[['Field:Medical Needs Score', 'Field:LPPN Score',\n",
    "       'Medical_X_LPPN']]\n",
    "X2 = interaction[['Field:Medical Needs Score', 'Field:LPPN Score']]\n",
    "y1 = interaction['process_day_>=1']\n",
    "y7 = interaction['process_day_>=7']"
   ]
  },
  {
   "cell_type": "markdown",
   "metadata": {},
   "source": [
    "#### It turns out that the product of Medical and LPPN scores are much more relevant than the sum, or the individual predictors"
   ]
  },
  {
   "cell_type": "code",
   "execution_count": 27,
   "metadata": {},
   "outputs": [
    {
     "name": "stdout",
     "output_type": "stream",
     "text": [
      "Optimization terminated successfully.\n",
      "         Current function value: 0.662010\n",
      "         Iterations 5\n",
      "                           Logit Regression Results                           \n",
      "==============================================================================\n",
      "Dep. Variable:        process_day_>=1   No. Observations:                  358\n",
      "Model:                          Logit   Df Residuals:                      355\n",
      "Method:                           MLE   Df Model:                            2\n",
      "Date:                Mon, 13 Apr 2020   Pseudo R-squ.:                -0.03796\n",
      "Time:                        13:40:38   Log-Likelihood:                -237.00\n",
      "converged:                       True   LL-Null:                       -228.33\n",
      "Covariance Type:            nonrobust   LLR p-value:                     1.000\n",
      "=============================================================================================\n",
      "                                coef    std err          z      P>|z|      [0.025      0.975]\n",
      "---------------------------------------------------------------------------------------------\n",
      "Field:Medical Needs Score    -0.2116      0.053     -3.960      0.000      -0.316      -0.107\n",
      "Field:LPPN Score             -0.1057      0.053     -2.005      0.045      -0.209      -0.002\n",
      "Medical_X_LPPN                0.0670      0.017      4.009      0.000       0.034       0.100\n",
      "=============================================================================================\n"
     ]
    }
   ],
   "source": [
    "import statsmodels.api as sm\n",
    "# logit_model=sm.Logit(y1,X)\n",
    "process_day1=sm.Logit(y1,X).fit(maxiter=1000)\n",
    "print(process_day1.summary())\n"
   ]
  },
  {
   "cell_type": "code",
   "execution_count": 28,
   "metadata": {
    "scrolled": true
   },
   "outputs": [
    {
     "name": "stdout",
     "output_type": "stream",
     "text": [
      "Optimization terminated successfully.\n",
      "         Current function value: 0.628652\n",
      "         Iterations 5\n",
      "                           Logit Regression Results                           \n",
      "==============================================================================\n",
      "Dep. Variable:        process_day_>=7   No. Observations:                  358\n",
      "Model:                          Logit   Df Residuals:                      355\n",
      "Method:                           MLE   Df Model:                            2\n",
      "Date:                Mon, 13 Apr 2020   Pseudo R-squ.:                -0.09746\n",
      "Time:                        13:40:38   Log-Likelihood:                -225.06\n",
      "converged:                       True   LL-Null:                       -205.07\n",
      "Covariance Type:            nonrobust   LLR p-value:                     1.000\n",
      "=============================================================================================\n",
      "                                coef    std err          z      P>|z|      [0.025      0.975]\n",
      "---------------------------------------------------------------------------------------------\n",
      "Field:Medical Needs Score    -0.2423      0.055     -4.381      0.000      -0.351      -0.134\n",
      "Field:LPPN Score             -0.2659      0.063     -4.218      0.000      -0.389      -0.142\n",
      "Medical_X_LPPN                0.0898      0.018      4.994      0.000       0.055       0.125\n",
      "=============================================================================================\n"
     ]
    }
   ],
   "source": [
    "process_day7=sm.Logit(y7,X).fit()\n",
    "print(process_day7.summary())"
   ]
  },
  {
   "cell_type": "code",
   "execution_count": 29,
   "metadata": {},
   "outputs": [
    {
     "name": "stdout",
     "output_type": "stream",
     "text": [
      "Optimization terminated successfully.\n",
      "         Current function value: 0.685613\n",
      "         Iterations 4\n",
      "                           Logit Regression Results                           \n",
      "==============================================================================\n",
      "Dep. Variable:        process_day_>=1   No. Observations:                  358\n",
      "Model:                          Logit   Df Residuals:                      356\n",
      "Method:                           MLE   Df Model:                            1\n",
      "Date:                Mon, 13 Apr 2020   Pseudo R-squ.:                -0.07497\n",
      "Time:                        13:40:38   Log-Likelihood:                -245.45\n",
      "converged:                       True   LL-Null:                       -228.33\n",
      "Covariance Type:            nonrobust   LLR p-value:                     1.000\n",
      "=============================================================================================\n",
      "                                coef    std err          z      P>|z|      [0.025      0.975]\n",
      "---------------------------------------------------------------------------------------------\n",
      "Field:Medical Needs Score    -0.0848      0.040     -2.134      0.033      -0.163      -0.007\n",
      "Field:LPPN Score              0.0221      0.040      0.545      0.586      -0.057       0.101\n",
      "=============================================================================================\n"
     ]
    }
   ],
   "source": [
    "# import statsmodels.api as sm\n",
    "# logit_model=sm.Logit(y1,X)\n",
    "process_day1=sm.Logit(y1,X2).fit(maxiter=10000)\n",
    "print(process_day1.summary())\n"
   ]
  },
  {
   "cell_type": "code",
   "execution_count": 30,
   "metadata": {
    "scrolled": false
   },
   "outputs": [
    {
     "name": "stdout",
     "output_type": "stream",
     "text": [
      "Optimization terminated successfully.\n",
      "         Current function value: 0.666810\n",
      "         Iterations 4\n",
      "                           Logit Regression Results                           \n",
      "==============================================================================\n",
      "Dep. Variable:        process_day_>=7   No. Observations:                  358\n",
      "Model:                          Logit   Df Residuals:                      356\n",
      "Method:                           MLE   Df Model:                            1\n",
      "Date:                Mon, 13 Apr 2020   Pseudo R-squ.:                 -0.1641\n",
      "Time:                        13:40:38   Log-Likelihood:                -238.72\n",
      "converged:                       True   LL-Null:                       -205.07\n",
      "Covariance Type:            nonrobust   LLR p-value:                     1.000\n",
      "=============================================================================================\n",
      "                                coef    std err          z      P>|z|      [0.025      0.975]\n",
      "---------------------------------------------------------------------------------------------\n",
      "Field:Medical Needs Score    -0.0832      0.040     -2.061      0.039      -0.162      -0.004\n",
      "Field:LPPN Score             -0.0788      0.042     -1.890      0.059      -0.160       0.003\n",
      "=============================================================================================\n"
     ]
    }
   ],
   "source": [
    "process_day7=sm.Logit(y7,X2).fit()\n",
    "print(process_day7.summary())"
   ]
  },
  {
   "cell_type": "markdown",
   "metadata": {},
   "source": [
    "### Medical or LPPN score above threshold"
   ]
  },
  {
   "cell_type": "markdown",
   "metadata": {},
   "source": [
    "#### Crosstab"
   ]
  },
  {
   "cell_type": "code",
   "execution_count": 32,
   "metadata": {},
   "outputs": [],
   "source": [
    "result['Medical_OR_LPPN_Abovethresh'] = np.where( (result[\"Field:Medical Needs Score\"] >=5)  | (result[\"Field:LPPN Score\"] >=5), \"Above\", \"Below\")\n"
   ]
  },
  {
   "cell_type": "code",
   "execution_count": 33,
   "metadata": {},
   "outputs": [
    {
     "data": {
      "text/html": [
       "<div>\n",
       "<style scoped>\n",
       "    .dataframe tbody tr th:only-of-type {\n",
       "        vertical-align: middle;\n",
       "    }\n",
       "\n",
       "    .dataframe tbody tr th {\n",
       "        vertical-align: top;\n",
       "    }\n",
       "\n",
       "    .dataframe thead th {\n",
       "        text-align: right;\n",
       "    }\n",
       "</style>\n",
       "<table border=\"1\" class=\"dataframe\">\n",
       "  <thead>\n",
       "    <tr style=\"text-align: right;\">\n",
       "      <th>Vulnerability Threshold</th>\n",
       "      <th>Above</th>\n",
       "      <th>Below</th>\n",
       "    </tr>\n",
       "    <tr>\n",
       "      <th>Medical_OR_LPPN_Abovethresh</th>\n",
       "      <th></th>\n",
       "      <th></th>\n",
       "    </tr>\n",
       "  </thead>\n",
       "  <tbody>\n",
       "    <tr>\n",
       "      <th>Above</th>\n",
       "      <td>8</td>\n",
       "      <td>163</td>\n",
       "    </tr>\n",
       "    <tr>\n",
       "      <th>Below</th>\n",
       "      <td>7</td>\n",
       "      <td>542</td>\n",
       "    </tr>\n",
       "  </tbody>\n",
       "</table>\n",
       "</div>"
      ],
      "text/plain": [
       "Vulnerability Threshold      Above  Below\n",
       "Medical_OR_LPPN_Abovethresh              \n",
       "Above                            8    163\n",
       "Below                            7    542"
      ]
     },
     "execution_count": 33,
     "metadata": {},
     "output_type": "execute_result"
    }
   ],
   "source": [
    "pd.crosstab(result['Medical_OR_LPPN_Abovethresh'],result['Vulnerability Threshold'],margins = False)"
   ]
  },
  {
   "cell_type": "code",
   "execution_count": 34,
   "metadata": {},
   "outputs": [
    {
     "data": {
      "text/html": [
       "<div>\n",
       "<style scoped>\n",
       "    .dataframe tbody tr th:only-of-type {\n",
       "        vertical-align: middle;\n",
       "    }\n",
       "\n",
       "    .dataframe tbody tr th {\n",
       "        vertical-align: top;\n",
       "    }\n",
       "\n",
       "    .dataframe thead th {\n",
       "        text-align: right;\n",
       "    }\n",
       "</style>\n",
       "<table border=\"1\" class=\"dataframe\">\n",
       "  <thead>\n",
       "    <tr style=\"text-align: right;\">\n",
       "      <th></th>\n",
       "      <th>Mona Unique Session ID</th>\n",
       "      <th>Mona Unique User ID</th>\n",
       "      <th>Created on</th>\n",
       "      <th>Created by</th>\n",
       "      <th>Pipeline</th>\n",
       "      <th>Date of Referral</th>\n",
       "      <th>First Referral</th>\n",
       "      <th>In IRAP Process</th>\n",
       "      <th>Screening Stage</th>\n",
       "      <th>Screener</th>\n",
       "      <th>...</th>\n",
       "      <th>process_days</th>\n",
       "      <th>process_daysA</th>\n",
       "      <th>process_daysC</th>\n",
       "      <th>Field:Medical Needs Score</th>\n",
       "      <th>Field:LPPN Score</th>\n",
       "      <th>process_day_&gt;=1</th>\n",
       "      <th>process_day_&gt;=7</th>\n",
       "      <th>process_dayA_&gt;=1</th>\n",
       "      <th>process_dayC_&gt;=1</th>\n",
       "      <th>Medical_OR_LPPN_Abovethresh</th>\n",
       "    </tr>\n",
       "  </thead>\n",
       "  <tbody>\n",
       "    <tr>\n",
       "      <th>358</th>\n",
       "      <td>cf9221c73c564d7b93fc0eb2a400d52e20190805T16361...</td>\n",
       "      <td>cf9221c7-3c56-4d7b-93fc-0eb2a400d52e</td>\n",
       "      <td>2019-10-17 05:27:13</td>\n",
       "      <td>Brooke Sauro</td>\n",
       "      <td>Mona</td>\n",
       "      <td>2019-08-05</td>\n",
       "      <td>Yes</td>\n",
       "      <td>No</td>\n",
       "      <td>Screening Complete</td>\n",
       "      <td>Tiba Fatli</td>\n",
       "      <td>...</td>\n",
       "      <td>7.0</td>\n",
       "      <td>115.0</td>\n",
       "      <td>122.0</td>\n",
       "      <td>5.0</td>\n",
       "      <td>6.0</td>\n",
       "      <td>1.0</td>\n",
       "      <td>1.0</td>\n",
       "      <td>1.0</td>\n",
       "      <td>1.0</td>\n",
       "      <td>Above</td>\n",
       "    </tr>\n",
       "    <tr>\n",
       "      <th>361</th>\n",
       "      <td>c1c0741a-5110-419a-aaa0-b4f8d8bc0ada.2019-07-2...</td>\n",
       "      <td>c1c0741a-5110-419a-aaa0-b4f8d8bc0ada</td>\n",
       "      <td>2019-10-17 05:27:12</td>\n",
       "      <td>Brooke Sauro</td>\n",
       "      <td>Mona</td>\n",
       "      <td>2019-07-29</td>\n",
       "      <td>Yes</td>\n",
       "      <td>No</td>\n",
       "      <td>Screening Complete</td>\n",
       "      <td>Tiba Fatli</td>\n",
       "      <td>...</td>\n",
       "      <td>16.0</td>\n",
       "      <td>106.0</td>\n",
       "      <td>122.0</td>\n",
       "      <td>6.0</td>\n",
       "      <td>6.0</td>\n",
       "      <td>1.0</td>\n",
       "      <td>1.0</td>\n",
       "      <td>1.0</td>\n",
       "      <td>1.0</td>\n",
       "      <td>Above</td>\n",
       "    </tr>\n",
       "    <tr>\n",
       "      <th>406</th>\n",
       "      <td>a373b632294c40ffbe1f36e54b48fb2b20190802T23075...</td>\n",
       "      <td>a373b632-294c-40ff-be1f-36e54b48fb2b</td>\n",
       "      <td>2019-10-07 08:23:44</td>\n",
       "      <td>Brooke Sauro</td>\n",
       "      <td>Mona</td>\n",
       "      <td>2019-08-03</td>\n",
       "      <td>Yes</td>\n",
       "      <td>No</td>\n",
       "      <td>Screening Complete</td>\n",
       "      <td>Manal ElKhoury</td>\n",
       "      <td>...</td>\n",
       "      <td>12.0</td>\n",
       "      <td>117.0</td>\n",
       "      <td>129.0</td>\n",
       "      <td>5.0</td>\n",
       "      <td>NaN</td>\n",
       "      <td>1.0</td>\n",
       "      <td>1.0</td>\n",
       "      <td>1.0</td>\n",
       "      <td>1.0</td>\n",
       "      <td>Above</td>\n",
       "    </tr>\n",
       "    <tr>\n",
       "      <th>459</th>\n",
       "      <td>e4beefb1-cdb3-415a-b557-672bc70829ce.2019-07-2...</td>\n",
       "      <td>e4beefb1-cdb3-415a-b557-672bc70829ce</td>\n",
       "      <td>2019-10-07 08:23:23</td>\n",
       "      <td>Brooke Sauro</td>\n",
       "      <td>Mona</td>\n",
       "      <td>2019-07-25</td>\n",
       "      <td>Yes</td>\n",
       "      <td>No</td>\n",
       "      <td>Screening Complete</td>\n",
       "      <td>Tania El Khoury</td>\n",
       "      <td>...</td>\n",
       "      <td>134.0</td>\n",
       "      <td>3.0</td>\n",
       "      <td>137.0</td>\n",
       "      <td>0.0</td>\n",
       "      <td>6.0</td>\n",
       "      <td>1.0</td>\n",
       "      <td>1.0</td>\n",
       "      <td>1.0</td>\n",
       "      <td>1.0</td>\n",
       "      <td>Above</td>\n",
       "    </tr>\n",
       "    <tr>\n",
       "      <th>520</th>\n",
       "      <td>c13fb63772754238ba8be4e3fd10b0a020190730T21454...</td>\n",
       "      <td>c13fb637-7275-4238-ba8b-e4e3fd10b0a0</td>\n",
       "      <td>2019-10-07 08:23:01</td>\n",
       "      <td>Brooke Sauro</td>\n",
       "      <td>Mona</td>\n",
       "      <td>2019-07-30</td>\n",
       "      <td>Yes</td>\n",
       "      <td>No</td>\n",
       "      <td>Screening Complete</td>\n",
       "      <td>Michaela Gallien</td>\n",
       "      <td>...</td>\n",
       "      <td>7.0</td>\n",
       "      <td>36.0</td>\n",
       "      <td>43.0</td>\n",
       "      <td>5.0</td>\n",
       "      <td>0.0</td>\n",
       "      <td>1.0</td>\n",
       "      <td>1.0</td>\n",
       "      <td>1.0</td>\n",
       "      <td>1.0</td>\n",
       "      <td>Above</td>\n",
       "    </tr>\n",
       "    <tr>\n",
       "      <th>623</th>\n",
       "      <td>63b4f019973146c68bd1ee2c66d3047b20190801T01161...</td>\n",
       "      <td>63b4f019-9731-46c6-8bd1-ee2c66d3047b</td>\n",
       "      <td>2019-10-07 08:22:30</td>\n",
       "      <td>Brooke Sauro</td>\n",
       "      <td>Mona</td>\n",
       "      <td>2019-07-25</td>\n",
       "      <td>Yes</td>\n",
       "      <td>No</td>\n",
       "      <td>Screening Complete</td>\n",
       "      <td>Tiba Fatli</td>\n",
       "      <td>...</td>\n",
       "      <td>31.0</td>\n",
       "      <td>102.0</td>\n",
       "      <td>133.0</td>\n",
       "      <td>6.0</td>\n",
       "      <td>6.0</td>\n",
       "      <td>1.0</td>\n",
       "      <td>1.0</td>\n",
       "      <td>1.0</td>\n",
       "      <td>1.0</td>\n",
       "      <td>Above</td>\n",
       "    </tr>\n",
       "    <tr>\n",
       "      <th>686</th>\n",
       "      <td>fca5a901-9974-48e0-a3d9-627f699e5905.2019-07-2...</td>\n",
       "      <td>fca5a901-9974-48e0-a3d9-627f699e5905</td>\n",
       "      <td>2019-10-07 08:22:10</td>\n",
       "      <td>Brooke Sauro</td>\n",
       "      <td>Mona</td>\n",
       "      <td>2019-07-28</td>\n",
       "      <td>Yes</td>\n",
       "      <td>No</td>\n",
       "      <td>Screening</td>\n",
       "      <td>Tania El Khoury</td>\n",
       "      <td>...</td>\n",
       "      <td>NaN</td>\n",
       "      <td>10.0</td>\n",
       "      <td>NaN</td>\n",
       "      <td>5.0</td>\n",
       "      <td>6.0</td>\n",
       "      <td>NaN</td>\n",
       "      <td>NaN</td>\n",
       "      <td>1.0</td>\n",
       "      <td>NaN</td>\n",
       "      <td>Above</td>\n",
       "    </tr>\n",
       "    <tr>\n",
       "      <th>716</th>\n",
       "      <td>b96ddbddb762459bbc2aa23213d0ce9c20190731T01193...</td>\n",
       "      <td>b96ddbdd-b762-459b-bc2a-a23213d0ce9c</td>\n",
       "      <td>2019-10-07 08:21:46</td>\n",
       "      <td>Brooke Sauro</td>\n",
       "      <td>Mona</td>\n",
       "      <td>2019-07-31</td>\n",
       "      <td>Yes</td>\n",
       "      <td>No</td>\n",
       "      <td>Screening</td>\n",
       "      <td>Tania El Khoury</td>\n",
       "      <td>...</td>\n",
       "      <td>NaN</td>\n",
       "      <td>49.0</td>\n",
       "      <td>NaN</td>\n",
       "      <td>5.0</td>\n",
       "      <td>0.0</td>\n",
       "      <td>NaN</td>\n",
       "      <td>NaN</td>\n",
       "      <td>1.0</td>\n",
       "      <td>NaN</td>\n",
       "      <td>Above</td>\n",
       "    </tr>\n",
       "  </tbody>\n",
       "</table>\n",
       "<p>8 rows × 32 columns</p>\n",
       "</div>"
      ],
      "text/plain": [
       "                                Mona Unique Session ID  \\\n",
       "358  cf9221c73c564d7b93fc0eb2a400d52e20190805T16361...   \n",
       "361  c1c0741a-5110-419a-aaa0-b4f8d8bc0ada.2019-07-2...   \n",
       "406  a373b632294c40ffbe1f36e54b48fb2b20190802T23075...   \n",
       "459  e4beefb1-cdb3-415a-b557-672bc70829ce.2019-07-2...   \n",
       "520  c13fb63772754238ba8be4e3fd10b0a020190730T21454...   \n",
       "623  63b4f019973146c68bd1ee2c66d3047b20190801T01161...   \n",
       "686  fca5a901-9974-48e0-a3d9-627f699e5905.2019-07-2...   \n",
       "716  b96ddbddb762459bbc2aa23213d0ce9c20190731T01193...   \n",
       "\n",
       "                      Mona Unique User ID          Created on    Created by  \\\n",
       "358  cf9221c7-3c56-4d7b-93fc-0eb2a400d52e 2019-10-17 05:27:13  Brooke Sauro   \n",
       "361  c1c0741a-5110-419a-aaa0-b4f8d8bc0ada 2019-10-17 05:27:12  Brooke Sauro   \n",
       "406  a373b632-294c-40ff-be1f-36e54b48fb2b 2019-10-07 08:23:44  Brooke Sauro   \n",
       "459  e4beefb1-cdb3-415a-b557-672bc70829ce 2019-10-07 08:23:23  Brooke Sauro   \n",
       "520  c13fb637-7275-4238-ba8b-e4e3fd10b0a0 2019-10-07 08:23:01  Brooke Sauro   \n",
       "623  63b4f019-9731-46c6-8bd1-ee2c66d3047b 2019-10-07 08:22:30  Brooke Sauro   \n",
       "686  fca5a901-9974-48e0-a3d9-627f699e5905 2019-10-07 08:22:10  Brooke Sauro   \n",
       "716  b96ddbdd-b762-459b-bc2a-a23213d0ce9c 2019-10-07 08:21:46  Brooke Sauro   \n",
       "\n",
       "    Pipeline Date of Referral First Referral In IRAP Process  \\\n",
       "358     Mona       2019-08-05            Yes              No   \n",
       "361     Mona       2019-07-29            Yes              No   \n",
       "406     Mona       2019-08-03            Yes              No   \n",
       "459     Mona       2019-07-25            Yes              No   \n",
       "520     Mona       2019-07-30            Yes              No   \n",
       "623     Mona       2019-07-25            Yes              No   \n",
       "686     Mona       2019-07-28            Yes              No   \n",
       "716     Mona       2019-07-31            Yes              No   \n",
       "\n",
       "        Screening Stage          Screener  ... process_days process_daysA  \\\n",
       "358  Screening Complete        Tiba Fatli  ...          7.0         115.0   \n",
       "361  Screening Complete        Tiba Fatli  ...         16.0         106.0   \n",
       "406  Screening Complete    Manal ElKhoury  ...         12.0         117.0   \n",
       "459  Screening Complete   Tania El Khoury  ...        134.0           3.0   \n",
       "520  Screening Complete  Michaela Gallien  ...          7.0          36.0   \n",
       "623  Screening Complete        Tiba Fatli  ...         31.0         102.0   \n",
       "686           Screening   Tania El Khoury  ...          NaN          10.0   \n",
       "716           Screening   Tania El Khoury  ...          NaN          49.0   \n",
       "\n",
       "    process_daysC Field:Medical Needs Score Field:LPPN Score process_day_>=1  \\\n",
       "358         122.0                       5.0              6.0             1.0   \n",
       "361         122.0                       6.0              6.0             1.0   \n",
       "406         129.0                       5.0              NaN             1.0   \n",
       "459         137.0                       0.0              6.0             1.0   \n",
       "520          43.0                       5.0              0.0             1.0   \n",
       "623         133.0                       6.0              6.0             1.0   \n",
       "686           NaN                       5.0              6.0             NaN   \n",
       "716           NaN                       5.0              0.0             NaN   \n",
       "\n",
       "    process_day_>=7 process_dayA_>=1 process_dayC_>=1  \\\n",
       "358             1.0              1.0              1.0   \n",
       "361             1.0              1.0              1.0   \n",
       "406             1.0              1.0              1.0   \n",
       "459             1.0              1.0              1.0   \n",
       "520             1.0              1.0              1.0   \n",
       "623             1.0              1.0              1.0   \n",
       "686             NaN              1.0              NaN   \n",
       "716             NaN              1.0              NaN   \n",
       "\n",
       "    Medical_OR_LPPN_Abovethresh  \n",
       "358                       Above  \n",
       "361                       Above  \n",
       "406                       Above  \n",
       "459                       Above  \n",
       "520                       Above  \n",
       "623                       Above  \n",
       "686                       Above  \n",
       "716                       Above  \n",
       "\n",
       "[8 rows x 32 columns]"
      ]
     },
     "execution_count": 34,
     "metadata": {},
     "output_type": "execute_result"
    }
   ],
   "source": [
    "result[(result['Medical_OR_LPPN_Abovethresh']==\"Above\") & (result['Vulnerability Threshold']==\"Above\") ]"
   ]
  },
  {
   "cell_type": "code",
   "execution_count": 35,
   "metadata": {},
   "outputs": [
    {
     "name": "stdout",
     "output_type": "stream",
     "text": [
      "cf9221c73c564d7b93fc0eb2a400d52e20190805T1636113377840300\n",
      "c1c0741a-5110-419a-aaa0-b4f8d8bc0ada.2019-07-29T04:08:40.308165+03:00\n",
      "a373b632294c40ffbe1f36e54b48fb2b20190802T2307590342660300\n",
      "e4beefb1-cdb3-415a-b557-672bc70829ce.2019-07-26T10:45:40.495406+03:00\n",
      "c13fb63772754238ba8be4e3fd10b0a020190730T2145464433810300\n",
      "63b4f019973146c68bd1ee2c66d3047b20190801T0116171295330300\n",
      "fca5a901-9974-48e0-a3d9-627f699e5905.2019-07-29T00:08:15.243443+03:00\n",
      "b96ddbddb762459bbc2aa23213d0ce9c20190731T0119372916290300\n"
     ]
    }
   ],
   "source": [
    "for i in result[(result['Medical_OR_LPPN_Abovethresh']==\"Above\") & (result['Vulnerability Threshold']==\"Above\") ]['Mona Unique Session ID']:\n",
    "    print(i)"
   ]
  },
  {
   "cell_type": "code",
   "execution_count": 36,
   "metadata": {},
   "outputs": [
    {
     "data": {
      "text/plain": [
       "Below    102\n",
       "Above      8\n",
       "Name: Vulnerability Threshold, dtype: int64"
      ]
     },
     "execution_count": 36,
     "metadata": {},
     "output_type": "execute_result"
    }
   ],
   "source": [
    "result[(result['Client Location (Country)']==\"Lebanon\") & (result['Client Nationality']==\"Syrian\") \n",
    "       & (result['First Referral']==\"Yes\") & (result['In IRAP Process']==\"No\") \n",
    "      & (result['Medical_OR_LPPN_Abovethresh']==\"Above\")]['Vulnerability Threshold'].value_counts()"
   ]
  },
  {
   "cell_type": "markdown",
   "metadata": {},
   "source": [
    "### Process days distribution"
   ]
  },
  {
   "cell_type": "code",
   "execution_count": 37,
   "metadata": {},
   "outputs": [
    {
     "data": {
      "text/plain": [
       "0.0    705\n",
       "1.0     15\n",
       "Name: Vulnerability Threshold, dtype: int64"
      ]
     },
     "execution_count": 37,
     "metadata": {},
     "output_type": "execute_result"
    }
   ],
   "source": [
    "full['Vulnerability Threshold'].value_counts()"
   ]
  },
  {
   "cell_type": "code",
   "execution_count": 38,
   "metadata": {},
   "outputs": [],
   "source": [
    "full = full[full['process_days'] >= 0]\n",
    "full = full[full['process_daysA'] >= 0]\n",
    "full = full[full['process_daysC'] >= 0]"
   ]
  },
  {
   "cell_type": "code",
   "execution_count": 39,
   "metadata": {},
   "outputs": [
    {
     "data": {
      "text/plain": [
       "(769, 339)"
      ]
     },
     "execution_count": 39,
     "metadata": {},
     "output_type": "execute_result"
    }
   ],
   "source": [
    "full.shape"
   ]
  },
  {
   "cell_type": "code",
   "execution_count": 40,
   "metadata": {},
   "outputs": [
    {
     "data": {
      "text/plain": [
       "(692, 339)"
      ]
     },
     "execution_count": 40,
     "metadata": {},
     "output_type": "execute_result"
    }
   ],
   "source": [
    "full_filtered = full.dropna(subset=['Vulnerability Threshold'])\n",
    "# full_filtered = full_filtered(full_filtered['Vulnerability Threshold']>=0)\n",
    "full_filtered.shape"
   ]
  },
  {
   "cell_type": "code",
   "execution_count": 41,
   "metadata": {},
   "outputs": [
    {
     "data": {
      "image/png": "[encoded data removed]",
      "text/plain": [
       "<Figure size 432x288 with 1 Axes>"
      ]
     },
     "metadata": {
      "needs_background": "light"
     },
     "output_type": "display_data"
    },
    {
     "data": {
      "image/png": "[encoded data removed]",
      "text/plain": [
       "<Figure size 432x288 with 1 Axes>"
      ]
     },
     "metadata": {
      "needs_background": "light"
     },
     "output_type": "display_data"
    }
   ],
   "source": [
    "plt.hist(full_filtered['process_days'],bins=40)\n",
    "# plt.xlim(0,)\n",
    "plt.title(\"Histogram of process_days\")\n",
    "plt.show()\n",
    "\n",
    "plt.hist(full_filtered['process_days'],bins=130)\n",
    "plt.xlim(0,15)\n",
    "plt.title(\"Histogram of process_days\")\n",
    "plt.show()"
   ]
  },
  {
   "cell_type": "code",
   "execution_count": 42,
   "metadata": {},
   "outputs": [
    {
     "data": {
      "image/png": "[encoded data removed]",
      "text/plain": [
       "<Figure size 432x288 with 1 Axes>"
      ]
     },
     "metadata": {
      "needs_background": "light"
     },
     "output_type": "display_data"
    },
    {
     "data": {
      "image/png": "[encoded data removed]",
      "text/plain": [
       "<Figure size 432x288 with 1 Axes>"
      ]
     },
     "metadata": {
      "needs_background": "light"
     },
     "output_type": "display_data"
    }
   ],
   "source": [
    "plt.hist(full_filtered['process_daysA'],bins=40)\n",
    "# plt.xlim(0,)\n",
    "plt.title(\"Histogram of process_daysA\")\n",
    "plt.show()\n",
    "\n",
    "plt.hist(full_filtered['process_daysA'],bins=130)\n",
    "plt.xlim(0,15)\n",
    "plt.title(\"Histogram of process_daysA\")\n",
    "plt.show()"
   ]
  },
  {
   "cell_type": "code",
   "execution_count": 43,
   "metadata": {},
   "outputs": [
    {
     "data": {
      "image/png": "[encoded data removed]",
      "text/plain": [
       "<Figure size 432x288 with 1 Axes>"
      ]
     },
     "metadata": {
      "needs_background": "light"
     },
     "output_type": "display_data"
    },
    {
     "data": {
      "image/png": "[encoded data removed]",
      "text/plain": [
       "<Figure size 432x288 with 1 Axes>"
      ]
     },
     "metadata": {
      "needs_background": "light"
     },
     "output_type": "display_data"
    }
   ],
   "source": [
    "plt.hist(full_filtered['process_daysC'],bins=40)\n",
    "# plt.xlim(0,)\n",
    "plt.title(\"Histogram of process_daysC\")\n",
    "plt.show()\n",
    "\n",
    "plt.hist(full_filtered['process_daysC'],bins=130)\n",
    "plt.xlim(0,15)\n",
    "plt.title(\"Histogram of process_daysC\")\n",
    "plt.show()"
   ]
  },
  {
   "cell_type": "markdown",
   "metadata": {},
   "source": [
    "#### Look at all variables"
   ]
  },
  {
   "cell_type": "code",
   "execution_count": 44,
   "metadata": {},
   "outputs": [
    {
     "data": {
      "text/html": [
       "<div>\n",
       "<style scoped>\n",
       "    .dataframe tbody tr th:only-of-type {\n",
       "        vertical-align: middle;\n",
       "    }\n",
       "\n",
       "    .dataframe tbody tr th {\n",
       "        vertical-align: top;\n",
       "    }\n",
       "\n",
       "    .dataframe thead th {\n",
       "        text-align: right;\n",
       "    }\n",
       "</style>\n",
       "<table border=\"1\" class=\"dataframe\">\n",
       "  <thead>\n",
       "    <tr style=\"text-align: right;\">\n",
       "      <th></th>\n",
       "      <th>Field:Age</th>\n",
       "      <th>Field:Gender</th>\n",
       "      <th>Field:Traumatic Incident 1 Assessment</th>\n",
       "      <th>Field:LPPN Score</th>\n",
       "      <th>Field:Medical Needs Score</th>\n",
       "      <th>Field:Years in Current Country</th>\n",
       "      <th>process_day_&gt;=1</th>\n",
       "      <th>process_day_&gt;=7</th>\n",
       "      <th>Medical_X_LPPN</th>\n",
       "    </tr>\n",
       "  </thead>\n",
       "  <tbody>\n",
       "    <tr>\n",
       "      <th>3</th>\n",
       "      <td>33.0</td>\n",
       "      <td>1.0</td>\n",
       "      <td>4.0</td>\n",
       "      <td>0.0</td>\n",
       "      <td>0.0</td>\n",
       "      <td>6.0</td>\n",
       "      <td>0.0</td>\n",
       "      <td>0.0</td>\n",
       "      <td>0.0</td>\n",
       "    </tr>\n",
       "    <tr>\n",
       "      <th>5</th>\n",
       "      <td>44.0</td>\n",
       "      <td>1.0</td>\n",
       "      <td>1.0</td>\n",
       "      <td>0.0</td>\n",
       "      <td>0.0</td>\n",
       "      <td>5.0</td>\n",
       "      <td>0.0</td>\n",
       "      <td>0.0</td>\n",
       "      <td>0.0</td>\n",
       "    </tr>\n",
       "    <tr>\n",
       "      <th>7</th>\n",
       "      <td>30.0</td>\n",
       "      <td>1.0</td>\n",
       "      <td>1.0</td>\n",
       "      <td>0.0</td>\n",
       "      <td>0.0</td>\n",
       "      <td>5.0</td>\n",
       "      <td>0.0</td>\n",
       "      <td>0.0</td>\n",
       "      <td>0.0</td>\n",
       "    </tr>\n",
       "    <tr>\n",
       "      <th>16</th>\n",
       "      <td>41.0</td>\n",
       "      <td>1.0</td>\n",
       "      <td>2.0</td>\n",
       "      <td>0.0</td>\n",
       "      <td>0.0</td>\n",
       "      <td>6.0</td>\n",
       "      <td>1.0</td>\n",
       "      <td>1.0</td>\n",
       "      <td>0.0</td>\n",
       "    </tr>\n",
       "    <tr>\n",
       "      <th>20</th>\n",
       "      <td>23.0</td>\n",
       "      <td>1.0</td>\n",
       "      <td>5.0</td>\n",
       "      <td>4.0</td>\n",
       "      <td>5.0</td>\n",
       "      <td>2.0</td>\n",
       "      <td>0.0</td>\n",
       "      <td>0.0</td>\n",
       "      <td>20.0</td>\n",
       "    </tr>\n",
       "    <tr>\n",
       "      <th>...</th>\n",
       "      <td>...</td>\n",
       "      <td>...</td>\n",
       "      <td>...</td>\n",
       "      <td>...</td>\n",
       "      <td>...</td>\n",
       "      <td>...</td>\n",
       "      <td>...</td>\n",
       "      <td>...</td>\n",
       "      <td>...</td>\n",
       "    </tr>\n",
       "    <tr>\n",
       "      <th>868</th>\n",
       "      <td>36.0</td>\n",
       "      <td>1.0</td>\n",
       "      <td>5.0</td>\n",
       "      <td>1.0</td>\n",
       "      <td>0.0</td>\n",
       "      <td>7.0</td>\n",
       "      <td>1.0</td>\n",
       "      <td>1.0</td>\n",
       "      <td>0.0</td>\n",
       "    </tr>\n",
       "    <tr>\n",
       "      <th>879</th>\n",
       "      <td>40.0</td>\n",
       "      <td>1.0</td>\n",
       "      <td>5.0</td>\n",
       "      <td>4.0</td>\n",
       "      <td>5.0</td>\n",
       "      <td>6.0</td>\n",
       "      <td>0.0</td>\n",
       "      <td>0.0</td>\n",
       "      <td>20.0</td>\n",
       "    </tr>\n",
       "    <tr>\n",
       "      <th>880</th>\n",
       "      <td>29.0</td>\n",
       "      <td>1.0</td>\n",
       "      <td>4.0</td>\n",
       "      <td>0.0</td>\n",
       "      <td>0.0</td>\n",
       "      <td>5.0</td>\n",
       "      <td>0.0</td>\n",
       "      <td>0.0</td>\n",
       "      <td>0.0</td>\n",
       "    </tr>\n",
       "    <tr>\n",
       "      <th>882</th>\n",
       "      <td>28.0</td>\n",
       "      <td>1.0</td>\n",
       "      <td>3.0</td>\n",
       "      <td>0.0</td>\n",
       "      <td>0.0</td>\n",
       "      <td>4.0</td>\n",
       "      <td>1.0</td>\n",
       "      <td>1.0</td>\n",
       "      <td>0.0</td>\n",
       "    </tr>\n",
       "    <tr>\n",
       "      <th>883</th>\n",
       "      <td>33.0</td>\n",
       "      <td>0.0</td>\n",
       "      <td>1.0</td>\n",
       "      <td>0.0</td>\n",
       "      <td>2.0</td>\n",
       "      <td>7.0</td>\n",
       "      <td>1.0</td>\n",
       "      <td>1.0</td>\n",
       "      <td>0.0</td>\n",
       "    </tr>\n",
       "  </tbody>\n",
       "</table>\n",
       "<p>234 rows × 9 columns</p>\n",
       "</div>"
      ],
      "text/plain": [
       "     Field:Age  Field:Gender  Field:Traumatic Incident 1 Assessment  \\\n",
       "3         33.0           1.0                                    4.0   \n",
       "5         44.0           1.0                                    1.0   \n",
       "7         30.0           1.0                                    1.0   \n",
       "16        41.0           1.0                                    2.0   \n",
       "20        23.0           1.0                                    5.0   \n",
       "..         ...           ...                                    ...   \n",
       "868       36.0           1.0                                    5.0   \n",
       "879       40.0           1.0                                    5.0   \n",
       "880       29.0           1.0                                    4.0   \n",
       "882       28.0           1.0                                    3.0   \n",
       "883       33.0           0.0                                    1.0   \n",
       "\n",
       "     Field:LPPN Score  Field:Medical Needs Score  \\\n",
       "3                 0.0                        0.0   \n",
       "5                 0.0                        0.0   \n",
       "7                 0.0                        0.0   \n",
       "16                0.0                        0.0   \n",
       "20                4.0                        5.0   \n",
       "..                ...                        ...   \n",
       "868               1.0                        0.0   \n",
       "879               4.0                        5.0   \n",
       "880               0.0                        0.0   \n",
       "882               0.0                        0.0   \n",
       "883               0.0                        2.0   \n",
       "\n",
       "     Field:Years in Current Country  process_day_>=1  process_day_>=7  \\\n",
       "3                               6.0              0.0              0.0   \n",
       "5                               5.0              0.0              0.0   \n",
       "7                               5.0              0.0              0.0   \n",
       "16                              6.0              1.0              1.0   \n",
       "20                              2.0              0.0              0.0   \n",
       "..                              ...              ...              ...   \n",
       "868                             7.0              1.0              1.0   \n",
       "879                             6.0              0.0              0.0   \n",
       "880                             5.0              0.0              0.0   \n",
       "882                             4.0              1.0              1.0   \n",
       "883                             7.0              1.0              1.0   \n",
       "\n",
       "     Medical_X_LPPN  \n",
       "3               0.0  \n",
       "5               0.0  \n",
       "7               0.0  \n",
       "16              0.0  \n",
       "20             20.0  \n",
       "..              ...  \n",
       "868             0.0  \n",
       "879            20.0  \n",
       "880             0.0  \n",
       "882             0.0  \n",
       "883             0.0  \n",
       "\n",
       "[234 rows x 9 columns]"
      ]
     },
     "execution_count": 44,
     "metadata": {},
     "output_type": "execute_result"
    }
   ],
   "source": [
    "dat = full_filtered.select_dtypes(include=['int','float64'])\n",
    "dat = dat.drop(['process_daysA','process_daysC','process_dayA_>=1','process_dayC_>=1'],axis=1)\n",
    "dat = dat.drop(dat.columns[dat.isnull().mean()>0.6], axis=1).dropna()\n",
    "dat = dat.drop(['Vulnerability Threshold','process_days','URN:Facebook',],axis=1).dropna()\n",
    "dat"
   ]
  },
  {
   "cell_type": "code",
   "execution_count": 45,
   "metadata": {},
   "outputs": [],
   "source": [
    "X = dat.drop(['process_day_>=1','process_day_>=7'],axis=1)\n",
    "y1 = dat['process_day_>=1']\n",
    "# y2 = dat['process_dayA_>=1']\n",
    "# y3 = dat['process_dayC_>=1']\n",
    "\n",
    "y7 = dat[['process_day_>=7']]"
   ]
  },
  {
   "cell_type": "code",
   "execution_count": 46,
   "metadata": {},
   "outputs": [
    {
     "data": {
      "text/html": [
       "<div>\n",
       "<style scoped>\n",
       "    .dataframe tbody tr th:only-of-type {\n",
       "        vertical-align: middle;\n",
       "    }\n",
       "\n",
       "    .dataframe tbody tr th {\n",
       "        vertical-align: top;\n",
       "    }\n",
       "\n",
       "    .dataframe thead th {\n",
       "        text-align: right;\n",
       "    }\n",
       "</style>\n",
       "<table border=\"1\" class=\"dataframe\">\n",
       "  <thead>\n",
       "    <tr style=\"text-align: right;\">\n",
       "      <th></th>\n",
       "      <th>Field:Age</th>\n",
       "      <th>Field:Gender</th>\n",
       "      <th>Field:Traumatic Incident 1 Assessment</th>\n",
       "      <th>Field:LPPN Score</th>\n",
       "      <th>Field:Medical Needs Score</th>\n",
       "      <th>Field:Years in Current Country</th>\n",
       "      <th>Medical_X_LPPN</th>\n",
       "    </tr>\n",
       "  </thead>\n",
       "  <tbody>\n",
       "    <tr>\n",
       "      <th>3</th>\n",
       "      <td>33.0</td>\n",
       "      <td>1.0</td>\n",
       "      <td>4.0</td>\n",
       "      <td>0.0</td>\n",
       "      <td>0.0</td>\n",
       "      <td>6.0</td>\n",
       "      <td>0.0</td>\n",
       "    </tr>\n",
       "    <tr>\n",
       "      <th>5</th>\n",
       "      <td>44.0</td>\n",
       "      <td>1.0</td>\n",
       "      <td>1.0</td>\n",
       "      <td>0.0</td>\n",
       "      <td>0.0</td>\n",
       "      <td>5.0</td>\n",
       "      <td>0.0</td>\n",
       "    </tr>\n",
       "    <tr>\n",
       "      <th>7</th>\n",
       "      <td>30.0</td>\n",
       "      <td>1.0</td>\n",
       "      <td>1.0</td>\n",
       "      <td>0.0</td>\n",
       "      <td>0.0</td>\n",
       "      <td>5.0</td>\n",
       "      <td>0.0</td>\n",
       "    </tr>\n",
       "    <tr>\n",
       "      <th>16</th>\n",
       "      <td>41.0</td>\n",
       "      <td>1.0</td>\n",
       "      <td>2.0</td>\n",
       "      <td>0.0</td>\n",
       "      <td>0.0</td>\n",
       "      <td>6.0</td>\n",
       "      <td>0.0</td>\n",
       "    </tr>\n",
       "    <tr>\n",
       "      <th>20</th>\n",
       "      <td>23.0</td>\n",
       "      <td>1.0</td>\n",
       "      <td>5.0</td>\n",
       "      <td>4.0</td>\n",
       "      <td>5.0</td>\n",
       "      <td>2.0</td>\n",
       "      <td>20.0</td>\n",
       "    </tr>\n",
       "    <tr>\n",
       "      <th>...</th>\n",
       "      <td>...</td>\n",
       "      <td>...</td>\n",
       "      <td>...</td>\n",
       "      <td>...</td>\n",
       "      <td>...</td>\n",
       "      <td>...</td>\n",
       "      <td>...</td>\n",
       "    </tr>\n",
       "    <tr>\n",
       "      <th>868</th>\n",
       "      <td>36.0</td>\n",
       "      <td>1.0</td>\n",
       "      <td>5.0</td>\n",
       "      <td>1.0</td>\n",
       "      <td>0.0</td>\n",
       "      <td>7.0</td>\n",
       "      <td>0.0</td>\n",
       "    </tr>\n",
       "    <tr>\n",
       "      <th>879</th>\n",
       "      <td>40.0</td>\n",
       "      <td>1.0</td>\n",
       "      <td>5.0</td>\n",
       "      <td>4.0</td>\n",
       "      <td>5.0</td>\n",
       "      <td>6.0</td>\n",
       "      <td>20.0</td>\n",
       "    </tr>\n",
       "    <tr>\n",
       "      <th>880</th>\n",
       "      <td>29.0</td>\n",
       "      <td>1.0</td>\n",
       "      <td>4.0</td>\n",
       "      <td>0.0</td>\n",
       "      <td>0.0</td>\n",
       "      <td>5.0</td>\n",
       "      <td>0.0</td>\n",
       "    </tr>\n",
       "    <tr>\n",
       "      <th>882</th>\n",
       "      <td>28.0</td>\n",
       "      <td>1.0</td>\n",
       "      <td>3.0</td>\n",
       "      <td>0.0</td>\n",
       "      <td>0.0</td>\n",
       "      <td>4.0</td>\n",
       "      <td>0.0</td>\n",
       "    </tr>\n",
       "    <tr>\n",
       "      <th>883</th>\n",
       "      <td>33.0</td>\n",
       "      <td>0.0</td>\n",
       "      <td>1.0</td>\n",
       "      <td>0.0</td>\n",
       "      <td>2.0</td>\n",
       "      <td>7.0</td>\n",
       "      <td>0.0</td>\n",
       "    </tr>\n",
       "  </tbody>\n",
       "</table>\n",
       "<p>234 rows × 7 columns</p>\n",
       "</div>"
      ],
      "text/plain": [
       "     Field:Age  Field:Gender  Field:Traumatic Incident 1 Assessment  \\\n",
       "3         33.0           1.0                                    4.0   \n",
       "5         44.0           1.0                                    1.0   \n",
       "7         30.0           1.0                                    1.0   \n",
       "16        41.0           1.0                                    2.0   \n",
       "20        23.0           1.0                                    5.0   \n",
       "..         ...           ...                                    ...   \n",
       "868       36.0           1.0                                    5.0   \n",
       "879       40.0           1.0                                    5.0   \n",
       "880       29.0           1.0                                    4.0   \n",
       "882       28.0           1.0                                    3.0   \n",
       "883       33.0           0.0                                    1.0   \n",
       "\n",
       "     Field:LPPN Score  Field:Medical Needs Score  \\\n",
       "3                 0.0                        0.0   \n",
       "5                 0.0                        0.0   \n",
       "7                 0.0                        0.0   \n",
       "16                0.0                        0.0   \n",
       "20                4.0                        5.0   \n",
       "..                ...                        ...   \n",
       "868               1.0                        0.0   \n",
       "879               4.0                        5.0   \n",
       "880               0.0                        0.0   \n",
       "882               0.0                        0.0   \n",
       "883               0.0                        2.0   \n",
       "\n",
       "     Field:Years in Current Country  Medical_X_LPPN  \n",
       "3                               6.0             0.0  \n",
       "5                               5.0             0.0  \n",
       "7                               5.0             0.0  \n",
       "16                              6.0             0.0  \n",
       "20                              2.0            20.0  \n",
       "..                              ...             ...  \n",
       "868                             7.0             0.0  \n",
       "879                             6.0            20.0  \n",
       "880                             5.0             0.0  \n",
       "882                             4.0             0.0  \n",
       "883                             7.0             0.0  \n",
       "\n",
       "[234 rows x 7 columns]"
      ]
     },
     "execution_count": 46,
     "metadata": {},
     "output_type": "execute_result"
    }
   ],
   "source": [
    "X"
   ]
  },
  {
   "cell_type": "code",
   "execution_count": 49,
   "metadata": {},
   "outputs": [],
   "source": [
    "X2=dat[['Field:Traumatic Incident 1 Assessment']]\n",
    "X3=dat[['Field:Years in Current Country']]"
   ]
  },
  {
   "cell_type": "markdown",
   "metadata": {},
   "source": [
    "#### Select variables using p-value"
   ]
  },
  {
   "cell_type": "code",
   "execution_count": 50,
   "metadata": {},
   "outputs": [],
   "source": [
    "selected_columns= X.columns.values\n",
    "\n",
    "def backwardElimination(x, Y, sl, columns):\n",
    "    numVars = len(x[0])\n",
    "    for i in range(0, numVars):\n",
    "        regressor_Logit = sm.Logit(Y, x).fit(method='bfgs',maxiter=400)\n",
    "        maxVar = max(regressor_Logit.pvalues).astype(float)\n",
    "        if maxVar > sl:\n",
    "            for j in range(0, numVars - i):\n",
    "                if (regressor_Logit.pvalues[j].astype(float) == maxVar):\n",
    "                    x = np.delete(x, j, 1)\n",
    "                    columns = np.delete(columns, j)\n",
    "    regressor_Logit.summary()\n",
    "    return x, columns\n",
    "SL = 0.05\n"
   ]
  },
  {
   "cell_type": "code",
   "execution_count": 51,
   "metadata": {
    "scrolled": true
   },
   "outputs": [
    {
     "name": "stdout",
     "output_type": "stream",
     "text": [
      "Optimization terminated successfully.\n",
      "         Current function value: 0.575223\n",
      "         Iterations: 39\n",
      "         Function evaluations: 43\n",
      "         Gradient evaluations: 43\n",
      "Optimization terminated successfully.\n",
      "         Current function value: 0.575407\n",
      "         Iterations: 38\n",
      "         Function evaluations: 44\n",
      "         Gradient evaluations: 44\n",
      "Optimization terminated successfully.\n",
      "         Current function value: 0.575894\n",
      "         Iterations: 30\n",
      "         Function evaluations: 34\n",
      "         Gradient evaluations: 34\n",
      "Optimization terminated successfully.\n",
      "         Current function value: 0.579517\n",
      "         Iterations: 21\n",
      "         Function evaluations: 27\n",
      "         Gradient evaluations: 27\n",
      "Optimization terminated successfully.\n",
      "         Current function value: 0.583256\n",
      "         Iterations: 25\n",
      "         Function evaluations: 29\n",
      "         Gradient evaluations: 29\n",
      "Optimization terminated successfully.\n",
      "         Current function value: 0.593103\n",
      "         Iterations: 6\n",
      "         Function evaluations: 8\n",
      "         Gradient evaluations: 8\n",
      "Optimization terminated successfully.\n",
      "         Current function value: 0.593103\n",
      "         Iterations: 6\n",
      "         Function evaluations: 8\n",
      "         Gradient evaluations: 8\n",
      "['Field:Traumatic Incident 1 Assessment' 'Field:LPPN Score']\n"
     ]
    }
   ],
   "source": [
    "_, selected_columns = backwardElimination(X.values, y1.values, SL, selected_columns)\n",
    "print(selected_columns)"
   ]
  },
  {
   "cell_type": "markdown",
   "metadata": {},
   "source": [
    "#### Random forest and downsample functions"
   ]
  },
  {
   "cell_type": "code",
   "execution_count": 52,
   "metadata": {},
   "outputs": [],
   "source": [
    "def rforest_100x(depth_upper,x,y,samplemethod):\n",
    "    X_train, X_test, y_train, y_test = samplemethod(x, y)\n",
    "    train_acc=[]\n",
    "    test_acc=[]\n",
    "    depth=[]\n",
    "    auc=[]\n",
    "\n",
    "    for i in np.arange(1,depth_upper,1):\n",
    "        ind_train_acc=[]\n",
    "        ind_test_acc=[]\n",
    "        ind_auc=[]\n",
    "\n",
    "        for k in range(100):\n",
    "            rf=RandomForestClassifier(100, \n",
    "                                      max_depth=i, \n",
    "                                      criterion='gini')\n",
    "            rf.fit(X_train, y_train)\n",
    "            y_true = y_test\n",
    "            y_pred = rf.predict(X_test)\n",
    "            y_pred_proba = rf.predict_proba(X_test)\n",
    "\n",
    "            ind_train_acc.append(np.round(rf.score(X_train, y_train),4))\n",
    "            ind_test_acc.append(rf.score(X_test,y_test))\n",
    "            ind_auc.append(roc_auc_score(y_true, y_pred_proba[:,1]))\n",
    "        \n",
    "        train_acc.append(np.mean(ind_train_acc))\n",
    "        test_acc.append(np.mean(ind_test_acc))\n",
    "        auc.append(np.mean(ind_auc))\n",
    "        depth.append(i)\n",
    "        \n",
    "    plt.plot(depth,train_acc)\n",
    "    plt.plot(depth,test_acc)\n",
    "    plt.plot(depth,auc)\n",
    "\n",
    "\n",
    "    ymax = max(auc)\n",
    "    xpos = auc.index(ymax)\n",
    "    xmax = depth[xpos]\n",
    "    acc = test_acc[xpos]\n",
    "\n",
    "    plt.plot(xmax, ymax, 'g*')\n",
    "    plt.annotate(\"Depth: {}, auc: {:.3f}, test accuracy: {:.3f}\".format(xmax,ymax,acc),\n",
    "                 (xmax, ymax),)\n",
    "    plt.title(\"Random Forest: Depth 1 to {}\".format(depth_upper))\n",
    "\n",
    "    plt.show()\n",
    "\n",
    "#     return(roc[xpos])"
   ]
  },
  {
   "cell_type": "code",
   "execution_count": 53,
   "metadata": {},
   "outputs": [],
   "source": [
    "def downsample_split(X,y):\n",
    "    var= y.name\n",
    "    #combine them for resampling\n",
    "    train_data = pd.concat([X, y], axis=1)\n",
    "    # separate minority and majority classes\n",
    "    negative = train_data[train_data[var]==0]\n",
    "    positive = train_data[train_data[var]==1]\n",
    "\n",
    "    # downsample majority\n",
    "    neg_downsampled = resample(negative,\n",
    "        replace=True, # sample with replacement\n",
    "        n_samples=len(positive), # match number in minority class\n",
    "        ) # reproducible results\n",
    "    \n",
    "    \n",
    "    # combine majority and upsampled minority\n",
    "    upsampled = pd.concat([neg_downsampled, positive])\n",
    "    \n",
    "    X_train, X_test, y_train, y_test = train_test_split( \n",
    "        upsampled.drop(var,axis=1), upsampled[var], stratify=upsampled[var],\n",
    "        test_size=0.33,)\n",
    "    \n",
    "    # check new class counts\n",
    "#     print(y_train.value_counts())\n",
    "\n",
    "    return X_train, X_test, y_train, y_test"
   ]
  },
  {
   "cell_type": "code",
   "execution_count": 54,
   "metadata": {},
   "outputs": [],
   "source": [
    "from sklearn.utils import resample\n",
    "from sklearn.model_selection import train_test_split\n",
    "from sklearn.ensemble import RandomForestClassifier\n",
    "from sklearn.metrics import roc_auc_score, roc_curve, auc\n"
   ]
  },
  {
   "cell_type": "code",
   "execution_count": 55,
   "metadata": {},
   "outputs": [
    {
     "data": {
      "text/plain": [
       "[(0.21631607622633509, 'Field:LPPN Score'),\n",
       " (0.19133234012500855, 'Medical_X_LPPN'),\n",
       " (0.17417105270902933, 'Field:Age'),\n",
       " (0.17340225264334108, 'Field:Years in Current Country'),\n",
       " (0.11759569079086037, 'Field:Medical Needs Score'),\n",
       " (0.08846199089927186, 'Field:Traumatic Incident 1 Assessment'),\n",
       " (0.038720596606153616, 'Field:Gender')]"
      ]
     },
     "execution_count": 55,
     "metadata": {},
     "output_type": "execute_result"
    }
   ],
   "source": [
    "model = RandomForestClassifier(max_depth=4,n_estimators = 64,criterion='gini')\n",
    "model.fit(X,y1)\n",
    "sorted(list(zip(model.feature_importances_,X.columns)), reverse=True)"
   ]
  },
  {
   "cell_type": "code",
   "execution_count": 57,
   "metadata": {},
   "outputs": [
    {
     "data": {
      "text/html": [
       "<div>\n",
       "<style scoped>\n",
       "    .dataframe tbody tr th:only-of-type {\n",
       "        vertical-align: middle;\n",
       "    }\n",
       "\n",
       "    .dataframe tbody tr th {\n",
       "        vertical-align: top;\n",
       "    }\n",
       "\n",
       "    .dataframe thead th {\n",
       "        text-align: right;\n",
       "    }\n",
       "</style>\n",
       "<table border=\"1\" class=\"dataframe\">\n",
       "  <thead>\n",
       "    <tr style=\"text-align: right;\">\n",
       "      <th></th>\n",
       "      <th>Field:Age</th>\n",
       "      <th>Field:Gender</th>\n",
       "      <th>Field:Traumatic Incident 1 Assessment</th>\n",
       "      <th>Field:LPPN Score</th>\n",
       "      <th>Field:Medical Needs Score</th>\n",
       "      <th>Field:Years in Current Country</th>\n",
       "      <th>process_day_&gt;=1</th>\n",
       "      <th>process_day_&gt;=7</th>\n",
       "      <th>process_dayA_&gt;=1</th>\n",
       "      <th>process_dayC_&gt;=1</th>\n",
       "      <th>Medical_X_LPPN</th>\n",
       "    </tr>\n",
       "  </thead>\n",
       "  <tbody>\n",
       "    <tr>\n",
       "      <th>3</th>\n",
       "      <td>33.0</td>\n",
       "      <td>1.0</td>\n",
       "      <td>4.0</td>\n",
       "      <td>0.0</td>\n",
       "      <td>0.0</td>\n",
       "      <td>6.0</td>\n",
       "      <td>0.0</td>\n",
       "      <td>0.0</td>\n",
       "      <td>1.0</td>\n",
       "      <td>1.0</td>\n",
       "      <td>0.0</td>\n",
       "    </tr>\n",
       "    <tr>\n",
       "      <th>5</th>\n",
       "      <td>44.0</td>\n",
       "      <td>1.0</td>\n",
       "      <td>1.0</td>\n",
       "      <td>0.0</td>\n",
       "      <td>0.0</td>\n",
       "      <td>5.0</td>\n",
       "      <td>0.0</td>\n",
       "      <td>0.0</td>\n",
       "      <td>1.0</td>\n",
       "      <td>1.0</td>\n",
       "      <td>0.0</td>\n",
       "    </tr>\n",
       "    <tr>\n",
       "      <th>7</th>\n",
       "      <td>30.0</td>\n",
       "      <td>1.0</td>\n",
       "      <td>1.0</td>\n",
       "      <td>0.0</td>\n",
       "      <td>0.0</td>\n",
       "      <td>5.0</td>\n",
       "      <td>0.0</td>\n",
       "      <td>0.0</td>\n",
       "      <td>1.0</td>\n",
       "      <td>1.0</td>\n",
       "      <td>0.0</td>\n",
       "    </tr>\n",
       "    <tr>\n",
       "      <th>16</th>\n",
       "      <td>41.0</td>\n",
       "      <td>1.0</td>\n",
       "      <td>2.0</td>\n",
       "      <td>0.0</td>\n",
       "      <td>0.0</td>\n",
       "      <td>6.0</td>\n",
       "      <td>1.0</td>\n",
       "      <td>1.0</td>\n",
       "      <td>1.0</td>\n",
       "      <td>1.0</td>\n",
       "      <td>0.0</td>\n",
       "    </tr>\n",
       "    <tr>\n",
       "      <th>20</th>\n",
       "      <td>23.0</td>\n",
       "      <td>1.0</td>\n",
       "      <td>5.0</td>\n",
       "      <td>4.0</td>\n",
       "      <td>5.0</td>\n",
       "      <td>2.0</td>\n",
       "      <td>0.0</td>\n",
       "      <td>0.0</td>\n",
       "      <td>1.0</td>\n",
       "      <td>1.0</td>\n",
       "      <td>20.0</td>\n",
       "    </tr>\n",
       "    <tr>\n",
       "      <th>...</th>\n",
       "      <td>...</td>\n",
       "      <td>...</td>\n",
       "      <td>...</td>\n",
       "      <td>...</td>\n",
       "      <td>...</td>\n",
       "      <td>...</td>\n",
       "      <td>...</td>\n",
       "      <td>...</td>\n",
       "      <td>...</td>\n",
       "      <td>...</td>\n",
       "      <td>...</td>\n",
       "    </tr>\n",
       "    <tr>\n",
       "      <th>868</th>\n",
       "      <td>36.0</td>\n",
       "      <td>1.0</td>\n",
       "      <td>5.0</td>\n",
       "      <td>1.0</td>\n",
       "      <td>0.0</td>\n",
       "      <td>7.0</td>\n",
       "      <td>1.0</td>\n",
       "      <td>1.0</td>\n",
       "      <td>1.0</td>\n",
       "      <td>1.0</td>\n",
       "      <td>0.0</td>\n",
       "    </tr>\n",
       "    <tr>\n",
       "      <th>879</th>\n",
       "      <td>40.0</td>\n",
       "      <td>1.0</td>\n",
       "      <td>5.0</td>\n",
       "      <td>4.0</td>\n",
       "      <td>5.0</td>\n",
       "      <td>6.0</td>\n",
       "      <td>0.0</td>\n",
       "      <td>0.0</td>\n",
       "      <td>1.0</td>\n",
       "      <td>1.0</td>\n",
       "      <td>20.0</td>\n",
       "    </tr>\n",
       "    <tr>\n",
       "      <th>880</th>\n",
       "      <td>29.0</td>\n",
       "      <td>1.0</td>\n",
       "      <td>4.0</td>\n",
       "      <td>0.0</td>\n",
       "      <td>0.0</td>\n",
       "      <td>5.0</td>\n",
       "      <td>0.0</td>\n",
       "      <td>0.0</td>\n",
       "      <td>1.0</td>\n",
       "      <td>1.0</td>\n",
       "      <td>0.0</td>\n",
       "    </tr>\n",
       "    <tr>\n",
       "      <th>882</th>\n",
       "      <td>28.0</td>\n",
       "      <td>1.0</td>\n",
       "      <td>3.0</td>\n",
       "      <td>0.0</td>\n",
       "      <td>0.0</td>\n",
       "      <td>4.0</td>\n",
       "      <td>1.0</td>\n",
       "      <td>1.0</td>\n",
       "      <td>1.0</td>\n",
       "      <td>1.0</td>\n",
       "      <td>0.0</td>\n",
       "    </tr>\n",
       "    <tr>\n",
       "      <th>883</th>\n",
       "      <td>33.0</td>\n",
       "      <td>0.0</td>\n",
       "      <td>1.0</td>\n",
       "      <td>0.0</td>\n",
       "      <td>2.0</td>\n",
       "      <td>7.0</td>\n",
       "      <td>1.0</td>\n",
       "      <td>1.0</td>\n",
       "      <td>1.0</td>\n",
       "      <td>1.0</td>\n",
       "      <td>0.0</td>\n",
       "    </tr>\n",
       "  </tbody>\n",
       "</table>\n",
       "<p>234 rows × 11 columns</p>\n",
       "</div>"
      ],
      "text/plain": [
       "     Field:Age  Field:Gender  Field:Traumatic Incident 1 Assessment  \\\n",
       "3         33.0           1.0                                    4.0   \n",
       "5         44.0           1.0                                    1.0   \n",
       "7         30.0           1.0                                    1.0   \n",
       "16        41.0           1.0                                    2.0   \n",
       "20        23.0           1.0                                    5.0   \n",
       "..         ...           ...                                    ...   \n",
       "868       36.0           1.0                                    5.0   \n",
       "879       40.0           1.0                                    5.0   \n",
       "880       29.0           1.0                                    4.0   \n",
       "882       28.0           1.0                                    3.0   \n",
       "883       33.0           0.0                                    1.0   \n",
       "\n",
       "     Field:LPPN Score  Field:Medical Needs Score  \\\n",
       "3                 0.0                        0.0   \n",
       "5                 0.0                        0.0   \n",
       "7                 0.0                        0.0   \n",
       "16                0.0                        0.0   \n",
       "20                4.0                        5.0   \n",
       "..                ...                        ...   \n",
       "868               1.0                        0.0   \n",
       "879               4.0                        5.0   \n",
       "880               0.0                        0.0   \n",
       "882               0.0                        0.0   \n",
       "883               0.0                        2.0   \n",
       "\n",
       "     Field:Years in Current Country  process_day_>=1  process_day_>=7  \\\n",
       "3                               6.0              0.0              0.0   \n",
       "5                               5.0              0.0              0.0   \n",
       "7                               5.0              0.0              0.0   \n",
       "16                              6.0              1.0              1.0   \n",
       "20                              2.0              0.0              0.0   \n",
       "..                              ...              ...              ...   \n",
       "868                             7.0              1.0              1.0   \n",
       "879                             6.0              0.0              0.0   \n",
       "880                             5.0              0.0              0.0   \n",
       "882                             4.0              1.0              1.0   \n",
       "883                             7.0              1.0              1.0   \n",
       "\n",
       "     process_dayA_>=1  process_dayC_>=1  Medical_X_LPPN  \n",
       "3                 1.0               1.0             0.0  \n",
       "5                 1.0               1.0             0.0  \n",
       "7                 1.0               1.0             0.0  \n",
       "16                1.0               1.0             0.0  \n",
       "20                1.0               1.0            20.0  \n",
       "..                ...               ...             ...  \n",
       "868               1.0               1.0             0.0  \n",
       "879               1.0               1.0            20.0  \n",
       "880               1.0               1.0             0.0  \n",
       "882               1.0               1.0             0.0  \n",
       "883               1.0               1.0             0.0  \n",
       "\n",
       "[234 rows x 11 columns]"
      ]
     },
     "execution_count": 57,
     "metadata": {},
     "output_type": "execute_result"
    }
   ],
   "source": [
    "dat = full_filtered.select_dtypes(include=['int','float64'])\n",
    "dat = dat.drop(['process_daysA','process_daysC'],axis=1)\n",
    "dat = dat.drop(dat.columns[dat.isnull().mean()>0.6], axis=1).dropna()\n",
    "dat = dat.drop(['Vulnerability Threshold','process_days','URN:Facebook',],axis=1).dropna()\n",
    "dat"
   ]
  },
  {
   "cell_type": "code",
   "execution_count": 58,
   "metadata": {},
   "outputs": [],
   "source": [
    "X = dat.drop(['process_day_>=1','process_day_>=7','process_dayA_>=1','process_dayC_>=1'],axis=1)\n",
    "y1 = dat['process_day_>=1']\n",
    "y2 = dat['process_dayA_>=1']\n",
    "y3 = dat['process_dayC_>=1']\n",
    "\n",
    "y7 = dat[['process_day_>=7']]"
   ]
  },
  {
   "cell_type": "markdown",
   "metadata": {},
   "source": [
    "#### Factors that affect process day type A"
   ]
  },
  {
   "cell_type": "code",
   "execution_count": 60,
   "metadata": {
    "scrolled": false
   },
   "outputs": [
    {
     "name": "stdout",
     "output_type": "stream",
     "text": [
      "Warning: Maximum number of iterations has been exceeded.\n",
      "         Current function value: 0.019581\n",
      "         Iterations: 6000\n",
      "                           Logit Regression Results                           \n",
      "==============================================================================\n",
      "Dep. Variable:       process_dayA_>=1   No. Observations:                  234\n",
      "Model:                          Logit   Df Residuals:                      227\n",
      "Method:                           MLE   Df Model:                            6\n",
      "Date:                Mon, 13 Apr 2020   Pseudo R-squ.:                  0.2900\n",
      "Time:                        13:42:30   Log-Likelihood:                -4.5820\n",
      "converged:                      False   LL-Null:                       -6.4532\n",
      "Covariance Type:            nonrobust   LLR p-value:                    0.7115\n",
      "=========================================================================================================\n",
      "                                            coef    std err          z      P>|z|      [0.025      0.975]\n",
      "---------------------------------------------------------------------------------------------------------\n",
      "Field:Age                                 0.2150      0.229      0.938      0.348      -0.234       0.664\n",
      "Field:Gender                             -2.3264      4.249     -0.548      0.584     -10.654       6.001\n",
      "Field:Traumatic Incident 1 Assessment     0.2646      0.655      0.404      0.686      -1.020       1.549\n",
      "Field:LPPN Score                         50.5787   1.85e+07   2.73e-06      1.000   -3.63e+07    3.63e+07\n",
      "Field:Medical Needs Score                22.3433   4.13e+06   5.41e-06      1.000    -8.1e+06     8.1e+06\n",
      "Field:Years in Current Country            0.0634      0.403      0.157      0.875      -0.727       0.853\n",
      "Medical_X_LPPN                          -12.2780   3.01e+06  -4.08e-06      1.000   -5.89e+06    5.89e+06\n",
      "=========================================================================================================\n",
      "\n",
      "Possibly complete quasi-separation: A fraction 0.73 of observations can be\n",
      "perfectly predicted. This might indicate that there is complete\n",
      "quasi-separation. In this case some parameters will not be identified.\n"
     ]
    },
    {
     "name": "stderr",
     "output_type": "stream",
     "text": [
      "/Users/xiaoxiangma/anaconda3/lib/python3.7/site-packages/statsmodels/base/model.py:568: ConvergenceWarning: Maximum Likelihood optimization failed to converge. Check mle_retvals\n",
      "  \"Check mle_retvals\", ConvergenceWarning)\n"
     ]
    }
   ],
   "source": [
    "process_day1=sm.Logit(y2,X).fit(maxiter=6000)\n",
    "print(process_day1.summary())\n"
   ]
  },
  {
   "cell_type": "code",
   "execution_count": 62,
   "metadata": {},
   "outputs": [],
   "source": [
    "X2=dat[['Field:Traumatic Incident 1 Assessment']]\n",
    "X3=dat[['Field:Years in Current Country']]"
   ]
  },
  {
   "cell_type": "code",
   "execution_count": 63,
   "metadata": {},
   "outputs": [],
   "source": [
    "selected_columns= X.columns.values"
   ]
  },
  {
   "cell_type": "code",
   "execution_count": 64,
   "metadata": {
    "scrolled": true
   },
   "outputs": [
    {
     "name": "stderr",
     "output_type": "stream",
     "text": [
      "/Users/xiaoxiangma/anaconda3/lib/python3.7/site-packages/statsmodels/discrete/discrete_model.py:1747: RuntimeWarning: overflow encountered in exp\n",
      "  return 1/(1+np.exp(-X))\n",
      "/Users/xiaoxiangma/anaconda3/lib/python3.7/site-packages/statsmodels/discrete/discrete_model.py:1800: RuntimeWarning: divide by zero encountered in log\n",
      "  return np.sum(np.log(self.cdf(q*np.dot(X,params))))\n",
      "/Users/xiaoxiangma/anaconda3/lib/python3.7/site-packages/statsmodels/discrete/discrete_model.py:1747: RuntimeWarning: overflow encountered in exp\n",
      "  return 1/(1+np.exp(-X))\n",
      "/Users/xiaoxiangma/anaconda3/lib/python3.7/site-packages/statsmodels/discrete/discrete_model.py:1800: RuntimeWarning: divide by zero encountered in log\n",
      "  return np.sum(np.log(self.cdf(q*np.dot(X,params))))\n",
      "/Users/xiaoxiangma/anaconda3/lib/python3.7/site-packages/statsmodels/base/model.py:548: HessianInversionWarning: Inverting hessian failed, no bse or cov_params available\n",
      "  'available', HessianInversionWarning)\n",
      "/Users/xiaoxiangma/anaconda3/lib/python3.7/site-packages/scipy/stats/_distn_infrastructure.py:903: RuntimeWarning: invalid value encountered in greater\n",
      "  return (a < x) & (x < b)\n",
      "/Users/xiaoxiangma/anaconda3/lib/python3.7/site-packages/scipy/stats/_distn_infrastructure.py:903: RuntimeWarning: invalid value encountered in less\n",
      "  return (a < x) & (x < b)\n",
      "/Users/xiaoxiangma/anaconda3/lib/python3.7/site-packages/scipy/stats/_distn_infrastructure.py:1912: RuntimeWarning: invalid value encountered in less_equal\n",
      "  cond2 = cond0 & (x <= _a)\n",
      "/Users/xiaoxiangma/anaconda3/lib/python3.7/site-packages/statsmodels/discrete/discrete_model.py:1747: RuntimeWarning: overflow encountered in exp\n",
      "  return 1/(1+np.exp(-X))\n",
      "/Users/xiaoxiangma/anaconda3/lib/python3.7/site-packages/statsmodels/discrete/discrete_model.py:1800: RuntimeWarning: divide by zero encountered in log\n",
      "  return np.sum(np.log(self.cdf(q*np.dot(X,params))))\n",
      "/Users/xiaoxiangma/anaconda3/lib/python3.7/site-packages/statsmodels/discrete/discrete_model.py:1747: RuntimeWarning: overflow encountered in exp\n",
      "  return 1/(1+np.exp(-X))\n",
      "/Users/xiaoxiangma/anaconda3/lib/python3.7/site-packages/statsmodels/discrete/discrete_model.py:1800: RuntimeWarning: divide by zero encountered in log\n",
      "  return np.sum(np.log(self.cdf(q*np.dot(X,params))))\n",
      "/Users/xiaoxiangma/anaconda3/lib/python3.7/site-packages/statsmodels/base/model.py:548: HessianInversionWarning: Inverting hessian failed, no bse or cov_params available\n",
      "  'available', HessianInversionWarning)\n",
      "/Users/xiaoxiangma/anaconda3/lib/python3.7/site-packages/scipy/stats/_distn_infrastructure.py:903: RuntimeWarning: invalid value encountered in greater\n",
      "  return (a < x) & (x < b)\n",
      "/Users/xiaoxiangma/anaconda3/lib/python3.7/site-packages/scipy/stats/_distn_infrastructure.py:903: RuntimeWarning: invalid value encountered in less\n",
      "  return (a < x) & (x < b)\n",
      "/Users/xiaoxiangma/anaconda3/lib/python3.7/site-packages/scipy/stats/_distn_infrastructure.py:1912: RuntimeWarning: invalid value encountered in less_equal\n",
      "  cond2 = cond0 & (x <= _a)\n",
      "/Users/xiaoxiangma/anaconda3/lib/python3.7/site-packages/statsmodels/discrete/discrete_model.py:1747: RuntimeWarning: overflow encountered in exp\n",
      "  return 1/(1+np.exp(-X))\n",
      "/Users/xiaoxiangma/anaconda3/lib/python3.7/site-packages/statsmodels/discrete/discrete_model.py:1800: RuntimeWarning: divide by zero encountered in log\n",
      "  return np.sum(np.log(self.cdf(q*np.dot(X,params))))\n",
      "/Users/xiaoxiangma/anaconda3/lib/python3.7/site-packages/statsmodels/discrete/discrete_model.py:1747: RuntimeWarning: overflow encountered in exp\n",
      "  return 1/(1+np.exp(-X))\n",
      "/Users/xiaoxiangma/anaconda3/lib/python3.7/site-packages/statsmodels/discrete/discrete_model.py:1800: RuntimeWarning: divide by zero encountered in log\n",
      "  return np.sum(np.log(self.cdf(q*np.dot(X,params))))\n",
      "/Users/xiaoxiangma/anaconda3/lib/python3.7/site-packages/statsmodels/base/model.py:548: HessianInversionWarning: Inverting hessian failed, no bse or cov_params available\n",
      "  'available', HessianInversionWarning)\n",
      "/Users/xiaoxiangma/anaconda3/lib/python3.7/site-packages/scipy/stats/_distn_infrastructure.py:903: RuntimeWarning: invalid value encountered in greater\n",
      "  return (a < x) & (x < b)\n",
      "/Users/xiaoxiangma/anaconda3/lib/python3.7/site-packages/scipy/stats/_distn_infrastructure.py:903: RuntimeWarning: invalid value encountered in less\n",
      "  return (a < x) & (x < b)\n",
      "/Users/xiaoxiangma/anaconda3/lib/python3.7/site-packages/scipy/stats/_distn_infrastructure.py:1912: RuntimeWarning: invalid value encountered in less_equal\n",
      "  cond2 = cond0 & (x <= _a)\n",
      "/Users/xiaoxiangma/anaconda3/lib/python3.7/site-packages/statsmodels/discrete/discrete_model.py:1747: RuntimeWarning: overflow encountered in exp\n",
      "  return 1/(1+np.exp(-X))\n",
      "/Users/xiaoxiangma/anaconda3/lib/python3.7/site-packages/statsmodels/discrete/discrete_model.py:1800: RuntimeWarning: divide by zero encountered in log\n",
      "  return np.sum(np.log(self.cdf(q*np.dot(X,params))))\n",
      "/Users/xiaoxiangma/anaconda3/lib/python3.7/site-packages/statsmodels/discrete/discrete_model.py:1747: RuntimeWarning: overflow encountered in exp\n",
      "  return 1/(1+np.exp(-X))\n",
      "/Users/xiaoxiangma/anaconda3/lib/python3.7/site-packages/statsmodels/discrete/discrete_model.py:1800: RuntimeWarning: divide by zero encountered in log\n",
      "  return np.sum(np.log(self.cdf(q*np.dot(X,params))))\n",
      "/Users/xiaoxiangma/anaconda3/lib/python3.7/site-packages/statsmodels/base/model.py:548: HessianInversionWarning: Inverting hessian failed, no bse or cov_params available\n",
      "  'available', HessianInversionWarning)\n",
      "/Users/xiaoxiangma/anaconda3/lib/python3.7/site-packages/scipy/stats/_distn_infrastructure.py:903: RuntimeWarning: invalid value encountered in greater\n",
      "  return (a < x) & (x < b)\n",
      "/Users/xiaoxiangma/anaconda3/lib/python3.7/site-packages/scipy/stats/_distn_infrastructure.py:903: RuntimeWarning: invalid value encountered in less\n",
      "  return (a < x) & (x < b)\n",
      "/Users/xiaoxiangma/anaconda3/lib/python3.7/site-packages/scipy/stats/_distn_infrastructure.py:1912: RuntimeWarning: invalid value encountered in less_equal\n",
      "  cond2 = cond0 & (x <= _a)\n",
      "/Users/xiaoxiangma/anaconda3/lib/python3.7/site-packages/statsmodels/discrete/discrete_model.py:1747: RuntimeWarning: overflow encountered in exp\n",
      "  return 1/(1+np.exp(-X))\n",
      "/Users/xiaoxiangma/anaconda3/lib/python3.7/site-packages/statsmodels/discrete/discrete_model.py:1800: RuntimeWarning: divide by zero encountered in log\n",
      "  return np.sum(np.log(self.cdf(q*np.dot(X,params))))\n",
      "/Users/xiaoxiangma/anaconda3/lib/python3.7/site-packages/statsmodels/discrete/discrete_model.py:1747: RuntimeWarning: overflow encountered in exp\n",
      "  return 1/(1+np.exp(-X))\n",
      "/Users/xiaoxiangma/anaconda3/lib/python3.7/site-packages/statsmodels/discrete/discrete_model.py:1800: RuntimeWarning: divide by zero encountered in log\n",
      "  return np.sum(np.log(self.cdf(q*np.dot(X,params))))\n",
      "/Users/xiaoxiangma/anaconda3/lib/python3.7/site-packages/statsmodels/base/model.py:548: HessianInversionWarning: Inverting hessian failed, no bse or cov_params available\n",
      "  'available', HessianInversionWarning)\n",
      "/Users/xiaoxiangma/anaconda3/lib/python3.7/site-packages/scipy/stats/_distn_infrastructure.py:903: RuntimeWarning: invalid value encountered in greater\n",
      "  return (a < x) & (x < b)\n",
      "/Users/xiaoxiangma/anaconda3/lib/python3.7/site-packages/scipy/stats/_distn_infrastructure.py:903: RuntimeWarning: invalid value encountered in less\n",
      "  return (a < x) & (x < b)\n",
      "/Users/xiaoxiangma/anaconda3/lib/python3.7/site-packages/scipy/stats/_distn_infrastructure.py:1912: RuntimeWarning: invalid value encountered in less_equal\n",
      "  cond2 = cond0 & (x <= _a)\n",
      "/Users/xiaoxiangma/anaconda3/lib/python3.7/site-packages/statsmodels/discrete/discrete_model.py:1747: RuntimeWarning: overflow encountered in exp\n",
      "  return 1/(1+np.exp(-X))\n",
      "/Users/xiaoxiangma/anaconda3/lib/python3.7/site-packages/statsmodels/discrete/discrete_model.py:1800: RuntimeWarning: divide by zero encountered in log\n",
      "  return np.sum(np.log(self.cdf(q*np.dot(X,params))))\n",
      "/Users/xiaoxiangma/anaconda3/lib/python3.7/site-packages/statsmodels/discrete/discrete_model.py:1747: RuntimeWarning: overflow encountered in exp\n",
      "  return 1/(1+np.exp(-X))\n",
      "/Users/xiaoxiangma/anaconda3/lib/python3.7/site-packages/statsmodels/discrete/discrete_model.py:1800: RuntimeWarning: divide by zero encountered in log\n",
      "  return np.sum(np.log(self.cdf(q*np.dot(X,params))))\n",
      "/Users/xiaoxiangma/anaconda3/lib/python3.7/site-packages/statsmodels/base/model.py:548: HessianInversionWarning: Inverting hessian failed, no bse or cov_params available\n",
      "  'available', HessianInversionWarning)\n",
      "/Users/xiaoxiangma/anaconda3/lib/python3.7/site-packages/scipy/stats/_distn_infrastructure.py:903: RuntimeWarning: invalid value encountered in greater\n",
      "  return (a < x) & (x < b)\n",
      "/Users/xiaoxiangma/anaconda3/lib/python3.7/site-packages/scipy/stats/_distn_infrastructure.py:903: RuntimeWarning: invalid value encountered in less\n",
      "  return (a < x) & (x < b)\n",
      "/Users/xiaoxiangma/anaconda3/lib/python3.7/site-packages/scipy/stats/_distn_infrastructure.py:1912: RuntimeWarning: invalid value encountered in less_equal\n",
      "  cond2 = cond0 & (x <= _a)\n"
     ]
    },
    {
     "name": "stdout",
     "output_type": "stream",
     "text": [
      "Optimization terminated successfully.\n",
      "         Current function value: 0.019581\n",
      "         Iterations: 67\n",
      "         Function evaluations: 75\n",
      "         Gradient evaluations: 74\n",
      "Optimization terminated successfully.\n",
      "         Current function value: 0.019581\n",
      "         Iterations: 67\n",
      "         Function evaluations: 75\n",
      "         Gradient evaluations: 74\n",
      "Optimization terminated successfully.\n",
      "         Current function value: 0.019581\n",
      "         Iterations: 67\n",
      "         Function evaluations: 75\n",
      "         Gradient evaluations: 74\n",
      "Optimization terminated successfully.\n",
      "         Current function value: 0.019581\n",
      "         Iterations: 67\n",
      "         Function evaluations: 75\n",
      "         Gradient evaluations: 74\n",
      "Optimization terminated successfully.\n",
      "         Current function value: 0.019581\n",
      "         Iterations: 67\n",
      "         Function evaluations: 75\n",
      "         Gradient evaluations: 74\n",
      "Optimization terminated successfully.\n",
      "         Current function value: 0.019581\n",
      "         Iterations: 67\n",
      "         Function evaluations: 75\n",
      "         Gradient evaluations: 74\n",
      "Optimization terminated successfully.\n",
      "         Current function value: 0.019581\n",
      "         Iterations: 67\n",
      "         Function evaluations: 75\n",
      "         Gradient evaluations: 74\n",
      "['Field:Age' 'Field:Gender' 'Field:Traumatic Incident 1 Assessment'\n",
      " 'Field:LPPN Score' 'Field:Medical Needs Score'\n",
      " 'Field:Years in Current Country' 'Medical_X_LPPN']\n"
     ]
    },
    {
     "name": "stderr",
     "output_type": "stream",
     "text": [
      "/Users/xiaoxiangma/anaconda3/lib/python3.7/site-packages/statsmodels/discrete/discrete_model.py:1747: RuntimeWarning: overflow encountered in exp\n",
      "  return 1/(1+np.exp(-X))\n",
      "/Users/xiaoxiangma/anaconda3/lib/python3.7/site-packages/statsmodels/discrete/discrete_model.py:1800: RuntimeWarning: divide by zero encountered in log\n",
      "  return np.sum(np.log(self.cdf(q*np.dot(X,params))))\n",
      "/Users/xiaoxiangma/anaconda3/lib/python3.7/site-packages/statsmodels/discrete/discrete_model.py:1747: RuntimeWarning: overflow encountered in exp\n",
      "  return 1/(1+np.exp(-X))\n",
      "/Users/xiaoxiangma/anaconda3/lib/python3.7/site-packages/statsmodels/discrete/discrete_model.py:1800: RuntimeWarning: divide by zero encountered in log\n",
      "  return np.sum(np.log(self.cdf(q*np.dot(X,params))))\n",
      "/Users/xiaoxiangma/anaconda3/lib/python3.7/site-packages/statsmodels/base/model.py:548: HessianInversionWarning: Inverting hessian failed, no bse or cov_params available\n",
      "  'available', HessianInversionWarning)\n",
      "/Users/xiaoxiangma/anaconda3/lib/python3.7/site-packages/scipy/stats/_distn_infrastructure.py:903: RuntimeWarning: invalid value encountered in greater\n",
      "  return (a < x) & (x < b)\n",
      "/Users/xiaoxiangma/anaconda3/lib/python3.7/site-packages/scipy/stats/_distn_infrastructure.py:903: RuntimeWarning: invalid value encountered in less\n",
      "  return (a < x) & (x < b)\n",
      "/Users/xiaoxiangma/anaconda3/lib/python3.7/site-packages/scipy/stats/_distn_infrastructure.py:1912: RuntimeWarning: invalid value encountered in less_equal\n",
      "  cond2 = cond0 & (x <= _a)\n"
     ]
    }
   ],
   "source": [
    "_, selected_columns = backwardElimination(X.values, y2.values, SL, selected_columns)\n",
    "print(selected_columns)"
   ]
  },
  {
   "cell_type": "code",
   "execution_count": null,
   "metadata": {},
   "outputs": [],
   "source": [
    "rforest_100x(20,X,y2, downsample_split)\n"
   ]
  },
  {
   "cell_type": "code",
   "execution_count": null,
   "metadata": {},
   "outputs": [],
   "source": [
    "rforest_100x(20,X,y3, downsample_split)\n"
   ]
  },
  {
   "cell_type": "code",
   "execution_count": 65,
   "metadata": {},
   "outputs": [
    {
     "name": "stderr",
     "output_type": "stream",
     "text": [
      "/Users/xiaoxiangma/anaconda3/lib/python3.7/site-packages/numpy/lib/histograms.py:839: RuntimeWarning: invalid value encountered in greater_equal\n",
      "  keep = (tmp_a >= first_edge)\n",
      "/Users/xiaoxiangma/anaconda3/lib/python3.7/site-packages/numpy/lib/histograms.py:840: RuntimeWarning: invalid value encountered in less_equal\n",
      "  keep &= (tmp_a <= last_edge)\n"
     ]
    },
    {
     "data": {
      "image/png": "[encoded data removed]",
      "text/plain": [
       "<Figure size 432x288 with 1 Axes>"
      ]
     },
     "metadata": {
      "needs_background": "light"
     },
     "output_type": "display_data"
    }
   ],
   "source": [
    "plt.hist(full[\"Field:Traumatic Incident 1 Assessment\"])\n",
    "plt.title(\"Field:Traumatic Incident 1 Assessment\")\n",
    "plt.show()"
   ]
  },
  {
   "cell_type": "code",
   "execution_count": 66,
   "metadata": {},
   "outputs": [
    {
     "data": {
      "image/png": "[encoded data removed]",
      "text/plain": [
       "<Figure size 432x288 with 1 Axes>"
      ]
     },
     "metadata": {
      "needs_background": "light"
     },
     "output_type": "display_data"
    }
   ],
   "source": [
    "plt.hist(full[\"Field:Years in Current Country\"])\n",
    "plt.title(\"Field:Years in Current Country\")\n",
    "plt.show()"
   ]
  },
  {
   "cell_type": "code",
   "execution_count": 67,
   "metadata": {},
   "outputs": [
    {
     "data": {
      "image/png": "[encoded data removed]",
      "text/plain": [
       "<Figure size 432x288 with 1 Axes>"
      ]
     },
     "metadata": {
      "needs_background": "light"
     },
     "output_type": "display_data"
    }
   ],
   "source": [
    "plt.hist(full[\"process_days\"])\n",
    "plt.title(\"Process Days\")\n",
    "plt.show()"
   ]
  },
  {
   "cell_type": "markdown",
   "metadata": {},
   "source": [
    "###  Preperation for Data Cleaning\n"
   ]
  },
  {
   "cell_type": "markdown",
   "metadata": {},
   "source": [
    "field names, values, and percentage missing"
   ]
  },
  {
   "cell_type": "code",
   "execution_count": 68,
   "metadata": {},
   "outputs": [
    {
     "data": {
      "text/plain": [
       "(769, 339)"
      ]
     },
     "execution_count": 68,
     "metadata": {},
     "output_type": "execute_result"
    }
   ],
   "source": [
    "full.shape"
   ]
  },
  {
   "cell_type": "code",
   "execution_count": 86,
   "metadata": {
    "scrolled": false
   },
   "outputs": [
    {
     "data": {
      "text/html": [
       "<div>\n",
       "<style scoped>\n",
       "    .dataframe tbody tr th:only-of-type {\n",
       "        vertical-align: middle;\n",
       "    }\n",
       "\n",
       "    .dataframe tbody tr th {\n",
       "        vertical-align: top;\n",
       "    }\n",
       "\n",
       "    .dataframe thead th {\n",
       "        text-align: right;\n",
       "    }\n",
       "</style>\n",
       "<table border=\"1\" class=\"dataframe\">\n",
       "  <thead>\n",
       "    <tr style=\"text-align: right;\">\n",
       "      <th></th>\n",
       "      <th>null_counts</th>\n",
       "      <th>null_percent</th>\n",
       "      <th>dtype</th>\n",
       "      <th>sample_value</th>\n",
       "    </tr>\n",
       "  </thead>\n",
       "  <tbody>\n",
       "    <tr>\n",
       "      <th>Mona Unique Session ID</th>\n",
       "      <td>0</td>\n",
       "      <td>0.00</td>\n",
       "      <td>object</td>\n",
       "      <td>003b4c8a-fa26-4d7c-bb47-c27109b757e3.2019-07-2...</td>\n",
       "    </tr>\n",
       "    <tr>\n",
       "      <th>Mona Unique User ID</th>\n",
       "      <td>169</td>\n",
       "      <td>0.22</td>\n",
       "      <td>object</td>\n",
       "      <td>22975d7c-8975-4578-9286-9d8221d83a14</td>\n",
       "    </tr>\n",
       "    <tr>\n",
       "      <th>Created on</th>\n",
       "      <td>0</td>\n",
       "      <td>0.00</td>\n",
       "      <td>datetime64[ns]</td>\n",
       "      <td>2019-10-07 08:21:19</td>\n",
       "    </tr>\n",
       "    <tr>\n",
       "      <th>Created by</th>\n",
       "      <td>0</td>\n",
       "      <td>0.00</td>\n",
       "      <td>object</td>\n",
       "      <td>Brooke Sauro</td>\n",
       "    </tr>\n",
       "    <tr>\n",
       "      <th>Pipeline</th>\n",
       "      <td>0</td>\n",
       "      <td>0.00</td>\n",
       "      <td>object</td>\n",
       "      <td>Mona</td>\n",
       "    </tr>\n",
       "    <tr>\n",
       "      <th>...</th>\n",
       "      <td>...</td>\n",
       "      <td>...</td>\n",
       "      <td>...</td>\n",
       "      <td>...</td>\n",
       "    </tr>\n",
       "    <tr>\n",
       "      <th>process_day_&gt;=1</th>\n",
       "      <td>0</td>\n",
       "      <td>0.00</td>\n",
       "      <td>float64</td>\n",
       "      <td>0</td>\n",
       "    </tr>\n",
       "    <tr>\n",
       "      <th>process_day_&gt;=7</th>\n",
       "      <td>0</td>\n",
       "      <td>0.00</td>\n",
       "      <td>float64</td>\n",
       "      <td>0</td>\n",
       "    </tr>\n",
       "    <tr>\n",
       "      <th>process_dayA_&gt;=1</th>\n",
       "      <td>0</td>\n",
       "      <td>0.00</td>\n",
       "      <td>float64</td>\n",
       "      <td>1</td>\n",
       "    </tr>\n",
       "    <tr>\n",
       "      <th>process_dayC_&gt;=1</th>\n",
       "      <td>0</td>\n",
       "      <td>0.00</td>\n",
       "      <td>float64</td>\n",
       "      <td>1</td>\n",
       "    </tr>\n",
       "    <tr>\n",
       "      <th>Medical_X_LPPN</th>\n",
       "      <td>416</td>\n",
       "      <td>0.54</td>\n",
       "      <td>float64</td>\n",
       "      <td>0</td>\n",
       "    </tr>\n",
       "  </tbody>\n",
       "</table>\n",
       "<p>339 rows × 4 columns</p>\n",
       "</div>"
      ],
      "text/plain": [
       "                        null_counts  null_percent           dtype  \\\n",
       "Mona Unique Session ID            0          0.00          object   \n",
       "Mona Unique User ID             169          0.22          object   \n",
       "Created on                        0          0.00  datetime64[ns]   \n",
       "Created by                        0          0.00          object   \n",
       "Pipeline                          0          0.00          object   \n",
       "...                             ...           ...             ...   \n",
       "process_day_>=1                   0          0.00         float64   \n",
       "process_day_>=7                   0          0.00         float64   \n",
       "process_dayA_>=1                  0          0.00         float64   \n",
       "process_dayC_>=1                  0          0.00         float64   \n",
       "Medical_X_LPPN                  416          0.54         float64   \n",
       "\n",
       "                                                             sample_value  \n",
       "Mona Unique Session ID  003b4c8a-fa26-4d7c-bb47-c27109b757e3.2019-07-2...  \n",
       "Mona Unique User ID                  22975d7c-8975-4578-9286-9d8221d83a14  \n",
       "Created on                                            2019-10-07 08:21:19  \n",
       "Created by                                                   Brooke Sauro  \n",
       "Pipeline                                                             Mona  \n",
       "...                                                                   ...  \n",
       "process_day_>=1                                                         0  \n",
       "process_day_>=7                                                         0  \n",
       "process_dayA_>=1                                                        1  \n",
       "process_dayC_>=1                                                        1  \n",
       "Medical_X_LPPN                                                          0  \n",
       "\n",
       "[339 rows x 4 columns]"
      ]
     },
     "execution_count": 86,
     "metadata": {},
     "output_type": "execute_result"
    }
   ],
   "source": [
    "null_count = pd.Series.to_frame(full.isna().sum())\n",
    "# null_count.rename(columns={\"0\": \"null_count\"})\n",
    "null_count.columns = [\"null_counts\"]\n",
    "null_count[\"null_percent\"] = np.round(null_count[\"null_counts\"] / 769 , 2)\n",
    "null_count[\"dtype\"] = pd.Series.to_frame(full.dtypes)\n",
    "null_count[\"sample_value\"] = full.mode()[:1].T\n",
    "null_count"
   ]
  },
  {
   "cell_type": "code",
   "execution_count": 90,
   "metadata": {},
   "outputs": [
    {
     "data": {
      "text/plain": [
       "null_counts        768\n",
       "null_percent         1\n",
       "dtype           object\n",
       "sample_value      سامر\n",
       "Name: Field:Siv Follow To Join Relative Name 1, dtype: object"
      ]
     },
     "execution_count": 90,
     "metadata": {},
     "output_type": "execute_result"
    }
   ],
   "source": [
    "null_count.loc['Field:Siv Follow To Join Relative Name 1']"
   ]
  },
  {
   "cell_type": "code",
   "execution_count": 87,
   "metadata": {},
   "outputs": [],
   "source": [
    "null_count.to_csv(\"null_counts.csv\")"
   ]
  },
  {
   "cell_type": "code",
   "execution_count": 74,
   "metadata": {},
   "outputs": [
    {
     "data": {
      "text/plain": [
       "Index(['Mona Unique Session ID', 'Mona Unique User ID', 'Created on',\n",
       "       'Created by', 'Pipeline', 'Date of Referral', 'First Referral',\n",
       "       'In IRAP Process', 'Screening Stage', 'Screener',\n",
       "       ...\n",
       "       'curr_country_Iraq', 'curr_country_Lebanon',\n",
       "       'curr_country_Saudi Arabia', 'curr_country_Syria',\n",
       "       'curr_country_Turkey', 'process_day_>=1', 'process_day_>=7',\n",
       "       'process_dayA_>=1', 'process_dayC_>=1', 'Medical_X_LPPN'],\n",
       "      dtype='object', length=339)"
      ]
     },
     "execution_count": 74,
     "metadata": {},
     "output_type": "execute_result"
    }
   ],
   "source": [
    "full.columns"
   ]
  },
  {
   "cell_type": "code",
   "execution_count": 76,
   "metadata": {},
   "outputs": [
    {
     "data": {
      "text/html": [
       "<div>\n",
       "<style scoped>\n",
       "    .dataframe tbody tr th:only-of-type {\n",
       "        vertical-align: middle;\n",
       "    }\n",
       "\n",
       "    .dataframe tbody tr th {\n",
       "        vertical-align: top;\n",
       "    }\n",
       "\n",
       "    .dataframe thead th {\n",
       "        text-align: right;\n",
       "    }\n",
       "</style>\n",
       "<table border=\"1\" class=\"dataframe\">\n",
       "  <thead>\n",
       "    <tr style=\"text-align: right;\">\n",
       "      <th></th>\n",
       "      <th>0</th>\n",
       "    </tr>\n",
       "  </thead>\n",
       "  <tbody>\n",
       "    <tr>\n",
       "      <th>Mona Unique Session ID</th>\n",
       "      <td>object</td>\n",
       "    </tr>\n",
       "    <tr>\n",
       "      <th>Mona Unique User ID</th>\n",
       "      <td>object</td>\n",
       "    </tr>\n",
       "    <tr>\n",
       "      <th>Created on</th>\n",
       "      <td>datetime64[ns]</td>\n",
       "    </tr>\n",
       "    <tr>\n",
       "      <th>Created by</th>\n",
       "      <td>object</td>\n",
       "    </tr>\n",
       "    <tr>\n",
       "      <th>Pipeline</th>\n",
       "      <td>object</td>\n",
       "    </tr>\n",
       "    <tr>\n",
       "      <th>...</th>\n",
       "      <td>...</td>\n",
       "    </tr>\n",
       "    <tr>\n",
       "      <th>process_day_&gt;=1</th>\n",
       "      <td>float64</td>\n",
       "    </tr>\n",
       "    <tr>\n",
       "      <th>process_day_&gt;=7</th>\n",
       "      <td>float64</td>\n",
       "    </tr>\n",
       "    <tr>\n",
       "      <th>process_dayA_&gt;=1</th>\n",
       "      <td>float64</td>\n",
       "    </tr>\n",
       "    <tr>\n",
       "      <th>process_dayC_&gt;=1</th>\n",
       "      <td>float64</td>\n",
       "    </tr>\n",
       "    <tr>\n",
       "      <th>Medical_X_LPPN</th>\n",
       "      <td>float64</td>\n",
       "    </tr>\n",
       "  </tbody>\n",
       "</table>\n",
       "<p>339 rows × 1 columns</p>\n",
       "</div>"
      ],
      "text/plain": [
       "                                     0\n",
       "Mona Unique Session ID          object\n",
       "Mona Unique User ID             object\n",
       "Created on              datetime64[ns]\n",
       "Created by                      object\n",
       "Pipeline                        object\n",
       "...                                ...\n",
       "process_day_>=1                float64\n",
       "process_day_>=7                float64\n",
       "process_dayA_>=1               float64\n",
       "process_dayC_>=1               float64\n",
       "Medical_X_LPPN                 float64\n",
       "\n",
       "[339 rows x 1 columns]"
      ]
     },
     "execution_count": 76,
     "metadata": {},
     "output_type": "execute_result"
    }
   ],
   "source": [
    "pd.Series.to_frame(full.dtypes)"
   ]
  },
  {
   "cell_type": "code",
   "execution_count": 85,
   "metadata": {},
   "outputs": [
    {
     "data": {
      "text/html": [
       "<div>\n",
       "<style scoped>\n",
       "    .dataframe tbody tr th:only-of-type {\n",
       "        vertical-align: middle;\n",
       "    }\n",
       "\n",
       "    .dataframe tbody tr th {\n",
       "        vertical-align: top;\n",
       "    }\n",
       "\n",
       "    .dataframe thead th {\n",
       "        text-align: right;\n",
       "    }\n",
       "</style>\n",
       "<table border=\"1\" class=\"dataframe\">\n",
       "  <thead>\n",
       "    <tr style=\"text-align: right;\">\n",
       "      <th></th>\n",
       "      <th>0</th>\n",
       "    </tr>\n",
       "  </thead>\n",
       "  <tbody>\n",
       "    <tr>\n",
       "      <th>Mona Unique Session ID</th>\n",
       "      <td>003b4c8a-fa26-4d7c-bb47-c27109b757e3.2019-07-2...</td>\n",
       "    </tr>\n",
       "    <tr>\n",
       "      <th>Mona Unique User ID</th>\n",
       "      <td>22975d7c-8975-4578-9286-9d8221d83a14</td>\n",
       "    </tr>\n",
       "    <tr>\n",
       "      <th>Created on</th>\n",
       "      <td>2019-10-07 08:21:19</td>\n",
       "    </tr>\n",
       "    <tr>\n",
       "      <th>Created by</th>\n",
       "      <td>Brooke Sauro</td>\n",
       "    </tr>\n",
       "    <tr>\n",
       "      <th>Pipeline</th>\n",
       "      <td>Mona</td>\n",
       "    </tr>\n",
       "    <tr>\n",
       "      <th>...</th>\n",
       "      <td>...</td>\n",
       "    </tr>\n",
       "    <tr>\n",
       "      <th>process_day_&gt;=1</th>\n",
       "      <td>0</td>\n",
       "    </tr>\n",
       "    <tr>\n",
       "      <th>process_day_&gt;=7</th>\n",
       "      <td>0</td>\n",
       "    </tr>\n",
       "    <tr>\n",
       "      <th>process_dayA_&gt;=1</th>\n",
       "      <td>1</td>\n",
       "    </tr>\n",
       "    <tr>\n",
       "      <th>process_dayC_&gt;=1</th>\n",
       "      <td>1</td>\n",
       "    </tr>\n",
       "    <tr>\n",
       "      <th>Medical_X_LPPN</th>\n",
       "      <td>0</td>\n",
       "    </tr>\n",
       "  </tbody>\n",
       "</table>\n",
       "<p>339 rows × 1 columns</p>\n",
       "</div>"
      ],
      "text/plain": [
       "                                                                        0\n",
       "Mona Unique Session ID  003b4c8a-fa26-4d7c-bb47-c27109b757e3.2019-07-2...\n",
       "Mona Unique User ID                  22975d7c-8975-4578-9286-9d8221d83a14\n",
       "Created on                                            2019-10-07 08:21:19\n",
       "Created by                                                   Brooke Sauro\n",
       "Pipeline                                                             Mona\n",
       "...                                                                   ...\n",
       "process_day_>=1                                                         0\n",
       "process_day_>=7                                                         0\n",
       "process_dayA_>=1                                                        1\n",
       "process_dayC_>=1                                                        1\n",
       "Medical_X_LPPN                                                          0\n",
       "\n",
       "[339 rows x 1 columns]"
      ]
     },
     "execution_count": 85,
     "metadata": {},
     "output_type": "execute_result"
    }
   ],
   "source": [
    "full.mode()[:1].T"
   ]
  },
  {
   "cell_type": "code",
   "execution_count": 84,
   "metadata": {},
   "outputs": [
    {
     "name": "stderr",
     "output_type": "stream",
     "text": [
      "/Users/xiaoxiangma/anaconda3/lib/python3.7/site-packages/pandas/core/algorithms.py:846: UserWarning: Unable to sort modes: '<' not supported between instances of 'str' and 'float'\n",
      "  warn(f\"Unable to sort modes: {err}\")\n",
      "/Users/xiaoxiangma/anaconda3/lib/python3.7/site-packages/pandas/core/algorithms.py:846: UserWarning: Unable to sort modes: '<' not supported between instances of 'float' and 'str'\n",
      "  warn(f\"Unable to sort modes: {err}\")\n"
     ]
    },
    {
     "data": {
      "text/html": [
       "<div>\n",
       "<style scoped>\n",
       "    .dataframe tbody tr th:only-of-type {\n",
       "        vertical-align: middle;\n",
       "    }\n",
       "\n",
       "    .dataframe tbody tr th {\n",
       "        vertical-align: top;\n",
       "    }\n",
       "\n",
       "    .dataframe thead th {\n",
       "        text-align: right;\n",
       "    }\n",
       "</style>\n",
       "<table border=\"1\" class=\"dataframe\">\n",
       "  <thead>\n",
       "    <tr style=\"text-align: right;\">\n",
       "      <th></th>\n",
       "      <th>0</th>\n",
       "      <th>1</th>\n",
       "      <th>2</th>\n",
       "    </tr>\n",
       "  </thead>\n",
       "  <tbody>\n",
       "    <tr>\n",
       "      <th>0</th>\n",
       "      <td>0</td>\n",
       "      <td>NaN</td>\n",
       "      <td>NaN</td>\n",
       "    </tr>\n",
       "    <tr>\n",
       "      <th>3</th>\n",
       "      <td>0</td>\n",
       "      <td>NaN</td>\n",
       "      <td>NaN</td>\n",
       "    </tr>\n",
       "    <tr>\n",
       "      <th>4</th>\n",
       "      <td>0</td>\n",
       "      <td>NaN</td>\n",
       "      <td>NaN</td>\n",
       "    </tr>\n",
       "    <tr>\n",
       "      <th>5</th>\n",
       "      <td>0</td>\n",
       "      <td>NaN</td>\n",
       "      <td>NaN</td>\n",
       "    </tr>\n",
       "    <tr>\n",
       "      <th>7</th>\n",
       "      <td>0</td>\n",
       "      <td>NaN</td>\n",
       "      <td>NaN</td>\n",
       "    </tr>\n",
       "    <tr>\n",
       "      <th>...</th>\n",
       "      <td>...</td>\n",
       "      <td>...</td>\n",
       "      <td>...</td>\n",
       "    </tr>\n",
       "    <tr>\n",
       "      <th>1080</th>\n",
       "      <td>0</td>\n",
       "      <td>NaN</td>\n",
       "      <td>NaN</td>\n",
       "    </tr>\n",
       "    <tr>\n",
       "      <th>1081</th>\n",
       "      <td>0</td>\n",
       "      <td>NaN</td>\n",
       "      <td>NaN</td>\n",
       "    </tr>\n",
       "    <tr>\n",
       "      <th>1083</th>\n",
       "      <td>0</td>\n",
       "      <td>NaN</td>\n",
       "      <td>NaN</td>\n",
       "    </tr>\n",
       "    <tr>\n",
       "      <th>1084</th>\n",
       "      <td>0</td>\n",
       "      <td>NaN</td>\n",
       "      <td>NaN</td>\n",
       "    </tr>\n",
       "    <tr>\n",
       "      <th>1085</th>\n",
       "      <td>0</td>\n",
       "      <td>NaN</td>\n",
       "      <td>NaN</td>\n",
       "    </tr>\n",
       "  </tbody>\n",
       "</table>\n",
       "<p>769 rows × 3 columns</p>\n",
       "</div>"
      ],
      "text/plain": [
       "      0    1    2\n",
       "0     0  NaN  NaN\n",
       "3     0  NaN  NaN\n",
       "4     0  NaN  NaN\n",
       "5     0  NaN  NaN\n",
       "7     0  NaN  NaN\n",
       "...  ..  ...  ...\n",
       "1080  0  NaN  NaN\n",
       "1081  0  NaN  NaN\n",
       "1083  0  NaN  NaN\n",
       "1084  0  NaN  NaN\n",
       "1085  0  NaN  NaN\n",
       "\n",
       "[769 rows x 3 columns]"
      ]
     },
     "execution_count": 84,
     "metadata": {},
     "output_type": "execute_result"
    }
   ],
   "source": [
    "full.mode(axis='columns')"
   ]
  },
  {
   "cell_type": "code",
   "execution_count": null,
   "metadata": {},
   "outputs": [],
   "source": []
  }
 ],
 "metadata": {
  "kernelspec": {
   "display_name": "Python 3",
   "language": "python",
   "name": "python3"
  },
  "language_info": {
   "codemirror_mode": {
    "name": "ipython",
    "version": 3
   },
   "file_extension": ".py",
   "mimetype": "text/x-python",
   "name": "python",
   "nbconvert_exporter": "python",
   "pygments_lexer": "ipython3",
   "version": "3.7.5"
  }
 },
 "nbformat": 4,
 "nbformat_minor": 2
}

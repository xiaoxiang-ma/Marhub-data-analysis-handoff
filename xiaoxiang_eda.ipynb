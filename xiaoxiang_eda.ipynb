{
 "cells": [
  {
   "cell_type": "markdown",
   "metadata": {},
   "source": [
    "## Irap & Mona data merge, EDA"
   ]
  },
  {
   "cell_type": "code",
   "execution_count": 1,
   "metadata": {},
   "outputs": [],
   "source": [
    "import numpy as np\n",
    "import pandas as pd\n",
    "import matplotlib.pyplot as plt \n",
    "from scipy.stats import pearsonr\n",
    "from sklearn.linear_model import LogisticRegression "
   ]
  },
  {
   "cell_type": "code",
   "execution_count": 2,
   "metadata": {},
   "outputs": [],
   "source": [
    "path = \"../Final Soft Launch Results/Current Source Data/\""
   ]
  },
  {
   "cell_type": "code",
   "execution_count": 3,
   "metadata": {},
   "outputs": [],
   "source": [
    "d1=\"Data from IRAP 01072020.xlsx\"\n",
    "# d2=\"Merge for Vulnerability Screening.xlsx\"\n",
    "d3=\"Raw Data from Mona 01172020.xlsx\""
   ]
  },
  {
   "cell_type": "code",
   "execution_count": 4,
   "metadata": {},
   "outputs": [],
   "source": [
    "irap = pd.read_excel (path+d1)\n",
    "# merge = pd.read_excel (path+d2)\n",
    "mona = pd.read_excel (path+d3)"
   ]
  },
  {
   "cell_type": "code",
   "execution_count": 5,
   "metadata": {},
   "outputs": [],
   "source": [
    "irap['process_days'] = irap['Date of Screening Decision']-irap['Date of Screening Start']\n",
    "irap['process_days'] = irap['process_days'].astype('timedelta64[D]')"
   ]
  },
  {
   "cell_type": "code",
   "execution_count": 6,
   "metadata": {},
   "outputs": [],
   "source": [
    "mona = mona.rename({'Contact UUID': 'Mona Unique User ID'}, axis=1)"
   ]
  },
  {
   "cell_type": "markdown",
   "metadata": {},
   "source": [
    "#### Joining tables into \"full\""
   ]
  },
  {
   "cell_type": "code",
   "execution_count": 7,
   "metadata": {},
   "outputs": [],
   "source": [
    "full = pd.merge(irap, mona, on='Mona Unique User ID',how=\"left\").dropna(axis=1, how='all')"
   ]
  },
  {
   "cell_type": "code",
   "execution_count": 8,
   "metadata": {},
   "outputs": [],
   "source": [
    "full['Field:Gender'].replace(('Male', 'Female'), (1, 0), inplace=True)\n",
    "full['Vulnerability Threshold'].replace(('Above', 'Below'), (1, 0), inplace=True)"
   ]
  },
  {
   "cell_type": "markdown",
   "metadata": {},
   "source": [
    "#### Create one-hot features"
   ]
  },
  {
   "cell_type": "code",
   "execution_count": 9,
   "metadata": {},
   "outputs": [],
   "source": [
    "def one_hot(dataframe,column_name):\n",
    "    gen_onehot_features = pd.get_dummies(dataframe[column_name])\n",
    "    result = pd.concat([dataframe, gen_onehot_features],axis=1)\n",
    "    return result"
   ]
  },
  {
   "cell_type": "code",
   "execution_count": 10,
   "metadata": {},
   "outputs": [],
   "source": [
    "full['Field:Nationality1'] = 'nationality_' + full['Field:Nationality1']\n",
    "full = one_hot(full,'Field:Nationality1')\n"
   ]
  },
  {
   "cell_type": "code",
   "execution_count": 11,
   "metadata": {},
   "outputs": [],
   "source": [
    "full['Field:Current Country'] = 'curr_country_' + full['Field:Current Country']\n",
    "full = one_hot(full,'Field:Current Country')"
   ]
  },
  {
   "cell_type": "code",
   "execution_count": 12,
   "metadata": {},
   "outputs": [
    {
     "data": {
      "text/html": [
       "<div>\n",
       "<style scoped>\n",
       "    .dataframe tbody tr th:only-of-type {\n",
       "        vertical-align: middle;\n",
       "    }\n",
       "\n",
       "    .dataframe tbody tr th {\n",
       "        vertical-align: top;\n",
       "    }\n",
       "\n",
       "    .dataframe thead th {\n",
       "        text-align: right;\n",
       "    }\n",
       "</style>\n",
       "<table border=\"1\" class=\"dataframe\">\n",
       "  <thead>\n",
       "    <tr style=\"text-align: right;\">\n",
       "      <th></th>\n",
       "      <th>Mona Unique Session ID</th>\n",
       "      <th>Mona Unique User ID</th>\n",
       "      <th>Created on</th>\n",
       "      <th>Created by</th>\n",
       "      <th>Pipeline</th>\n",
       "      <th>Date of Referral</th>\n",
       "      <th>First Referral</th>\n",
       "      <th>In IRAP Process</th>\n",
       "      <th>Screening Stage</th>\n",
       "      <th>Screener</th>\n",
       "      <th>...</th>\n",
       "      <th>Field:Pause Handoffs</th>\n",
       "      <th>Field:Lebanon Location</th>\n",
       "      <th>nationality_Iraqi</th>\n",
       "      <th>nationality_Syrian</th>\n",
       "      <th>curr_country_Egypt</th>\n",
       "      <th>curr_country_Iraq</th>\n",
       "      <th>curr_country_Lebanon</th>\n",
       "      <th>curr_country_Saudi Arabia</th>\n",
       "      <th>curr_country_Syria</th>\n",
       "      <th>curr_country_Turkey</th>\n",
       "    </tr>\n",
       "  </thead>\n",
       "  <tbody>\n",
       "    <tr>\n",
       "      <th>0</th>\n",
       "      <td>ce81140c-7083-4463-90ed-ad36d1a41011.2019-07-2...</td>\n",
       "      <td>ce81140c-7083-4463-90ed-ad36d1a41011</td>\n",
       "      <td>2019-12-11 06:02:17</td>\n",
       "      <td>Brooke Sauro</td>\n",
       "      <td>Mona</td>\n",
       "      <td>2019-07-25</td>\n",
       "      <td>No</td>\n",
       "      <td>No</td>\n",
       "      <td>Screening Complete</td>\n",
       "      <td>Michaela Gallien</td>\n",
       "      <td>...</td>\n",
       "      <td>NaN</td>\n",
       "      <td>NaN</td>\n",
       "      <td>0</td>\n",
       "      <td>1</td>\n",
       "      <td>0</td>\n",
       "      <td>0</td>\n",
       "      <td>1</td>\n",
       "      <td>0</td>\n",
       "      <td>0</td>\n",
       "      <td>0</td>\n",
       "    </tr>\n",
       "    <tr>\n",
       "      <th>1</th>\n",
       "      <td>92952aa434524f549543d3fcc79054fe20190804T02434...</td>\n",
       "      <td>92952aa4-3452-4f54-9543-d3fcc79054fe</td>\n",
       "      <td>2019-12-11 06:02:17</td>\n",
       "      <td>Brooke Sauro</td>\n",
       "      <td>Mona</td>\n",
       "      <td>2019-08-03</td>\n",
       "      <td>No</td>\n",
       "      <td>Yes</td>\n",
       "      <td>Screening Complete</td>\n",
       "      <td>Manal ElKhoury</td>\n",
       "      <td>...</td>\n",
       "      <td>Yes</td>\n",
       "      <td>NaN</td>\n",
       "      <td>0</td>\n",
       "      <td>1</td>\n",
       "      <td>0</td>\n",
       "      <td>0</td>\n",
       "      <td>1</td>\n",
       "      <td>0</td>\n",
       "      <td>0</td>\n",
       "      <td>0</td>\n",
       "    </tr>\n",
       "    <tr>\n",
       "      <th>2</th>\n",
       "      <td>8a4a87a6eeeb43019d820644a8a7534620190802T07350...</td>\n",
       "      <td>8a4a87a6-eeeb-4301-9d82-0644a8a75346</td>\n",
       "      <td>2019-12-11 06:02:17</td>\n",
       "      <td>Brooke Sauro</td>\n",
       "      <td>Mona</td>\n",
       "      <td>2019-08-02</td>\n",
       "      <td>No</td>\n",
       "      <td>No</td>\n",
       "      <td>Screening</td>\n",
       "      <td>Tiba Fatli</td>\n",
       "      <td>...</td>\n",
       "      <td>NaN</td>\n",
       "      <td>NaN</td>\n",
       "      <td>0</td>\n",
       "      <td>1</td>\n",
       "      <td>0</td>\n",
       "      <td>0</td>\n",
       "      <td>1</td>\n",
       "      <td>0</td>\n",
       "      <td>0</td>\n",
       "      <td>0</td>\n",
       "    </tr>\n",
       "    <tr>\n",
       "      <th>3</th>\n",
       "      <td>758240c9578a4e29b66bd1d95de9cdc620190802T21293...</td>\n",
       "      <td>758240c9-578a-4e29-b66b-d1d95de9cdc6</td>\n",
       "      <td>2019-12-11 06:02:17</td>\n",
       "      <td>Brooke Sauro</td>\n",
       "      <td>Mona</td>\n",
       "      <td>2019-08-02</td>\n",
       "      <td>No</td>\n",
       "      <td>No</td>\n",
       "      <td>Screening Complete</td>\n",
       "      <td>Tania El Khoury</td>\n",
       "      <td>...</td>\n",
       "      <td>NaN</td>\n",
       "      <td>NaN</td>\n",
       "      <td>0</td>\n",
       "      <td>1</td>\n",
       "      <td>0</td>\n",
       "      <td>0</td>\n",
       "      <td>1</td>\n",
       "      <td>0</td>\n",
       "      <td>0</td>\n",
       "      <td>0</td>\n",
       "    </tr>\n",
       "    <tr>\n",
       "      <th>4</th>\n",
       "      <td>55865e62-97b3-4656-b470-7eaaa6a517cf.2019-07-2...</td>\n",
       "      <td>55865e62-97b3-4656-b470-7eaaa6a517cf</td>\n",
       "      <td>2019-12-11 06:02:16</td>\n",
       "      <td>Brooke Sauro</td>\n",
       "      <td>Mona</td>\n",
       "      <td>2019-07-26</td>\n",
       "      <td>No</td>\n",
       "      <td>No</td>\n",
       "      <td>Screening Complete</td>\n",
       "      <td>Tania El Khoury</td>\n",
       "      <td>...</td>\n",
       "      <td>Yes</td>\n",
       "      <td>طرابلس مخيم البداوي.</td>\n",
       "      <td>0</td>\n",
       "      <td>1</td>\n",
       "      <td>0</td>\n",
       "      <td>0</td>\n",
       "      <td>1</td>\n",
       "      <td>0</td>\n",
       "      <td>0</td>\n",
       "      <td>0</td>\n",
       "    </tr>\n",
       "  </tbody>\n",
       "</table>\n",
       "<p>5 rows × 332 columns</p>\n",
       "</div>"
      ],
      "text/plain": [
       "                              Mona Unique Session ID  \\\n",
       "0  ce81140c-7083-4463-90ed-ad36d1a41011.2019-07-2...   \n",
       "1  92952aa434524f549543d3fcc79054fe20190804T02434...   \n",
       "2  8a4a87a6eeeb43019d820644a8a7534620190802T07350...   \n",
       "3  758240c9578a4e29b66bd1d95de9cdc620190802T21293...   \n",
       "4  55865e62-97b3-4656-b470-7eaaa6a517cf.2019-07-2...   \n",
       "\n",
       "                    Mona Unique User ID          Created on    Created by  \\\n",
       "0  ce81140c-7083-4463-90ed-ad36d1a41011 2019-12-11 06:02:17  Brooke Sauro   \n",
       "1  92952aa4-3452-4f54-9543-d3fcc79054fe 2019-12-11 06:02:17  Brooke Sauro   \n",
       "2  8a4a87a6-eeeb-4301-9d82-0644a8a75346 2019-12-11 06:02:17  Brooke Sauro   \n",
       "3  758240c9-578a-4e29-b66b-d1d95de9cdc6 2019-12-11 06:02:17  Brooke Sauro   \n",
       "4  55865e62-97b3-4656-b470-7eaaa6a517cf 2019-12-11 06:02:16  Brooke Sauro   \n",
       "\n",
       "  Pipeline Date of Referral First Referral In IRAP Process  \\\n",
       "0     Mona       2019-07-25             No              No   \n",
       "1     Mona       2019-08-03             No             Yes   \n",
       "2     Mona       2019-08-02             No              No   \n",
       "3     Mona       2019-08-02             No              No   \n",
       "4     Mona       2019-07-26             No              No   \n",
       "\n",
       "      Screening Stage          Screener  ... Field:Pause Handoffs  \\\n",
       "0  Screening Complete  Michaela Gallien  ...                  NaN   \n",
       "1  Screening Complete    Manal ElKhoury  ...                  Yes   \n",
       "2           Screening        Tiba Fatli  ...                  NaN   \n",
       "3  Screening Complete   Tania El Khoury  ...                  NaN   \n",
       "4  Screening Complete   Tania El Khoury  ...                  Yes   \n",
       "\n",
       "  Field:Lebanon Location nationality_Iraqi nationality_Syrian  \\\n",
       "0                    NaN                 0                  1   \n",
       "1                    NaN                 0                  1   \n",
       "2                    NaN                 0                  1   \n",
       "3                    NaN                 0                  1   \n",
       "4   طرابلس مخيم البداوي.                 0                  1   \n",
       "\n",
       "  curr_country_Egypt curr_country_Iraq  curr_country_Lebanon  \\\n",
       "0                  0                 0                     1   \n",
       "1                  0                 0                     1   \n",
       "2                  0                 0                     1   \n",
       "3                  0                 0                     1   \n",
       "4                  0                 0                     1   \n",
       "\n",
       "  curr_country_Saudi Arabia curr_country_Syria curr_country_Turkey  \n",
       "0                         0                  0                   0  \n",
       "1                         0                  0                   0  \n",
       "2                         0                  0                   0  \n",
       "3                         0                  0                   0  \n",
       "4                         0                  0                   0  \n",
       "\n",
       "[5 rows x 332 columns]"
      ]
     },
     "execution_count": 12,
     "metadata": {},
     "output_type": "execute_result"
    }
   ],
   "source": [
    "full.head()"
   ]
  },
  {
   "cell_type": "code",
   "execution_count": 13,
   "metadata": {},
   "outputs": [],
   "source": [
    "numeric = full.select_dtypes(exclude=['object','datetime64[ns]'])"
   ]
  },
  {
   "cell_type": "code",
   "execution_count": 14,
   "metadata": {},
   "outputs": [],
   "source": [
    "multiple_vars = numeric[numeric['Field:Age'].notna() \n",
    "        & numeric['Field:Gender'].notna()\n",
    "        & numeric['Field:Medical Condition Score'].notna()\n",
    "        & numeric['Vulnerability Threshold'].notna()\n",
    "        & numeric['Field:LPPN Score'].notna()\n",
    "        & numeric['process_days'].notna()\n",
    "       ].dropna(axis=1)"
   ]
  },
  {
   "cell_type": "markdown",
   "metadata": {},
   "source": [
    "### Part A: Mona’s Vulnerability Scores versus Decision-Making Time:\n"
   ]
  },
  {
   "cell_type": "code",
   "execution_count": 15,
   "metadata": {},
   "outputs": [
    {
     "data": {
      "image/png": "[encoded data removed]",
      "text/plain": [
       "<Figure size 720x360 with 1 Axes>"
      ]
     },
     "metadata": {
      "needs_background": "light"
     },
     "output_type": "display_data"
    }
   ],
   "source": [
    "fig = plt.figure(figsize=[10,5])\n",
    "plt.scatter(full['Field:Medical Needs Score'], full['process_days'], \n",
    "            marker=\"o\",alpha=0.2)\n",
    "\n",
    "plt.ylim(-2,)\n",
    "plt.title(\"Medical Needs\")\n",
    "plt.xlabel(\"Medical Needs Score\")\n",
    "plt.ylabel(\"No. of days to process\")\n",
    "\n",
    "plt.show()"
   ]
  },
  {
   "cell_type": "code",
   "execution_count": 16,
   "metadata": {},
   "outputs": [
    {
     "data": {
      "image/png": "[encoded data removed]",
      "text/plain": [
       "<Figure size 720x360 with 1 Axes>"
      ]
     },
     "metadata": {
      "needs_background": "light"
     },
     "output_type": "display_data"
    }
   ],
   "source": [
    "fig = plt.figure(figsize=[10,5])\n",
    "plt.scatter(full['Field:LPPN Score'], full['process_days'], \n",
    "            marker=\"o\",alpha=0.2,c=\"g\")\n",
    "\n",
    "plt.ylim(-2,)\n",
    "plt.title(\"LPPN (Legal and Physical Protection Needs)\")\n",
    "plt.xlabel(\"LPPN Score\")\n",
    "plt.ylabel(\"No. of days to process\")\n",
    "\n",
    "plt.show()"
   ]
  },
  {
   "cell_type": "code",
   "execution_count": 17,
   "metadata": {},
   "outputs": [
    {
     "data": {
      "image/png": "[encoded data removed]",
      "text/plain": [
       "<Figure size 720x144 with 1 Axes>"
      ]
     },
     "metadata": {
      "needs_background": "light"
     },
     "output_type": "display_data"
    }
   ],
   "source": [
    "fig = plt.figure(figsize=[10,2])\n",
    "plt.scatter(full['Field:LPPN Score'], [1 if i ==1 else 0 for i in full['process_days']], \n",
    "            marker=\"o\",alpha=0.2,c=\"g\")\n",
    "\n",
    "# plt.ylim(-,)\n",
    "plt.title(\"LPPN (Legal and Physical Protection Needs)\")\n",
    "plt.xlabel(\"LPPN Score\")\n",
    "plt.ylabel(\"Screening finished in one day?\")\n",
    "\n",
    "plt.show()"
   ]
  },
  {
   "cell_type": "code",
   "execution_count": 18,
   "metadata": {
    "scrolled": true
   },
   "outputs": [
    {
     "data": {
      "image/png": "[encoded data removed]",
      "text/plain": [
       "<Figure size 432x288 with 1 Axes>"
      ]
     },
     "metadata": {
      "needs_background": "light"
     },
     "output_type": "display_data"
    }
   ],
   "source": [
    "index = [0,1,2,3,4,5,6]\n",
    "n_days = [full.loc[(full['Field:LPPN Score'] == i) & (full['process_days'] > 1)].shape[0] for i in index]\n",
    "one_day = [full.loc[(full['Field:LPPN Score'] == i) & (full['process_days'] == 1)].shape[0] for i in index]\n",
    "df = pd.DataFrame({'Screening took 1 day': one_day,\n",
    "                   'Screening took >1 days': n_days}, index=index)\n",
    "df.plot.bar(rot=0)\n",
    "plt.xlabel(\"LPPN Score\")\n",
    "plt.ylabel(\"Frequencies\")\n",
    "\n",
    "plt.show()"
   ]
  },
  {
   "cell_type": "markdown",
   "metadata": {},
   "source": [
    "### Part B: Mona’s Vulnerability Scores verses IRAP’s Above/Below Threshold\n"
   ]
  },
  {
   "cell_type": "code",
   "execution_count": 19,
   "metadata": {},
   "outputs": [
    {
     "data": {
      "text/plain": [
       "0.0    705\n",
       "1.0     15\n",
       "Name: Vulnerability Threshold, dtype: int64"
      ]
     },
     "execution_count": 19,
     "metadata": {},
     "output_type": "execute_result"
    }
   ],
   "source": [
    "full['Vulnerability Threshold'].value_counts()"
   ]
  },
  {
   "cell_type": "code",
   "execution_count": 76,
   "metadata": {
    "scrolled": true
   },
   "outputs": [
    {
     "data": {
      "image/png": "[encoded data removed]",
      "text/plain": [
       "<Figure size 432x288 with 1 Axes>"
      ]
     },
     "metadata": {
      "needs_background": "light"
     },
     "output_type": "display_data"
    }
   ],
   "source": [
    "index = [0,1,2,3,4,5,6]\n",
    "below = [full.loc[(full['Field:Medical Needs Score'] == i) & \n",
    "                    (full['Vulnerability Threshold'] ==0)].shape[0] for i in index]\n",
    "above = [full.loc[(full['Field:Medical Needs Score'] == i) & \n",
    "                    (full['Vulnerability Threshold'] == 1)].shape[0] for i in index]\n",
    "df = pd.DataFrame({'below': below,\n",
    "                   'above': above}, index=index)\n",
    "df.plot.bar(rot=0)\n",
    "plt.xlabel(\"Medical Needs Score\")\n",
    "plt.ylabel(\"Frequencies\")\n",
    "\n",
    "plt.show()"
   ]
  },
  {
   "cell_type": "code",
   "execution_count": 77,
   "metadata": {
    "scrolled": true
   },
   "outputs": [
    {
     "data": {
      "image/png": "[encoded data removed]",
      "text/plain": [
       "<Figure size 432x288 with 1 Axes>"
      ]
     },
     "metadata": {
      "needs_background": "light"
     },
     "output_type": "display_data"
    }
   ],
   "source": [
    "index = [0,1,2,3,4,5,6]\n",
    "\n",
    "below = [full.loc[(full['Field:LPPN Score'] == i) & \n",
    "                    (full['Vulnerability Threshold'] == 0)].shape[0] for i in index]\n",
    "above = [full.loc[(full['Field:LPPN Score'] == i) & \n",
    "                    (full['Vulnerability Threshold'] == 1)].shape[0] for i in index]\n",
    "df = pd.DataFrame({'below': below,\n",
    "                   'above': above}, index=index)\n",
    "df.plot.bar(rot=0)\n",
    "plt.xlabel(\"LPPN Score\")\n",
    "plt.ylabel(\"Frequencies\")\n",
    "\n",
    "plt.show()"
   ]
  },
  {
   "cell_type": "markdown",
   "metadata": {},
   "source": [
    "### Cross tab distribution"
   ]
  },
  {
   "cell_type": "code",
   "execution_count": 22,
   "metadata": {},
   "outputs": [
    {
     "data": {
      "text/html": [
       "<div>\n",
       "<style scoped>\n",
       "    .dataframe tbody tr th:only-of-type {\n",
       "        vertical-align: middle;\n",
       "    }\n",
       "\n",
       "    .dataframe tbody tr th {\n",
       "        vertical-align: top;\n",
       "    }\n",
       "\n",
       "    .dataframe thead th {\n",
       "        text-align: right;\n",
       "    }\n",
       "</style>\n",
       "<table border=\"1\" class=\"dataframe\">\n",
       "  <thead>\n",
       "    <tr style=\"text-align: right;\">\n",
       "      <th>Vulnerability Threshold</th>\n",
       "      <th>0.0</th>\n",
       "      <th>1.0</th>\n",
       "    </tr>\n",
       "    <tr>\n",
       "      <th>Field:LPPN Score</th>\n",
       "      <th></th>\n",
       "      <th></th>\n",
       "    </tr>\n",
       "  </thead>\n",
       "  <tbody>\n",
       "    <tr>\n",
       "      <th>0.0</th>\n",
       "      <td>157</td>\n",
       "      <td>2</td>\n",
       "    </tr>\n",
       "    <tr>\n",
       "      <th>1.0</th>\n",
       "      <td>29</td>\n",
       "      <td>0</td>\n",
       "    </tr>\n",
       "    <tr>\n",
       "      <th>2.0</th>\n",
       "      <td>14</td>\n",
       "      <td>0</td>\n",
       "    </tr>\n",
       "    <tr>\n",
       "      <th>3.0</th>\n",
       "      <td>26</td>\n",
       "      <td>0</td>\n",
       "    </tr>\n",
       "    <tr>\n",
       "      <th>4.0</th>\n",
       "      <td>23</td>\n",
       "      <td>2</td>\n",
       "    </tr>\n",
       "    <tr>\n",
       "      <th>5.0</th>\n",
       "      <td>11</td>\n",
       "      <td>0</td>\n",
       "    </tr>\n",
       "    <tr>\n",
       "      <th>6.0</th>\n",
       "      <td>64</td>\n",
       "      <td>5</td>\n",
       "    </tr>\n",
       "  </tbody>\n",
       "</table>\n",
       "</div>"
      ],
      "text/plain": [
       "Vulnerability Threshold  0.0  1.0\n",
       "Field:LPPN Score                 \n",
       "0.0                      157    2\n",
       "1.0                       29    0\n",
       "2.0                       14    0\n",
       "3.0                       26    0\n",
       "4.0                       23    2\n",
       "5.0                       11    0\n",
       "6.0                       64    5"
      ]
     },
     "execution_count": 22,
     "metadata": {},
     "output_type": "execute_result"
    }
   ],
   "source": [
    "pd.crosstab(full['Field:LPPN Score'],full['Vulnerability Threshold'],margins = False)"
   ]
  },
  {
   "cell_type": "code",
   "execution_count": 23,
   "metadata": {},
   "outputs": [
    {
     "data": {
      "text/plain": [
       "249"
      ]
     },
     "execution_count": 23,
     "metadata": {},
     "output_type": "execute_result"
    }
   ],
   "source": [
    "157+29+14+26+23"
   ]
  },
  {
   "cell_type": "code",
   "execution_count": 27,
   "metadata": {},
   "outputs": [
    {
     "data": {
      "text/html": [
       "<div>\n",
       "<style scoped>\n",
       "    .dataframe tbody tr th:only-of-type {\n",
       "        vertical-align: middle;\n",
       "    }\n",
       "\n",
       "    .dataframe tbody tr th {\n",
       "        vertical-align: top;\n",
       "    }\n",
       "\n",
       "    .dataframe thead th {\n",
       "        text-align: right;\n",
       "    }\n",
       "</style>\n",
       "<table border=\"1\" class=\"dataframe\">\n",
       "  <thead>\n",
       "    <tr style=\"text-align: right;\">\n",
       "      <th></th>\n",
       "      <th>Vulnerability Threshold</th>\n",
       "      <th>Field:Medical Needs Score</th>\n",
       "      <th>Field:LPPN Score</th>\n",
       "    </tr>\n",
       "  </thead>\n",
       "  <tbody>\n",
       "    <tr>\n",
       "      <th>275</th>\n",
       "      <td>1.0</td>\n",
       "      <td>0.0</td>\n",
       "      <td>4.0</td>\n",
       "    </tr>\n",
       "    <tr>\n",
       "      <th>358</th>\n",
       "      <td>1.0</td>\n",
       "      <td>5.0</td>\n",
       "      <td>6.0</td>\n",
       "    </tr>\n",
       "    <tr>\n",
       "      <th>361</th>\n",
       "      <td>1.0</td>\n",
       "      <td>6.0</td>\n",
       "      <td>6.0</td>\n",
       "    </tr>\n",
       "    <tr>\n",
       "      <th>406</th>\n",
       "      <td>1.0</td>\n",
       "      <td>5.0</td>\n",
       "      <td>NaN</td>\n",
       "    </tr>\n",
       "    <tr>\n",
       "      <th>459</th>\n",
       "      <td>1.0</td>\n",
       "      <td>0.0</td>\n",
       "      <td>6.0</td>\n",
       "    </tr>\n",
       "    <tr>\n",
       "      <th>468</th>\n",
       "      <td>1.0</td>\n",
       "      <td>NaN</td>\n",
       "      <td>NaN</td>\n",
       "    </tr>\n",
       "    <tr>\n",
       "      <th>520</th>\n",
       "      <td>1.0</td>\n",
       "      <td>5.0</td>\n",
       "      <td>0.0</td>\n",
       "    </tr>\n",
       "    <tr>\n",
       "      <th>623</th>\n",
       "      <td>1.0</td>\n",
       "      <td>6.0</td>\n",
       "      <td>6.0</td>\n",
       "    </tr>\n",
       "    <tr>\n",
       "      <th>686</th>\n",
       "      <td>1.0</td>\n",
       "      <td>5.0</td>\n",
       "      <td>6.0</td>\n",
       "    </tr>\n",
       "    <tr>\n",
       "      <th>716</th>\n",
       "      <td>1.0</td>\n",
       "      <td>5.0</td>\n",
       "      <td>0.0</td>\n",
       "    </tr>\n",
       "    <tr>\n",
       "      <th>804</th>\n",
       "      <td>1.0</td>\n",
       "      <td>0.0</td>\n",
       "      <td>4.0</td>\n",
       "    </tr>\n",
       "    <tr>\n",
       "      <th>926</th>\n",
       "      <td>1.0</td>\n",
       "      <td>NaN</td>\n",
       "      <td>NaN</td>\n",
       "    </tr>\n",
       "    <tr>\n",
       "      <th>996</th>\n",
       "      <td>1.0</td>\n",
       "      <td>NaN</td>\n",
       "      <td>NaN</td>\n",
       "    </tr>\n",
       "    <tr>\n",
       "      <th>1017</th>\n",
       "      <td>1.0</td>\n",
       "      <td>NaN</td>\n",
       "      <td>NaN</td>\n",
       "    </tr>\n",
       "    <tr>\n",
       "      <th>1032</th>\n",
       "      <td>1.0</td>\n",
       "      <td>NaN</td>\n",
       "      <td>NaN</td>\n",
       "    </tr>\n",
       "  </tbody>\n",
       "</table>\n",
       "</div>"
      ],
      "text/plain": [
       "      Vulnerability Threshold  Field:Medical Needs Score  Field:LPPN Score\n",
       "275                       1.0                        0.0               4.0\n",
       "358                       1.0                        5.0               6.0\n",
       "361                       1.0                        6.0               6.0\n",
       "406                       1.0                        5.0               NaN\n",
       "459                       1.0                        0.0               6.0\n",
       "468                       1.0                        NaN               NaN\n",
       "520                       1.0                        5.0               0.0\n",
       "623                       1.0                        6.0               6.0\n",
       "686                       1.0                        5.0               6.0\n",
       "716                       1.0                        5.0               0.0\n",
       "804                       1.0                        0.0               4.0\n",
       "926                       1.0                        NaN               NaN\n",
       "996                       1.0                        NaN               NaN\n",
       "1017                      1.0                        NaN               NaN\n",
       "1032                      1.0                        NaN               NaN"
      ]
     },
     "execution_count": 27,
     "metadata": {},
     "output_type": "execute_result"
    }
   ],
   "source": [
    "full[full['Vulnerability Threshold']==1][['Vulnerability Threshold','Field:Medical Needs Score','Field:LPPN Score']]"
   ]
  },
  {
   "cell_type": "code",
   "execution_count": 28,
   "metadata": {},
   "outputs": [
    {
     "data": {
      "text/html": [
       "<div>\n",
       "<style scoped>\n",
       "    .dataframe tbody tr th:only-of-type {\n",
       "        vertical-align: middle;\n",
       "    }\n",
       "\n",
       "    .dataframe tbody tr th {\n",
       "        vertical-align: top;\n",
       "    }\n",
       "\n",
       "    .dataframe thead th {\n",
       "        text-align: right;\n",
       "    }\n",
       "</style>\n",
       "<table border=\"1\" class=\"dataframe\">\n",
       "  <thead>\n",
       "    <tr style=\"text-align: right;\">\n",
       "      <th>Vulnerability Threshold</th>\n",
       "      <th>0.0</th>\n",
       "      <th>1.0</th>\n",
       "    </tr>\n",
       "    <tr>\n",
       "      <th>Field:Medical Needs Score</th>\n",
       "      <th></th>\n",
       "      <th></th>\n",
       "    </tr>\n",
       "  </thead>\n",
       "  <tbody>\n",
       "    <tr>\n",
       "      <th>0.0</th>\n",
       "      <td>212</td>\n",
       "      <td>3</td>\n",
       "    </tr>\n",
       "    <tr>\n",
       "      <th>1.0</th>\n",
       "      <td>6</td>\n",
       "      <td>0</td>\n",
       "    </tr>\n",
       "    <tr>\n",
       "      <th>2.0</th>\n",
       "      <td>11</td>\n",
       "      <td>0</td>\n",
       "    </tr>\n",
       "    <tr>\n",
       "      <th>3.0</th>\n",
       "      <td>34</td>\n",
       "      <td>0</td>\n",
       "    </tr>\n",
       "    <tr>\n",
       "      <th>4.0</th>\n",
       "      <td>59</td>\n",
       "      <td>0</td>\n",
       "    </tr>\n",
       "    <tr>\n",
       "      <th>5.0</th>\n",
       "      <td>76</td>\n",
       "      <td>5</td>\n",
       "    </tr>\n",
       "    <tr>\n",
       "      <th>6.0</th>\n",
       "      <td>42</td>\n",
       "      <td>2</td>\n",
       "    </tr>\n",
       "  </tbody>\n",
       "</table>\n",
       "</div>"
      ],
      "text/plain": [
       "Vulnerability Threshold    0.0  1.0\n",
       "Field:Medical Needs Score          \n",
       "0.0                        212    3\n",
       "1.0                          6    0\n",
       "2.0                         11    0\n",
       "3.0                         34    0\n",
       "4.0                         59    0\n",
       "5.0                         76    5\n",
       "6.0                         42    2"
      ]
     },
     "execution_count": 28,
     "metadata": {},
     "output_type": "execute_result"
    }
   ],
   "source": [
    "pd.crosstab(full['Field:Medical Needs Score'],full['Vulnerability Threshold'],margins = False)"
   ]
  },
  {
   "cell_type": "code",
   "execution_count": 29,
   "metadata": {},
   "outputs": [
    {
     "data": {
      "text/plain": [
       "322"
      ]
     },
     "execution_count": 29,
     "metadata": {},
     "output_type": "execute_result"
    }
   ],
   "source": [
    "212+6+11+34+59"
   ]
  },
  {
   "cell_type": "code",
   "execution_count": 30,
   "metadata": {},
   "outputs": [
    {
     "data": {
      "text/html": [
       "<div>\n",
       "<style scoped>\n",
       "    .dataframe tbody tr th:only-of-type {\n",
       "        vertical-align: middle;\n",
       "    }\n",
       "\n",
       "    .dataframe tbody tr th {\n",
       "        vertical-align: top;\n",
       "    }\n",
       "\n",
       "    .dataframe thead th {\n",
       "        text-align: right;\n",
       "    }\n",
       "</style>\n",
       "<table border=\"1\" class=\"dataframe\">\n",
       "  <thead>\n",
       "    <tr style=\"text-align: right;\">\n",
       "      <th>process_days</th>\n",
       "      <th>False</th>\n",
       "      <th>True</th>\n",
       "    </tr>\n",
       "    <tr>\n",
       "      <th>Field:LPPN Score</th>\n",
       "      <th></th>\n",
       "      <th></th>\n",
       "    </tr>\n",
       "  </thead>\n",
       "  <tbody>\n",
       "    <tr>\n",
       "      <th>0.0</th>\n",
       "      <td>177</td>\n",
       "      <td>34</td>\n",
       "    </tr>\n",
       "    <tr>\n",
       "      <th>1.0</th>\n",
       "      <td>36</td>\n",
       "      <td>9</td>\n",
       "    </tr>\n",
       "    <tr>\n",
       "      <th>2.0</th>\n",
       "      <td>19</td>\n",
       "      <td>2</td>\n",
       "    </tr>\n",
       "    <tr>\n",
       "      <th>3.0</th>\n",
       "      <td>34</td>\n",
       "      <td>10</td>\n",
       "    </tr>\n",
       "    <tr>\n",
       "      <th>4.0</th>\n",
       "      <td>30</td>\n",
       "      <td>11</td>\n",
       "    </tr>\n",
       "    <tr>\n",
       "      <th>5.0</th>\n",
       "      <td>19</td>\n",
       "      <td>1</td>\n",
       "    </tr>\n",
       "    <tr>\n",
       "      <th>6.0</th>\n",
       "      <td>106</td>\n",
       "      <td>38</td>\n",
       "    </tr>\n",
       "  </tbody>\n",
       "</table>\n",
       "</div>"
      ],
      "text/plain": [
       "process_days      False  True \n",
       "Field:LPPN Score              \n",
       "0.0                 177     34\n",
       "1.0                  36      9\n",
       "2.0                  19      2\n",
       "3.0                  34     10\n",
       "4.0                  30     11\n",
       "5.0                  19      1\n",
       "6.0                 106     38"
      ]
     },
     "execution_count": 30,
     "metadata": {},
     "output_type": "execute_result"
    }
   ],
   "source": [
    "pd.crosstab(full['Field:LPPN Score'],full['process_days']>1,margins = False)"
   ]
  },
  {
   "cell_type": "code",
   "execution_count": 31,
   "metadata": {},
   "outputs": [
    {
     "data": {
      "text/plain": [
       "66"
      ]
     },
     "execution_count": 31,
     "metadata": {},
     "output_type": "execute_result"
    }
   ],
   "source": [
    "34+9+2+10+11"
   ]
  },
  {
   "cell_type": "code",
   "execution_count": 32,
   "metadata": {},
   "outputs": [
    {
     "data": {
      "text/html": [
       "<div>\n",
       "<style scoped>\n",
       "    .dataframe tbody tr th:only-of-type {\n",
       "        vertical-align: middle;\n",
       "    }\n",
       "\n",
       "    .dataframe tbody tr th {\n",
       "        vertical-align: top;\n",
       "    }\n",
       "\n",
       "    .dataframe thead th {\n",
       "        text-align: right;\n",
       "    }\n",
       "</style>\n",
       "<table border=\"1\" class=\"dataframe\">\n",
       "  <thead>\n",
       "    <tr style=\"text-align: right;\">\n",
       "      <th>process_days</th>\n",
       "      <th>False</th>\n",
       "      <th>True</th>\n",
       "    </tr>\n",
       "    <tr>\n",
       "      <th>Field:Medical Needs Score</th>\n",
       "      <th></th>\n",
       "      <th></th>\n",
       "    </tr>\n",
       "  </thead>\n",
       "  <tbody>\n",
       "    <tr>\n",
       "      <th>0.0</th>\n",
       "      <td>265</td>\n",
       "      <td>44</td>\n",
       "    </tr>\n",
       "    <tr>\n",
       "      <th>1.0</th>\n",
       "      <td>8</td>\n",
       "      <td>3</td>\n",
       "    </tr>\n",
       "    <tr>\n",
       "      <th>2.0</th>\n",
       "      <td>9</td>\n",
       "      <td>5</td>\n",
       "    </tr>\n",
       "    <tr>\n",
       "      <th>3.0</th>\n",
       "      <td>41</td>\n",
       "      <td>7</td>\n",
       "    </tr>\n",
       "    <tr>\n",
       "      <th>4.0</th>\n",
       "      <td>71</td>\n",
       "      <td>17</td>\n",
       "    </tr>\n",
       "    <tr>\n",
       "      <th>5.0</th>\n",
       "      <td>120</td>\n",
       "      <td>27</td>\n",
       "    </tr>\n",
       "    <tr>\n",
       "      <th>6.0</th>\n",
       "      <td>58</td>\n",
       "      <td>28</td>\n",
       "    </tr>\n",
       "  </tbody>\n",
       "</table>\n",
       "</div>"
      ],
      "text/plain": [
       "process_days               False  True \n",
       "Field:Medical Needs Score              \n",
       "0.0                          265     44\n",
       "1.0                            8      3\n",
       "2.0                            9      5\n",
       "3.0                           41      7\n",
       "4.0                           71     17\n",
       "5.0                          120     27\n",
       "6.0                           58     28"
      ]
     },
     "execution_count": 32,
     "metadata": {},
     "output_type": "execute_result"
    }
   ],
   "source": [
    "pd.crosstab(full['Field:Medical Needs Score'],full['process_days']>1,margins = False)"
   ]
  },
  {
   "cell_type": "code",
   "execution_count": 33,
   "metadata": {},
   "outputs": [
    {
     "data": {
      "text/plain": [
       "76"
      ]
     },
     "execution_count": 33,
     "metadata": {},
     "output_type": "execute_result"
    }
   ],
   "source": [
    "44+3+5+7+17"
   ]
  },
  {
   "cell_type": "markdown",
   "metadata": {},
   "source": [
    "### Pearsons correlations"
   ]
  },
  {
   "cell_type": "code",
   "execution_count": 34,
   "metadata": {},
   "outputs": [
    {
     "data": {
      "text/plain": [
       "(0.08391809162662373, 0.06262573901534098)"
      ]
     },
     "execution_count": 34,
     "metadata": {},
     "output_type": "execute_result"
    }
   ],
   "source": [
    "medi_score = full[['Field:Medical Needs Score','process_days']].dropna()\n",
    "pearsonr(medi_score['Field:Medical Needs Score'],medi_score['process_days'])"
   ]
  },
  {
   "cell_type": "code",
   "execution_count": 35,
   "metadata": {},
   "outputs": [],
   "source": [
    "def find_pearson_time(var):\n",
    "    df = full[[var,'process_days']].dropna()\n",
    "    p = pearsonr(df[var],df['process_days'])\n",
    "#     print(var)\n",
    "#     print(\"PEARSON: {:.5f} p-value: {:.5f}\".format(p[0],p[1]))\n",
    "    return(p[0])\n",
    "    "
   ]
  },
  {
   "cell_type": "code",
   "execution_count": 36,
   "metadata": {},
   "outputs": [],
   "source": [
    "def find_pearson_thresh(var):\n",
    "    df = full[[var,'Vulnerability Threshold']].dropna()\n",
    "    p = pearsonr(df[var],df['Vulnerability Threshold'])\n",
    "#     print(var)\n",
    "#     print(\"PEARSON: {:.5f} p-value: {:.5f}\".format(p[0],p[1]))\n",
    "    return(p[0])\n",
    "    "
   ]
  },
  {
   "cell_type": "code",
   "execution_count": 37,
   "metadata": {},
   "outputs": [
    {
     "data": {
      "text/plain": [
       "0.08391809162662373"
      ]
     },
     "execution_count": 37,
     "metadata": {},
     "output_type": "execute_result"
    }
   ],
   "source": [
    "find_pearson_time('Field:Medical Needs Score')"
   ]
  },
  {
   "cell_type": "code",
   "execution_count": 38,
   "metadata": {},
   "outputs": [],
   "source": [
    "full[' Mona Follow up Needed'].replace(('Yes', 'No'), (1, 0), inplace=True)\n",
    "full['Mona Case Type Identification'].replace(('Accurate', 'Inaccurate'), (1, 0), inplace=True)\n",
    "full['Screening Stage'].replace(('Screening Complete', 'Screening'), (1, 0), inplace=True)\n",
    "full['In IRAP Process'].replace(('Yes', 'No'), (1, 0), inplace=True)\n",
    "full['First Referral'].replace(('Yes', 'No'), (1, 0), inplace=True)\n",
    "full[\"Flags\"].fillna(\"responsive\",inplace=True)\n",
    "full['Flags'].replace(('Unresponsive', 'responsive'), (1, 0), inplace=True)"
   ]
  },
  {
   "cell_type": "code",
   "execution_count": 40,
   "metadata": {},
   "outputs": [
    {
     "data": {
      "text/plain": [
       "[(0.4236875946096612, ' Mona Follow up Needed'),\n",
       " (0.2580631379674056, 'Flags'),\n",
       " (0.08391809162662373, 'Field:Medical Needs Score'),\n",
       " (0.06058520593503715, 'Field:LPPN Score'),\n",
       " (-0.046758139653815416, 'Mona Case Type Identification'),\n",
       " (0.04536128784220895, 'First Referral'),\n",
       " (0.020944797294969935, 'Screening Stage'),\n",
       " (-0.020920626497034474, 'In IRAP Process')]"
      ]
     },
     "execution_count": 40,
     "metadata": {},
     "output_type": "execute_result"
    }
   ],
   "source": [
    "pearson_time = []\n",
    "for i in [' Mona Follow up Needed', 'Mona Case Type Identification',\n",
    "    'Screening Stage','In IRAP Process','First Referral','Flags',\n",
    "         'Field:Medical Needs Score','Field:LPPN Score']:\n",
    "    pearson_time.append((find_pearson_time(i),i))\n",
    "sorted(pearson_time, key=lambda a: abs(a[0]), reverse=True)"
   ]
  },
  {
   "cell_type": "code",
   "execution_count": 41,
   "metadata": {},
   "outputs": [
    {
     "data": {
      "text/plain": [
       "[(0.27644327266750335, ' Mona Follow up Needed'),\n",
       " (-0.15864057253285996, 'Screening Stage'),\n",
       " (0.14373876551579282, 'Field:LPPN Score'),\n",
       " (0.08903822124779866, 'Field:Medical Needs Score'),\n",
       " (0.04554679952425642, 'First Referral'),\n",
       " (0.02545168270383625, 'Flags'),\n",
       " (0.021201727320569103, 'Mona Case Type Identification'),\n",
       " (-0.017310989648230354, 'In IRAP Process')]"
      ]
     },
     "execution_count": 41,
     "metadata": {},
     "output_type": "execute_result"
    }
   ],
   "source": [
    "pearson_thresh = []\n",
    "for i in [' Mona Follow up Needed', 'Mona Case Type Identification',\n",
    "    'Screening Stage','In IRAP Process','First Referral','Flags',\n",
    "          'Field:Medical Needs Score','Field:LPPN Score']:\n",
    "    pearson_thresh.append((find_pearson_thresh(i),i))\n",
    "sorted(pearson_thresh, key=lambda a: abs(a[0]), reverse=True)"
   ]
  },
  {
   "cell_type": "code",
   "execution_count": 42,
   "metadata": {},
   "outputs": [
    {
     "data": {
      "text/plain": [
       "1    870\n",
       "0    216\n",
       "Name: Screening Stage, dtype: int64"
      ]
     },
     "execution_count": 42,
     "metadata": {},
     "output_type": "execute_result"
    }
   ],
   "source": [
    "full['Screening Stage'].value_counts()"
   ]
  },
  {
   "cell_type": "code",
   "execution_count": 43,
   "metadata": {},
   "outputs": [
    {
     "data": {
      "text/plain": [
       "0.0    423\n",
       "1.0    200\n",
       "Name:  Mona Follow up Needed, dtype: int64"
      ]
     },
     "execution_count": 43,
     "metadata": {},
     "output_type": "execute_result"
    }
   ],
   "source": [
    "full[' Mona Follow up Needed'].value_counts()"
   ]
  },
  {
   "cell_type": "markdown",
   "metadata": {},
   "source": [
    "### Regression"
   ]
  },
  {
   "cell_type": "code",
   "execution_count": 44,
   "metadata": {},
   "outputs": [],
   "source": [
    "from sklearn.ensemble import RandomForestClassifier\n",
    "from sklearn.linear_model import LogisticRegression"
   ]
  },
  {
   "cell_type": "code",
   "execution_count": 45,
   "metadata": {},
   "outputs": [],
   "source": [
    "drop_na_full = full[[' Mona Follow up Needed', 'Mona Case Type Identification',\n",
    "    'Screening Stage','In IRAP Process','First Referral','Flags',\n",
    "          'Field:Medical Needs Score','Field:LPPN Score',\"Vulnerability Threshold\"]]"
   ]
  },
  {
   "cell_type": "code",
   "execution_count": 46,
   "metadata": {},
   "outputs": [],
   "source": [
    "drop_na_full = drop_na_full.dropna()"
   ]
  },
  {
   "cell_type": "code",
   "execution_count": 47,
   "metadata": {},
   "outputs": [],
   "source": [
    "x = drop_na_full[[' Mona Follow up Needed', 'Mona Case Type Identification',\n",
    "    'Screening Stage','In IRAP Process','First Referral','Flags',\n",
    "          'Field:Medical Needs Score','Field:LPPN Score']]"
   ]
  },
  {
   "cell_type": "code",
   "execution_count": 48,
   "metadata": {},
   "outputs": [],
   "source": [
    "y = drop_na_full[\"Vulnerability Threshold\"]"
   ]
  },
  {
   "cell_type": "code",
   "execution_count": 49,
   "metadata": {},
   "outputs": [
    {
     "data": {
      "text/plain": [
       "LogisticRegression(C=1.0, class_weight=None, dual=False, fit_intercept=True,\n",
       "                   intercept_scaling=1, l1_ratio=None, max_iter=100,\n",
       "                   multi_class='auto', n_jobs=None, penalty='l2',\n",
       "                   random_state=None, solver='lbfgs', tol=0.0001, verbose=0,\n",
       "                   warm_start=False)"
      ]
     },
     "execution_count": 49,
     "metadata": {},
     "output_type": "execute_result"
    }
   ],
   "source": [
    "logi = LogisticRegression(solver='lbfgs')\n",
    "logi.fit(x,y)"
   ]
  },
  {
   "cell_type": "markdown",
   "metadata": {},
   "source": [
    "#### Logistic"
   ]
  },
  {
   "cell_type": "code",
   "execution_count": 50,
   "metadata": {},
   "outputs": [
    {
     "data": {
      "text/plain": [
       "[(0.4236875946096612, ' Mona Follow up Needed'),\n",
       " (0.2580631379674056, 'Flags'),\n",
       " (0.08391809162662373, 'Field:Medical Needs Score'),\n",
       " (0.06058520593503715, 'Field:LPPN Score'),\n",
       " (-0.046758139653815416, 'Mona Case Type Identification'),\n",
       " (0.04536128784220895, 'First Referral'),\n",
       " (0.020944797294969935, 'Screening Stage'),\n",
       " (-0.020920626497034474, 'In IRAP Process')]"
      ]
     },
     "execution_count": 50,
     "metadata": {},
     "output_type": "execute_result"
    }
   ],
   "source": [
    "sorted(pearson_time, key=lambda a: abs(a[0]), reverse=True)"
   ]
  },
  {
   "cell_type": "code",
   "execution_count": 51,
   "metadata": {},
   "outputs": [
    {
     "data": {
      "text/plain": [
       "[(2.0570450691639066, ' Mona Follow up Needed'),\n",
       " (0.6532170000579494, 'Field:LPPN Score'),\n",
       " (-0.6288056572906205, 'Screening Stage'),\n",
       " (0.5521080481450001, 'First Referral'),\n",
       " (-0.1990746072788575, 'Flags'),\n",
       " (-0.09560582529266402, 'Field:Medical Needs Score'),\n",
       " (0.004447081764644184, 'Mona Case Type Identification'),\n",
       " (-0.0014768966121805312, 'In IRAP Process')]"
      ]
     },
     "execution_count": 51,
     "metadata": {},
     "output_type": "execute_result"
    }
   ],
   "source": [
    "sorted(list(zip(logi.coef_[0],x.columns)), key=lambda a: abs(a[0]), reverse=True)"
   ]
  },
  {
   "cell_type": "markdown",
   "metadata": {},
   "source": [
    "#### Random Forest"
   ]
  },
  {
   "cell_type": "code",
   "execution_count": 52,
   "metadata": {
    "scrolled": true
   },
   "outputs": [
    {
     "data": {
      "text/plain": [
       "[(0.30577076400971215, 'Field:LPPN Score'),\n",
       " (0.2898996461296321, ' Mona Follow up Needed'),\n",
       " (0.20226678506434548, 'Field:Medical Needs Score'),\n",
       " (0.09852247319750765, 'First Referral'),\n",
       " (0.08537600685346844, 'Screening Stage'),\n",
       " (0.017969450693131588, 'Flags'),\n",
       " (0.00012865042811471475, 'In IRAP Process'),\n",
       " (6.622362408792806e-05, 'Mona Case Type Identification')]"
      ]
     },
     "execution_count": 52,
     "metadata": {},
     "output_type": "execute_result"
    }
   ],
   "source": [
    "rf = RandomForestClassifier()\n",
    "rf.fit(x,y)\n",
    "sorted(list(zip(rf.feature_importances_,x.columns)),reverse=True)"
   ]
  },
  {
   "cell_type": "markdown",
   "metadata": {},
   "source": [
    "### Now on \"processing time\""
   ]
  },
  {
   "cell_type": "markdown",
   "metadata": {},
   "source": [
    "#### Pearsons"
   ]
  },
  {
   "cell_type": "code",
   "execution_count": 53,
   "metadata": {},
   "outputs": [
    {
     "data": {
      "text/plain": [
       "(0.14563166226584207, 0.0008082705334755726)"
      ]
     },
     "execution_count": 53,
     "metadata": {},
     "output_type": "execute_result"
    }
   ],
   "source": [
    "corr = full[['Field:Medical Needs Score','Field:LPPN Score']].dropna()\n",
    "pearsonr(corr['Field:Medical Needs Score'],corr['Field:LPPN Score'])"
   ]
  },
  {
   "cell_type": "code",
   "execution_count": 54,
   "metadata": {},
   "outputs": [
    {
     "data": {
      "image/png": "[encoded data removed]",
      "text/plain": [
       "<Figure size 432x288 with 1 Axes>"
      ]
     },
     "metadata": {
      "needs_background": "light"
     },
     "output_type": "display_data"
    }
   ],
   "source": [
    "plt.scatter(corr['Field:Medical Needs Score'],corr['Field:LPPN Score'],alpha=0.1)\n",
    "plt.show()"
   ]
  },
  {
   "cell_type": "code",
   "execution_count": 55,
   "metadata": {},
   "outputs": [
    {
     "data": {
      "text/plain": [
       "(0.06058520593503715, 0.25288604724284247)"
      ]
     },
     "execution_count": 55,
     "metadata": {},
     "output_type": "execute_result"
    }
   ],
   "source": [
    "corr2 = full[['Field:LPPN Score','process_days']].dropna()\n",
    "pearsonr(corr2['Field:LPPN Score'],corr2['process_days'])"
   ]
  },
  {
   "cell_type": "code",
   "execution_count": 56,
   "metadata": {},
   "outputs": [
    {
     "data": {
      "text/plain": [
       "(0.08391809162662373, 0.06262573901534098)"
      ]
     },
     "execution_count": 56,
     "metadata": {},
     "output_type": "execute_result"
    }
   ],
   "source": [
    "corr2 = full[['Field:Medical Needs Score','process_days']].dropna()\n",
    "pearsonr(corr2['Field:Medical Needs Score'],corr2['process_days'])"
   ]
  },
  {
   "cell_type": "code",
   "execution_count": 57,
   "metadata": {},
   "outputs": [
    {
     "data": {
      "text/plain": [
       "3      0.0\n",
       "5      0.0\n",
       "7      0.0\n",
       "13     5.0\n",
       "16     0.0\n",
       "      ... \n",
       "878    0.0\n",
       "879    5.0\n",
       "880    0.0\n",
       "882    0.0\n",
       "883    2.0\n",
       "Name: Field:Medical Needs Score, Length: 493, dtype: float64"
      ]
     },
     "execution_count": 57,
     "metadata": {},
     "output_type": "execute_result"
    }
   ],
   "source": [
    "corr2['Field:Medical Needs Score']"
   ]
  },
  {
   "cell_type": "code",
   "execution_count": 58,
   "metadata": {},
   "outputs": [
    {
     "data": {
      "image/png": "[encoded data removed]",
      "text/plain": [
       "<Figure size 432x288 with 1 Axes>"
      ]
     },
     "metadata": {
      "needs_background": "light"
     },
     "output_type": "display_data"
    }
   ],
   "source": [
    "plt.scatter(corr2['Field:Medical Needs Score'],corr2['process_days'],alpha=0.1)\n",
    "plt.ylim(-2,)\n",
    "plt.show()"
   ]
  },
  {
   "cell_type": "code",
   "execution_count": 59,
   "metadata": {},
   "outputs": [],
   "source": [
    "def find_pearson_time(var,df_name):\n",
    "    df = df_name[[var,'process_days']].dropna()\n",
    "    p = pearsonr(df[var],df['process_days'])\n",
    "#     print(var)\n",
    "#     print(\"PEARSON: {:.5f} p-value: {:.5f}\".format(p[0],p[1]))\n",
    "    return(p[0])\n",
    "    "
   ]
  },
  {
   "cell_type": "code",
   "execution_count": 60,
   "metadata": {},
   "outputs": [],
   "source": [
    "def find_pearson_thresh(var,df_name):\n",
    "    df = df_name[[var,'Vulnerability Threshold']].dropna()\n",
    "    p = pearsonr(df[var],df['Vulnerability Threshold'])\n",
    "#     print(var)\n",
    "#     print(\"PEARSON: {:.5f} p-value: {:.5f}\".format(p[0],p[1]))\n",
    "    return(p[0])\n",
    "    "
   ]
  },
  {
   "cell_type": "code",
   "execution_count": 61,
   "metadata": {},
   "outputs": [
    {
     "data": {
      "text/plain": [
       "-0.0010530542277671355"
      ]
     },
     "execution_count": 61,
     "metadata": {},
     "output_type": "execute_result"
    }
   ],
   "source": [
    "find_pearson_time('Field:Medical Needs Score',multiple_vars)"
   ]
  },
  {
   "cell_type": "code",
   "execution_count": 62,
   "metadata": {},
   "outputs": [
    {
     "data": {
      "text/plain": [
       "Index(['Vulnerability Threshold', 'process_days', 'Field:Age', 'Field:Gender',\n",
       "       'Field:LPPN Score', 'Field:Medical Condition Assessment',\n",
       "       'Field:Medical Condition Score', 'Field:Medical Condition 1 Score',\n",
       "       'Field:Medical Condition 2 Score', 'Field:Medical Condition 3 Score',\n",
       "       'Field:Medical Needs Score', 'Field:Years in Current Country',\n",
       "       'nationality_Iraqi', 'nationality_Syrian', 'curr_country_Egypt',\n",
       "       'curr_country_Iraq', 'curr_country_Lebanon',\n",
       "       'curr_country_Saudi Arabia', 'curr_country_Syria',\n",
       "       'curr_country_Turkey'],\n",
       "      dtype='object')"
      ]
     },
     "execution_count": 62,
     "metadata": {},
     "output_type": "execute_result"
    }
   ],
   "source": [
    "multiple_vars.columns"
   ]
  },
  {
   "cell_type": "code",
   "execution_count": 63,
   "metadata": {},
   "outputs": [
    {
     "name": "stderr",
     "output_type": "stream",
     "text": [
      "/Users/xiaoxiangma/anaconda3/lib/python3.7/site-packages/scipy/stats/stats.py:3508: PearsonRConstantInputWarning: An input array is constant; the correlation coefficent is not defined.\n",
      "  warnings.warn(PearsonRConstantInputWarning())\n"
     ]
    },
    {
     "data": {
      "text/plain": [
       "[(-0.15778867035014985, 'Field:Medical Condition 3 Score'),\n",
       " (0.09219787124024523, 'nationality_Iraqi'),\n",
       " (-0.0921978712402452, 'nationality_Syrian'),\n",
       " (0.07744214274485131, 'Field:Age'),\n",
       " (-0.0749151683071375, 'Field:Gender'),\n",
       " (-0.07046126861308283, 'Field:Medical Condition 2 Score'),\n",
       " (-0.028167119576418737, 'Field:Medical Condition Score'),\n",
       " (0.02741890606427947, 'Vulnerability Threshold'),\n",
       " (0.027327953800019126, 'curr_country_Iraq'),\n",
       " (-0.021002557851902005, 'Field:LPPN Score'),\n",
       " (-0.01969411004653231, 'curr_country_Lebanon'),\n",
       " (-0.01748533607055804, 'Field:Years in Current Country'),\n",
       " (-0.015430236032506307, 'curr_country_Saudi Arabia'),\n",
       " (0.011421102674494884, 'curr_country_Egypt'),\n",
       " (0.003772743044411331, 'Field:Medical Condition Assessment'),\n",
       " (0.0035519399789179867, 'Field:Medical Condition 1 Score'),\n",
       " (-0.0010530542277671355, 'Field:Medical Needs Score'),\n",
       " (nan, 'curr_country_Syria'),\n",
       " (0.013278086727270735, 'curr_country_Turkey')]"
      ]
     },
     "execution_count": 63,
     "metadata": {},
     "output_type": "execute_result"
    }
   ],
   "source": [
    "pearson_time = []\n",
    "for i in ['Vulnerability Threshold', 'Field:Age', 'Field:Gender',\n",
    "       'Field:LPPN Score', 'Field:Medical Condition Assessment',\n",
    "       'Field:Medical Condition Score', 'Field:Medical Condition 1 Score',\n",
    "       'Field:Medical Condition 2 Score', 'Field:Medical Condition 3 Score',\n",
    "       'Field:Medical Needs Score', 'Field:Years in Current Country',\n",
    "       'nationality_Iraqi', 'nationality_Syrian', 'curr_country_Egypt',\n",
    "       'curr_country_Iraq', 'curr_country_Lebanon',\n",
    "       'curr_country_Saudi Arabia', 'curr_country_Syria',\n",
    "       'curr_country_Turkey']:\n",
    "    pearson_time.append((find_pearson_time(i,multiple_vars),i))\n",
    "sorted(pearson_time, key=lambda a: abs(a[0]), reverse=True)"
   ]
  },
  {
   "cell_type": "code",
   "execution_count": 64,
   "metadata": {},
   "outputs": [
    {
     "data": {
      "text/plain": [
       "[(0.15710254706878388, 'Field:Medical Condition 1 Score'),\n",
       " (0.14334777471842736, 'Field:Medical Needs Score'),\n",
       " (0.1420073515700646, 'Field:Medical Condition Score'),\n",
       " (0.1387819717603251, 'Field:LPPN Score'),\n",
       " (0.1194376790528901, 'Field:Medical Condition Assessment'),\n",
       " (-0.08927314963459561, 'Field:Gender'),\n",
       " (0.0707802285856229, 'curr_country_Lebanon'),\n",
       " (-0.030429030972509232, 'curr_country_Egypt'),\n",
       " (0.02741890606427947, 'process_days'),\n",
       " (0.01853446638876584, 'Field:Medical Condition 3 Score'),\n",
       " (-0.017352640209845116, 'nationality_Iraqi'),\n",
       " (0.017352640209845116, 'nationality_Syrian'),\n",
       " (-0.0122467000896329, 'Field:Years in Current Country'),\n",
       " (-0.012232930723626231, 'curr_country_Iraq'),\n",
       " (-0.012232930723626231, 'curr_country_Saudi Arabia'),\n",
       " (0.01119790333008934, 'Field:Age'),\n",
       " (0.008618023754328092, 'Field:Medical Condition 2 Score'),\n",
       " (nan, 'curr_country_Syria'),\n",
       " (-0.05815821362113485, 'curr_country_Turkey')]"
      ]
     },
     "execution_count": 64,
     "metadata": {},
     "output_type": "execute_result"
    }
   ],
   "source": [
    "pearson_thresh = []\n",
    "for i in ['process_days', 'Field:Age', 'Field:Gender',\n",
    "       'Field:LPPN Score', 'Field:Medical Condition Assessment',\n",
    "       'Field:Medical Condition Score', 'Field:Medical Condition 1 Score',\n",
    "       'Field:Medical Condition 2 Score', 'Field:Medical Condition 3 Score',\n",
    "       'Field:Medical Needs Score', 'Field:Years in Current Country',\n",
    "       'nationality_Iraqi', 'nationality_Syrian', 'curr_country_Egypt',\n",
    "       'curr_country_Iraq', 'curr_country_Lebanon',\n",
    "       'curr_country_Saudi Arabia', 'curr_country_Syria',\n",
    "       'curr_country_Turkey']:\n",
    "    pearson_thresh.append((find_pearson_thresh(i,multiple_vars),i))\n",
    "sorted(pearson_thresh, key=lambda a: abs(a[0]), reverse=True)"
   ]
  },
  {
   "cell_type": "markdown",
   "metadata": {},
   "source": [
    "#### Regression"
   ]
  },
  {
   "cell_type": "code",
   "execution_count": 65,
   "metadata": {},
   "outputs": [],
   "source": [
    "x = multiple_vars.drop('Vulnerability Threshold',axis=1)"
   ]
  },
  {
   "cell_type": "code",
   "execution_count": 66,
   "metadata": {},
   "outputs": [],
   "source": [
    "y = multiple_vars['Vulnerability Threshold']"
   ]
  },
  {
   "cell_type": "code",
   "execution_count": 67,
   "metadata": {},
   "outputs": [],
   "source": [
    "x2 = multiple_vars.drop('process_days',axis=1)"
   ]
  },
  {
   "cell_type": "code",
   "execution_count": 68,
   "metadata": {},
   "outputs": [],
   "source": [
    "y2 = multiple_vars['process_days']"
   ]
  },
  {
   "cell_type": "code",
   "execution_count": 69,
   "metadata": {},
   "outputs": [
    {
     "name": "stderr",
     "output_type": "stream",
     "text": [
      "/Users/xiaoxiangma/anaconda3/lib/python3.7/site-packages/sklearn/linear_model/_logistic.py:940: ConvergenceWarning: lbfgs failed to converge (status=2):\n",
      "ABNORMAL_TERMINATION_IN_LNSRCH.\n",
      "\n",
      "Increase the number of iterations (max_iter) or scale the data as shown in:\n",
      "    https://scikit-learn.org/stable/modules/preprocessing.html\n",
      "Please also refer to the documentation for alternative solver options:\n",
      "    https://scikit-learn.org/stable/modules/linear_model.html#logistic-regression\n",
      "  extra_warning_msg=_LOGISTIC_SOLVER_CONVERGENCE_MSG)\n"
     ]
    },
    {
     "data": {
      "text/plain": [
       "LogisticRegression(C=1.0, class_weight=None, dual=False, fit_intercept=True,\n",
       "                   intercept_scaling=1, l1_ratio=None, max_iter=10000,\n",
       "                   multi_class='auto', n_jobs=None, penalty='l2',\n",
       "                   random_state=None, solver='lbfgs', tol=0.0001, verbose=0,\n",
       "                   warm_start=False)"
      ]
     },
     "execution_count": 69,
     "metadata": {},
     "output_type": "execute_result"
    }
   ],
   "source": [
    "logi = LogisticRegression(solver='lbfgs',max_iter=10000)\n",
    "logi.fit(x,y)\n",
    "logi2 = LogisticRegression(solver='lbfgs',max_iter=10000)\n",
    "logi2.fit(x2,y2)"
   ]
  },
  {
   "cell_type": "markdown",
   "metadata": {},
   "source": [
    "#### Logistic (vulnerability)"
   ]
  },
  {
   "cell_type": "code",
   "execution_count": 70,
   "metadata": {},
   "outputs": [
    {
     "data": {
      "text/plain": [
       "[(-0.5363503737825361, 'Field:Gender'),\n",
       " (0.5359658117014381, 'Field:Medical Condition 1 Score'),\n",
       " (0.5276203829821431, 'curr_country_Lebanon'),\n",
       " (-0.4146989850124395, 'curr_country_Turkey'),\n",
       " (0.27874670280447666, 'Field:Medical Needs Score'),\n",
       " (0.25747769805352116, 'Field:LPPN Score'),\n",
       " (-0.20453888401540254, 'Field:Years in Current Country'),\n",
       " (0.1873512835871616, 'Field:Medical Condition Assessment'),\n",
       " (-0.1358652913160069, 'Field:Medical Condition 2 Score'),\n",
       " (-0.06672571762243087, 'curr_country_Egypt'),\n",
       " (-0.045595184956246544, 'curr_country_Saudi Arabia'),\n",
       " (0.039733594838322873, 'Field:Age'),\n",
       " (0.03714165249818077, 'Field:Medical Condition Score'),\n",
       " (-0.02753358929663484, 'nationality_Iraqi'),\n",
       " (0.02572399173256545, 'nationality_Syrian'),\n",
       " (-0.009202140281589548, 'Field:Medical Condition 3 Score'),\n",
       " (-0.0024100929550984773, 'curr_country_Iraq'),\n",
       " (0.00039339236503725894, 'process_days'),\n",
       " (0.0, 'curr_country_Syria')]"
      ]
     },
     "execution_count": 70,
     "metadata": {},
     "output_type": "execute_result"
    }
   ],
   "source": [
    "sorted(list(zip(logi.coef_[0],x.columns)), key=lambda a: abs(a[0]), reverse=True)"
   ]
  },
  {
   "cell_type": "markdown",
   "metadata": {},
   "source": [
    "#### Logistic (process days)"
   ]
  },
  {
   "cell_type": "code",
   "execution_count": 71,
   "metadata": {},
   "outputs": [
    {
     "data": {
      "text/plain": [
       "[(0.5327488398230077, 'Field:Medical Condition 3 Score'),\n",
       " (0.37970456615143827, 'Field:Medical Condition 2 Score'),\n",
       " (0.32578540175038306, 'Field:Years in Current Country'),\n",
       " (-0.24085278309135108, 'Field:Age'),\n",
       " (0.23063111971256137, 'Field:LPPN Score'),\n",
       " (0.17791562872115313, 'Field:Medical Condition Score'),\n",
       " (0.12744832809971368, 'Field:Medical Condition 1 Score'),\n",
       " (0.09965287989752812, 'Field:Medical Needs Score'),\n",
       " (0.0827375389814776, 'Field:Medical Condition Assessment'),\n",
       " (-0.02255628699188481, 'nationality_Syrian'),\n",
       " (0.019895298560966078, 'Field:Gender'),\n",
       " (-0.014898038061742508, 'curr_country_Turkey'),\n",
       " (-0.005767702291251902, 'curr_country_Egypt'),\n",
       " (-0.003906331143286851, 'Vulnerability Threshold'),\n",
       " (-0.0021393599624748502, 'curr_country_Lebanon'),\n",
       " (-0.0009283004055303639, 'nationality_Iraqi'),\n",
       " (-0.0004008377975674102, 'curr_country_Saudi Arabia'),\n",
       " (-0.00027864928437145196, 'curr_country_Iraq'),\n",
       " (0.0, 'curr_country_Syria')]"
      ]
     },
     "execution_count": 71,
     "metadata": {},
     "output_type": "execute_result"
    }
   ],
   "source": [
    "sorted(list(zip(logi2.coef_[0],x2.columns)), key=lambda a: abs(a[0]), reverse=True)"
   ]
  },
  {
   "cell_type": "markdown",
   "metadata": {},
   "source": [
    "#### Random Forest  (vulnerability)"
   ]
  },
  {
   "cell_type": "code",
   "execution_count": 72,
   "metadata": {
    "scrolled": false
   },
   "outputs": [
    {
     "data": {
      "text/plain": [
       "[(0.25947164503595727, 'process_days'),\n",
       " (0.15413805801364372, 'Field:Age'),\n",
       " (0.1361423229140168, 'Field:Years in Current Country'),\n",
       " (0.07598585714430789, 'Field:LPPN Score'),\n",
       " (0.0703194619569517, 'Field:Medical Condition Score'),\n",
       " (0.0643425884024398, 'Field:Medical Condition 2 Score'),\n",
       " (0.05521513844819893, 'Field:Medical Condition Assessment'),\n",
       " (0.05003436774190384, 'Field:Medical Condition 1 Score'),\n",
       " (0.045438104541449656, 'Field:Gender'),\n",
       " (0.03856344854312845, 'Field:Medical Needs Score'),\n",
       " (0.03235337139388772, 'Field:Medical Condition 3 Score'),\n",
       " (0.006693556476426362, 'curr_country_Lebanon'),\n",
       " (0.006138081285350807, 'curr_country_Turkey'),\n",
       " (0.004162782760082236, 'curr_country_Egypt'),\n",
       " (0.0009888934163527223, 'nationality_Syrian'),\n",
       " (1.2321925902172786e-05, 'curr_country_Saudi Arabia'),\n",
       " (0.0, 'nationality_Iraqi'),\n",
       " (0.0, 'curr_country_Syria'),\n",
       " (0.0, 'curr_country_Iraq')]"
      ]
     },
     "execution_count": 72,
     "metadata": {},
     "output_type": "execute_result"
    }
   ],
   "source": [
    "rf = RandomForestClassifier()\n",
    "rf.fit(x,y)\n",
    "sorted(list(zip(rf.feature_importances_,x.columns)),reverse=True)"
   ]
  },
  {
   "cell_type": "markdown",
   "metadata": {},
   "source": [
    "#### Random Forest  (process days)"
   ]
  },
  {
   "cell_type": "code",
   "execution_count": 73,
   "metadata": {
    "scrolled": false
   },
   "outputs": [
    {
     "data": {
      "text/plain": [
       "[(0.1988496093595951, 'Field:Age'),\n",
       " (0.14147439722220978, 'Field:Years in Current Country'),\n",
       " (0.12183734301177507, 'Field:LPPN Score'),\n",
       " (0.08644917199423974, 'Field:Medical Condition 1 Score'),\n",
       " (0.06663065375112835, 'Field:Medical Condition 2 Score'),\n",
       " (0.06641584997466593, 'Field:Medical Needs Score'),\n",
       " (0.05948720694940147, 'Field:Medical Condition Assessment'),\n",
       " (0.05869856412226503, 'Field:Medical Condition Score'),\n",
       " (0.04807885205176562, 'Field:Medical Condition 3 Score'),\n",
       " (0.043794296709301746, 'Field:Gender'),\n",
       " (0.029512426715233273, 'process_days'),\n",
       " (0.01776036898401047, 'curr_country_Lebanon'),\n",
       " (0.017071813285520016, 'curr_country_Turkey'),\n",
       " (0.01156781426349445, 'nationality_Syrian'),\n",
       " (0.01046149555304751, 'curr_country_Iraq'),\n",
       " (0.010162059310328828, 'nationality_Iraqi'),\n",
       " (0.006132356610932722, 'curr_country_Saudi Arabia'),\n",
       " (0.005615720131084914, 'curr_country_Egypt'),\n",
       " (0.0, 'curr_country_Syria')]"
      ]
     },
     "execution_count": 73,
     "metadata": {},
     "output_type": "execute_result"
    }
   ],
   "source": [
    "rf = RandomForestClassifier()\n",
    "rf.fit(x2,y2)\n",
    "sorted(list(zip(rf.feature_importances_,x.columns)),reverse=True)"
   ]
  },
  {
   "cell_type": "code",
   "execution_count": null,
   "metadata": {},
   "outputs": [],
   "source": []
  }
 ],
 "metadata": {
  "kernelspec": {
   "display_name": "Python 3",
   "language": "python",
   "name": "python3"
  },
  "language_info": {
   "codemirror_mode": {
    "name": "ipython",
    "version": 3
   },
   "file_extension": ".py",
   "mimetype": "text/x-python",
   "name": "python",
   "nbconvert_exporter": "python",
   "pygments_lexer": "ipython3",
   "version": "3.7.5"
  }
 },
 "nbformat": 4,
 "nbformat_minor": 2
}

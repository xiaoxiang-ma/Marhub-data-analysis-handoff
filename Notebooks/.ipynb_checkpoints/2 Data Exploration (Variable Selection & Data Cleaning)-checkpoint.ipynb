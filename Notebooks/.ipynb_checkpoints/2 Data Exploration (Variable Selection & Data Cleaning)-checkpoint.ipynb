{
 "cells": [
  {
   "cell_type": "markdown",
   "metadata": {},
   "source": [
    "## Irap & Mona data merge, 2nd EDA with statsmodel"
   ]
  },
  {
   "cell_type": "code",
   "execution_count": 1,
   "metadata": {},
   "outputs": [],
   "source": [
    "import numpy as np\n",
    "import pandas as pd\n",
    "import matplotlib.pyplot as plt \n",
    "from scipy.stats import pearsonr\n",
    "from sklearn.linear_model import LogisticRegression "
   ]
  },
  {
   "cell_type": "markdown",
   "metadata": {},
   "source": [
    "#### import and merge data"
   ]
  },
  {
   "cell_type": "code",
   "execution_count": 2,
   "metadata": {},
   "outputs": [],
   "source": [
    "path = \"../Final Soft Launch Results/Current Source Data/\""
   ]
  },
  {
   "cell_type": "code",
   "execution_count": 3,
   "metadata": {},
   "outputs": [],
   "source": [
    "d1=\"Data from IRAP 01072020.xlsx\"\n",
    "d2=\"Merge for Vulnerability Screening.xlsx\"\n",
    "d3=\"Raw Data from Mona 01172020.xlsx\""
   ]
  },
  {
   "cell_type": "code",
   "execution_count": 4,
   "metadata": {},
   "outputs": [],
   "source": [
    "irap = pd.read_excel (path+d1)\n",
    "mona = pd.read_excel (path+d3)"
   ]
  },
  {
   "cell_type": "code",
   "execution_count": 5,
   "metadata": {},
   "outputs": [],
   "source": [
    "irap['process_days'] = irap['Date of Screening Decision']-irap['Date of Screening Start']\n",
    "irap['process_days'] = irap['process_days'].astype('timedelta64[D]')\n",
    "irap['process_daysA'] = irap['Date of Screening Start']-irap['Date of Referral']\n",
    "irap['process_daysA'] = irap['process_daysA'].astype('timedelta64[D]')\n",
    "irap['process_daysC'] = irap['Date of Screening Decision']-irap['Date of Referral']\n",
    "irap['process_daysC'] = irap['process_daysC'].astype('timedelta64[D]')"
   ]
  },
  {
   "cell_type": "code",
   "execution_count": 6,
   "metadata": {},
   "outputs": [
    {
     "data": {
      "text/plain": [
       "['Date of Referral', 'Date of Screening Start', 'Date of Screening Decision']"
      ]
     },
     "execution_count": 6,
     "metadata": {},
     "output_type": "execute_result"
    }
   ],
   "source": [
    "filter_col = [col for col in irap if col.startswith('Date')]\n",
    "filter_col"
   ]
  },
  {
   "cell_type": "code",
   "execution_count": 7,
   "metadata": {},
   "outputs": [],
   "source": [
    "mona = mona.rename({'Contact UUID': 'Mona Unique User ID'}, axis=1)"
   ]
  },
  {
   "cell_type": "code",
   "execution_count": 8,
   "metadata": {},
   "outputs": [],
   "source": [
    "full = pd.merge(irap, mona, on='Mona Unique User ID',how=\"outer\").dropna(axis=1, how='all')"
   ]
  },
  {
   "cell_type": "code",
   "execution_count": 9,
   "metadata": {},
   "outputs": [],
   "source": [
    "result = full.copy()"
   ]
  },
  {
   "cell_type": "code",
   "execution_count": 10,
   "metadata": {},
   "outputs": [],
   "source": [
    "full['Field:Gender'].replace(('Male', 'Female'), (1, 0), inplace=True)\n",
    "full['Vulnerability Threshold'].replace(('Above', 'Below'), (1, 0), inplace=True)"
   ]
  },
  {
   "cell_type": "code",
   "execution_count": 11,
   "metadata": {},
   "outputs": [],
   "source": [
    "def one_hot(dataframe,column_name):\n",
    "    gen_onehot_features = pd.get_dummies(dataframe[column_name])\n",
    "    result = pd.concat([dataframe, gen_onehot_features],axis=1)\n",
    "    return result"
   ]
  },
  {
   "cell_type": "code",
   "execution_count": 12,
   "metadata": {},
   "outputs": [],
   "source": [
    "full['Field:Nationality1'] = 'nationality_' + full['Field:Nationality1']\n",
    "full = one_hot(full,'Field:Nationality1')\n"
   ]
  },
  {
   "cell_type": "code",
   "execution_count": 13,
   "metadata": {},
   "outputs": [],
   "source": [
    "full['Field:Current Country'] = 'curr_country_' + full['Field:Current Country']\n",
    "full = one_hot(full,'Field:Current Country')"
   ]
  },
  {
   "cell_type": "code",
   "execution_count": 14,
   "metadata": {},
   "outputs": [],
   "source": [
    "numeric = full.select_dtypes(exclude=['object','datetime64[ns]'])"
   ]
  },
  {
   "cell_type": "code",
   "execution_count": 15,
   "metadata": {},
   "outputs": [
    {
     "data": {
      "text/html": [
       "<div>\n",
       "<style scoped>\n",
       "    .dataframe tbody tr th:only-of-type {\n",
       "        vertical-align: middle;\n",
       "    }\n",
       "\n",
       "    .dataframe tbody tr th {\n",
       "        vertical-align: top;\n",
       "    }\n",
       "\n",
       "    .dataframe thead th {\n",
       "        text-align: right;\n",
       "    }\n",
       "</style>\n",
       "<table border=\"1\" class=\"dataframe\">\n",
       "  <thead>\n",
       "    <tr style=\"text-align: right;\">\n",
       "      <th></th>\n",
       "      <th>Mona Unique Session ID</th>\n",
       "      <th>Mona Unique User ID</th>\n",
       "      <th>Created on</th>\n",
       "      <th>Created by</th>\n",
       "      <th>Pipeline</th>\n",
       "      <th>Date of Referral</th>\n",
       "      <th>First Referral</th>\n",
       "      <th>In IRAP Process</th>\n",
       "      <th>Screening Stage</th>\n",
       "      <th>Screener</th>\n",
       "      <th>...</th>\n",
       "      <th>curr_country_the United States</th>\n",
       "      <th>curr_country_أوكرانيا</th>\n",
       "      <th>curr_country_إيطاليا</th>\n",
       "      <th>curr_country_اليونان</th>\n",
       "      <th>curr_country_جزيرة كوس اليونان</th>\n",
       "      <th>curr_country_جورجيا تبليسي</th>\n",
       "      <th>curr_country_قطاع غزة</th>\n",
       "      <th>curr_country_كندا</th>\n",
       "      <th>curr_country_نعم أنا في إيطاليا</th>\n",
       "      <th>curr_country_يونان</th>\n",
       "    </tr>\n",
       "  </thead>\n",
       "  <tbody>\n",
       "    <tr>\n",
       "      <th>0</th>\n",
       "      <td>ce81140c-7083-4463-90ed-ad36d1a41011.2019-07-2...</td>\n",
       "      <td>ce81140c-7083-4463-90ed-ad36d1a41011</td>\n",
       "      <td>2019-12-11 06:02:17</td>\n",
       "      <td>Brooke Sauro</td>\n",
       "      <td>Mona</td>\n",
       "      <td>2019-07-25</td>\n",
       "      <td>No</td>\n",
       "      <td>No</td>\n",
       "      <td>Screening Complete</td>\n",
       "      <td>Michaela Gallien</td>\n",
       "      <td>...</td>\n",
       "      <td>0</td>\n",
       "      <td>0</td>\n",
       "      <td>0</td>\n",
       "      <td>0</td>\n",
       "      <td>0</td>\n",
       "      <td>0</td>\n",
       "      <td>0</td>\n",
       "      <td>0</td>\n",
       "      <td>0</td>\n",
       "      <td>0</td>\n",
       "    </tr>\n",
       "    <tr>\n",
       "      <th>1</th>\n",
       "      <td>92952aa434524f549543d3fcc79054fe20190804T02434...</td>\n",
       "      <td>92952aa4-3452-4f54-9543-d3fcc79054fe</td>\n",
       "      <td>2019-12-11 06:02:17</td>\n",
       "      <td>Brooke Sauro</td>\n",
       "      <td>Mona</td>\n",
       "      <td>2019-08-03</td>\n",
       "      <td>No</td>\n",
       "      <td>Yes</td>\n",
       "      <td>Screening Complete</td>\n",
       "      <td>Manal ElKhoury</td>\n",
       "      <td>...</td>\n",
       "      <td>0</td>\n",
       "      <td>0</td>\n",
       "      <td>0</td>\n",
       "      <td>0</td>\n",
       "      <td>0</td>\n",
       "      <td>0</td>\n",
       "      <td>0</td>\n",
       "      <td>0</td>\n",
       "      <td>0</td>\n",
       "      <td>0</td>\n",
       "    </tr>\n",
       "    <tr>\n",
       "      <th>2</th>\n",
       "      <td>92952aa434524f549543d3fcc79054fe20190806T11414...</td>\n",
       "      <td>92952aa4-3452-4f54-9543-d3fcc79054fe</td>\n",
       "      <td>2019-10-07 08:21:12</td>\n",
       "      <td>Brooke Sauro</td>\n",
       "      <td>Mona</td>\n",
       "      <td>2019-08-08</td>\n",
       "      <td>Yes</td>\n",
       "      <td>No</td>\n",
       "      <td>Screening</td>\n",
       "      <td>Manal ElKhoury</td>\n",
       "      <td>...</td>\n",
       "      <td>0</td>\n",
       "      <td>0</td>\n",
       "      <td>0</td>\n",
       "      <td>0</td>\n",
       "      <td>0</td>\n",
       "      <td>0</td>\n",
       "      <td>0</td>\n",
       "      <td>0</td>\n",
       "      <td>0</td>\n",
       "      <td>0</td>\n",
       "    </tr>\n",
       "    <tr>\n",
       "      <th>3</th>\n",
       "      <td>8a4a87a6eeeb43019d820644a8a7534620190802T07350...</td>\n",
       "      <td>8a4a87a6-eeeb-4301-9d82-0644a8a75346</td>\n",
       "      <td>2019-12-11 06:02:17</td>\n",
       "      <td>Brooke Sauro</td>\n",
       "      <td>Mona</td>\n",
       "      <td>2019-08-02</td>\n",
       "      <td>No</td>\n",
       "      <td>No</td>\n",
       "      <td>Screening</td>\n",
       "      <td>Tiba Fatli</td>\n",
       "      <td>...</td>\n",
       "      <td>0</td>\n",
       "      <td>0</td>\n",
       "      <td>0</td>\n",
       "      <td>0</td>\n",
       "      <td>0</td>\n",
       "      <td>0</td>\n",
       "      <td>0</td>\n",
       "      <td>0</td>\n",
       "      <td>0</td>\n",
       "      <td>0</td>\n",
       "    </tr>\n",
       "    <tr>\n",
       "      <th>4</th>\n",
       "      <td>758240c9578a4e29b66bd1d95de9cdc620190802T21293...</td>\n",
       "      <td>758240c9-578a-4e29-b66b-d1d95de9cdc6</td>\n",
       "      <td>2019-12-11 06:02:17</td>\n",
       "      <td>Brooke Sauro</td>\n",
       "      <td>Mona</td>\n",
       "      <td>2019-08-02</td>\n",
       "      <td>No</td>\n",
       "      <td>No</td>\n",
       "      <td>Screening Complete</td>\n",
       "      <td>Tania El Khoury</td>\n",
       "      <td>...</td>\n",
       "      <td>0</td>\n",
       "      <td>0</td>\n",
       "      <td>0</td>\n",
       "      <td>0</td>\n",
       "      <td>0</td>\n",
       "      <td>0</td>\n",
       "      <td>0</td>\n",
       "      <td>0</td>\n",
       "      <td>0</td>\n",
       "      <td>0</td>\n",
       "    </tr>\n",
       "  </tbody>\n",
       "</table>\n",
       "<p>5 rows × 374 columns</p>\n",
       "</div>"
      ],
      "text/plain": [
       "                              Mona Unique Session ID  \\\n",
       "0  ce81140c-7083-4463-90ed-ad36d1a41011.2019-07-2...   \n",
       "1  92952aa434524f549543d3fcc79054fe20190804T02434...   \n",
       "2  92952aa434524f549543d3fcc79054fe20190806T11414...   \n",
       "3  8a4a87a6eeeb43019d820644a8a7534620190802T07350...   \n",
       "4  758240c9578a4e29b66bd1d95de9cdc620190802T21293...   \n",
       "\n",
       "                    Mona Unique User ID          Created on    Created by  \\\n",
       "0  ce81140c-7083-4463-90ed-ad36d1a41011 2019-12-11 06:02:17  Brooke Sauro   \n",
       "1  92952aa4-3452-4f54-9543-d3fcc79054fe 2019-12-11 06:02:17  Brooke Sauro   \n",
       "2  92952aa4-3452-4f54-9543-d3fcc79054fe 2019-10-07 08:21:12  Brooke Sauro   \n",
       "3  8a4a87a6-eeeb-4301-9d82-0644a8a75346 2019-12-11 06:02:17  Brooke Sauro   \n",
       "4  758240c9-578a-4e29-b66b-d1d95de9cdc6 2019-12-11 06:02:17  Brooke Sauro   \n",
       "\n",
       "  Pipeline Date of Referral First Referral In IRAP Process  \\\n",
       "0     Mona       2019-07-25             No              No   \n",
       "1     Mona       2019-08-03             No             Yes   \n",
       "2     Mona       2019-08-08            Yes              No   \n",
       "3     Mona       2019-08-02             No              No   \n",
       "4     Mona       2019-08-02             No              No   \n",
       "\n",
       "      Screening Stage          Screener  ... curr_country_the United States  \\\n",
       "0  Screening Complete  Michaela Gallien  ...                              0   \n",
       "1  Screening Complete    Manal ElKhoury  ...                              0   \n",
       "2           Screening    Manal ElKhoury  ...                              0   \n",
       "3           Screening        Tiba Fatli  ...                              0   \n",
       "4  Screening Complete   Tania El Khoury  ...                              0   \n",
       "\n",
       "  curr_country_أوكرانيا curr_country_إيطاليا curr_country_اليونان  \\\n",
       "0                     0                    0                    0   \n",
       "1                     0                    0                    0   \n",
       "2                     0                    0                    0   \n",
       "3                     0                    0                    0   \n",
       "4                     0                    0                    0   \n",
       "\n",
       "  curr_country_جزيرة كوس اليونان curr_country_جورجيا تبليسي  \\\n",
       "0                              0                          0   \n",
       "1                              0                          0   \n",
       "2                              0                          0   \n",
       "3                              0                          0   \n",
       "4                              0                          0   \n",
       "\n",
       "   curr_country_قطاع غزة curr_country_كندا curr_country_نعم أنا في إيطاليا  \\\n",
       "0                      0                 0                               0   \n",
       "1                      0                 0                               0   \n",
       "2                      0                 0                               0   \n",
       "3                      0                 0                               0   \n",
       "4                      0                 0                               0   \n",
       "\n",
       "  curr_country_يونان  \n",
       "0                  0  \n",
       "1                  0  \n",
       "2                  0  \n",
       "3                  0  \n",
       "4                  0  \n",
       "\n",
       "[5 rows x 374 columns]"
      ]
     },
     "execution_count": 15,
     "metadata": {},
     "output_type": "execute_result"
    }
   ],
   "source": [
    "full.head()"
   ]
  },
  {
   "cell_type": "markdown",
   "metadata": {},
   "source": [
    "#### Create processing time related variables"
   ]
  },
  {
   "cell_type": "code",
   "execution_count": 16,
   "metadata": {},
   "outputs": [],
   "source": [
    "def label_process_day_1(row):\n",
    "    if row['process_days'] >= 1 :\n",
    "        return 1\n",
    "    if row['process_days'] == 0 :\n",
    "        return 0\n",
    "    else: return np.nan\n",
    "def label_process_day_7(row):\n",
    "    if row['process_days'] >= 7 :\n",
    "        return 1\n",
    "    if row['process_days'] <7 :\n",
    "        return 0\n",
    "    else: return np.nan\n",
    "def label_process_dayA_1(row):\n",
    "    if row['process_daysA'] >= 1 :\n",
    "        return 1\n",
    "    if row['process_daysA'] == 0 :\n",
    "        return 0\n",
    "    else: return np.nan\n",
    "def label_process_dayC_1(row):\n",
    "    if row['process_daysC'] >= 1 :\n",
    "        return 1\n",
    "    if row['process_daysC'] == 0 :\n",
    "        return 0\n",
    "    else: return np.nan"
   ]
  },
  {
   "cell_type": "code",
   "execution_count": 17,
   "metadata": {},
   "outputs": [],
   "source": [
    "# result['process_day_>=1'] = result['process_days']>=1\n",
    "# result['process_day_>=1'] *=1\n",
    "# result['process_day_>=7'] = result['process_days']>=7\n",
    "# result['process_day_>=7'] *=1"
   ]
  },
  {
   "cell_type": "code",
   "execution_count": 18,
   "metadata": {},
   "outputs": [],
   "source": [
    "result['process_day_>=1'] = result.apply (lambda row: label_process_day_1(row), axis=1)\n",
    "result['process_day_>=7'] = result.apply (lambda row: label_process_day_7(row), axis=1)"
   ]
  },
  {
   "cell_type": "code",
   "execution_count": 19,
   "metadata": {},
   "outputs": [],
   "source": [
    "result['process_dayA_>=1'] = result.apply (lambda row: label_process_dayA_1(row), axis=1)\n",
    "result['process_dayC_>=1'] = result.apply (lambda row: label_process_dayC_1(row), axis=1)"
   ]
  },
  {
   "cell_type": "code",
   "execution_count": 20,
   "metadata": {},
   "outputs": [],
   "source": [
    "full['process_day_>=1'] = full.apply (lambda row: label_process_day_1(row), axis=1)\n",
    "full['process_day_>=7'] = full.apply (lambda row: label_process_day_7(row), axis=1)\n",
    "full['process_dayA_>=1'] = full.apply (lambda row: label_process_dayA_1(row), axis=1)\n",
    "full['process_dayC_>=1'] = full.apply (lambda row: label_process_dayC_1(row), axis=1)\n",
    "full['Medical_X_LPPN'] = full['Field:Medical Needs Score'] * full['Field:LPPN Score']"
   ]
  },
  {
   "cell_type": "markdown",
   "metadata": {},
   "source": [
    "### Look into potential interaction effect between Medical and LPPN"
   ]
  },
  {
   "cell_type": "code",
   "execution_count": 21,
   "metadata": {},
   "outputs": [],
   "source": [
    "interaction = result[['process_days','Field:Medical Needs Score','Field:LPPN Score']]"
   ]
  },
  {
   "cell_type": "code",
   "execution_count": 22,
   "metadata": {},
   "outputs": [
    {
     "name": "stderr",
     "output_type": "stream",
     "text": [
      "/Users/xiaoxiangma/anaconda3/lib/python3.7/site-packages/ipykernel_launcher.py:1: SettingWithCopyWarning: \n",
      "A value is trying to be set on a copy of a slice from a DataFrame.\n",
      "Try using .loc[row_indexer,col_indexer] = value instead\n",
      "\n",
      "See the caveats in the documentation: https://pandas.pydata.org/pandas-docs/stable/user_guide/indexing.html#returning-a-view-versus-a-copy\n",
      "  \"\"\"Entry point for launching an IPython kernel.\n"
     ]
    }
   ],
   "source": [
    "interaction['Medical_X_LPPN'] = interaction['Field:Medical Needs Score'] * interaction['Field:LPPN Score']"
   ]
  },
  {
   "cell_type": "code",
   "execution_count": 23,
   "metadata": {},
   "outputs": [
    {
     "name": "stderr",
     "output_type": "stream",
     "text": [
      "/Users/xiaoxiangma/anaconda3/lib/python3.7/site-packages/ipykernel_launcher.py:1: SettingWithCopyWarning: \n",
      "A value is trying to be set on a copy of a slice from a DataFrame.\n",
      "Try using .loc[row_indexer,col_indexer] = value instead\n",
      "\n",
      "See the caveats in the documentation: https://pandas.pydata.org/pandas-docs/stable/user_guide/indexing.html#returning-a-view-versus-a-copy\n",
      "  \"\"\"Entry point for launching an IPython kernel.\n",
      "/Users/xiaoxiangma/anaconda3/lib/python3.7/site-packages/ipykernel_launcher.py:2: SettingWithCopyWarning: \n",
      "A value is trying to be set on a copy of a slice from a DataFrame.\n",
      "Try using .loc[row_indexer,col_indexer] = value instead\n",
      "\n",
      "See the caveats in the documentation: https://pandas.pydata.org/pandas-docs/stable/user_guide/indexing.html#returning-a-view-versus-a-copy\n",
      "  \n",
      "/Users/xiaoxiangma/anaconda3/lib/python3.7/site-packages/ipykernel_launcher.py:3: SettingWithCopyWarning: \n",
      "A value is trying to be set on a copy of a slice from a DataFrame.\n",
      "Try using .loc[row_indexer,col_indexer] = value instead\n",
      "\n",
      "See the caveats in the documentation: https://pandas.pydata.org/pandas-docs/stable/user_guide/indexing.html#returning-a-view-versus-a-copy\n",
      "  This is separate from the ipykernel package so we can avoid doing imports until\n",
      "/Users/xiaoxiangma/anaconda3/lib/python3.7/site-packages/ipykernel_launcher.py:4: SettingWithCopyWarning: \n",
      "A value is trying to be set on a copy of a slice from a DataFrame.\n",
      "Try using .loc[row_indexer,col_indexer] = value instead\n",
      "\n",
      "See the caveats in the documentation: https://pandas.pydata.org/pandas-docs/stable/user_guide/indexing.html#returning-a-view-versus-a-copy\n",
      "  after removing the cwd from sys.path.\n"
     ]
    }
   ],
   "source": [
    "interaction['process_day_>=1'] = interaction['process_days']>=1\n",
    "interaction['process_day_>=1'] *=1\n",
    "interaction['process_day_>=7'] = interaction['process_days']>=7\n",
    "interaction['process_day_>=7'] *=1"
   ]
  },
  {
   "cell_type": "code",
   "execution_count": 24,
   "metadata": {},
   "outputs": [
    {
     "data": {
      "text/html": [
       "<div>\n",
       "<style scoped>\n",
       "    .dataframe tbody tr th:only-of-type {\n",
       "        vertical-align: middle;\n",
       "    }\n",
       "\n",
       "    .dataframe tbody tr th {\n",
       "        vertical-align: top;\n",
       "    }\n",
       "\n",
       "    .dataframe thead th {\n",
       "        text-align: right;\n",
       "    }\n",
       "</style>\n",
       "<table border=\"1\" class=\"dataframe\">\n",
       "  <thead>\n",
       "    <tr style=\"text-align: right;\">\n",
       "      <th></th>\n",
       "      <th>process_days</th>\n",
       "      <th>Field:Medical Needs Score</th>\n",
       "      <th>Field:LPPN Score</th>\n",
       "      <th>Medical_X_LPPN</th>\n",
       "      <th>process_day_&gt;=1</th>\n",
       "      <th>process_day_&gt;=7</th>\n",
       "    </tr>\n",
       "  </thead>\n",
       "  <tbody>\n",
       "    <tr>\n",
       "      <th>4</th>\n",
       "      <td>0.0</td>\n",
       "      <td>0.0</td>\n",
       "      <td>0.0</td>\n",
       "      <td>0.0</td>\n",
       "      <td>0</td>\n",
       "      <td>0</td>\n",
       "    </tr>\n",
       "    <tr>\n",
       "      <th>6</th>\n",
       "      <td>0.0</td>\n",
       "      <td>0.0</td>\n",
       "      <td>0.0</td>\n",
       "      <td>0.0</td>\n",
       "      <td>0</td>\n",
       "      <td>0</td>\n",
       "    </tr>\n",
       "    <tr>\n",
       "      <th>10</th>\n",
       "      <td>0.0</td>\n",
       "      <td>0.0</td>\n",
       "      <td>0.0</td>\n",
       "      <td>0.0</td>\n",
       "      <td>0</td>\n",
       "      <td>0</td>\n",
       "    </tr>\n",
       "    <tr>\n",
       "      <th>11</th>\n",
       "      <td>0.0</td>\n",
       "      <td>0.0</td>\n",
       "      <td>0.0</td>\n",
       "      <td>0.0</td>\n",
       "      <td>0</td>\n",
       "      <td>0</td>\n",
       "    </tr>\n",
       "    <tr>\n",
       "      <th>20</th>\n",
       "      <td>26.0</td>\n",
       "      <td>5.0</td>\n",
       "      <td>3.0</td>\n",
       "      <td>15.0</td>\n",
       "      <td>1</td>\n",
       "      <td>1</td>\n",
       "    </tr>\n",
       "  </tbody>\n",
       "</table>\n",
       "</div>"
      ],
      "text/plain": [
       "    process_days  Field:Medical Needs Score  Field:LPPN Score  Medical_X_LPPN  \\\n",
       "4            0.0                        0.0               0.0             0.0   \n",
       "6            0.0                        0.0               0.0             0.0   \n",
       "10           0.0                        0.0               0.0             0.0   \n",
       "11           0.0                        0.0               0.0             0.0   \n",
       "20          26.0                        5.0               3.0            15.0   \n",
       "\n",
       "    process_day_>=1  process_day_>=7  \n",
       "4                 0                0  \n",
       "6                 0                0  \n",
       "10                0                0  \n",
       "11                0                0  \n",
       "20                1                1  "
      ]
     },
     "execution_count": 24,
     "metadata": {},
     "output_type": "execute_result"
    }
   ],
   "source": [
    "interaction = interaction.dropna()\n",
    "interaction.head()"
   ]
  },
  {
   "cell_type": "code",
   "execution_count": 25,
   "metadata": {},
   "outputs": [],
   "source": [
    "X = interaction[['Field:Medical Needs Score', 'Field:LPPN Score',\n",
    "       'Medical_X_LPPN']]\n",
    "X2 = interaction[['Field:Medical Needs Score', 'Field:LPPN Score']]\n",
    "y1 = interaction['process_day_>=1']\n",
    "y7 = interaction['process_day_>=7']"
   ]
  },
  {
   "cell_type": "markdown",
   "metadata": {},
   "source": [
    "#### It turns out that the product of Medical and LPPN scores are much more relevant than the sum, or the individual predictors"
   ]
  },
  {
   "cell_type": "code",
   "execution_count": 26,
   "metadata": {},
   "outputs": [
    {
     "name": "stderr",
     "output_type": "stream",
     "text": [
      "/Users/xiaoxiangma/.local/lib/python3.7/site-packages/statsmodels/tools/_testing.py:19: FutureWarning: pandas.util.testing is deprecated. Use the functions in the public API at pandas.testing instead.\n",
      "  import pandas.util.testing as tm\n"
     ]
    },
    {
     "name": "stdout",
     "output_type": "stream",
     "text": [
      "Optimization terminated successfully.\n",
      "         Current function value: 0.662010\n",
      "         Iterations 5\n",
      "                           Logit Regression Results                           \n",
      "==============================================================================\n",
      "Dep. Variable:        process_day_>=1   No. Observations:                  358\n",
      "Model:                          Logit   Df Residuals:                      355\n",
      "Method:                           MLE   Df Model:                            2\n",
      "Date:                Sun, 06 Sep 2020   Pseudo R-squ.:                -0.03796\n",
      "Time:                        11:48:50   Log-Likelihood:                -237.00\n",
      "converged:                       True   LL-Null:                       -228.33\n",
      "Covariance Type:            nonrobust   LLR p-value:                     1.000\n",
      "=============================================================================================\n",
      "                                coef    std err          z      P>|z|      [0.025      0.975]\n",
      "---------------------------------------------------------------------------------------------\n",
      "Field:Medical Needs Score    -0.2116      0.053     -3.960      0.000      -0.316      -0.107\n",
      "Field:LPPN Score             -0.1057      0.053     -2.005      0.045      -0.209      -0.002\n",
      "Medical_X_LPPN                0.0670      0.017      4.009      0.000       0.034       0.100\n",
      "=============================================================================================\n"
     ]
    }
   ],
   "source": [
    "import statsmodels.api as sm\n",
    "# logit_model=sm.Logit(y1,X)\n",
    "process_day1=sm.Logit(y1,X).fit(maxiter=1000)\n",
    "print(process_day1.summary())\n"
   ]
  },
  {
   "cell_type": "code",
   "execution_count": 27,
   "metadata": {
    "scrolled": true
   },
   "outputs": [
    {
     "name": "stdout",
     "output_type": "stream",
     "text": [
      "Optimization terminated successfully.\n",
      "         Current function value: 0.628652\n",
      "         Iterations 5\n",
      "                           Logit Regression Results                           \n",
      "==============================================================================\n",
      "Dep. Variable:        process_day_>=7   No. Observations:                  358\n",
      "Model:                          Logit   Df Residuals:                      355\n",
      "Method:                           MLE   Df Model:                            2\n",
      "Date:                Sun, 06 Sep 2020   Pseudo R-squ.:                -0.09746\n",
      "Time:                        11:48:50   Log-Likelihood:                -225.06\n",
      "converged:                       True   LL-Null:                       -205.07\n",
      "Covariance Type:            nonrobust   LLR p-value:                     1.000\n",
      "=============================================================================================\n",
      "                                coef    std err          z      P>|z|      [0.025      0.975]\n",
      "---------------------------------------------------------------------------------------------\n",
      "Field:Medical Needs Score    -0.2423      0.055     -4.381      0.000      -0.351      -0.134\n",
      "Field:LPPN Score             -0.2659      0.063     -4.218      0.000      -0.389      -0.142\n",
      "Medical_X_LPPN                0.0898      0.018      4.994      0.000       0.055       0.125\n",
      "=============================================================================================\n"
     ]
    }
   ],
   "source": [
    "process_day7=sm.Logit(y7,X).fit()\n",
    "print(process_day7.summary())"
   ]
  },
  {
   "cell_type": "code",
   "execution_count": 28,
   "metadata": {},
   "outputs": [
    {
     "name": "stdout",
     "output_type": "stream",
     "text": [
      "Optimization terminated successfully.\n",
      "         Current function value: 0.685613\n",
      "         Iterations 4\n",
      "                           Logit Regression Results                           \n",
      "==============================================================================\n",
      "Dep. Variable:        process_day_>=1   No. Observations:                  358\n",
      "Model:                          Logit   Df Residuals:                      356\n",
      "Method:                           MLE   Df Model:                            1\n",
      "Date:                Sun, 06 Sep 2020   Pseudo R-squ.:                -0.07497\n",
      "Time:                        11:48:50   Log-Likelihood:                -245.45\n",
      "converged:                       True   LL-Null:                       -228.33\n",
      "Covariance Type:            nonrobust   LLR p-value:                     1.000\n",
      "=============================================================================================\n",
      "                                coef    std err          z      P>|z|      [0.025      0.975]\n",
      "---------------------------------------------------------------------------------------------\n",
      "Field:Medical Needs Score    -0.0848      0.040     -2.134      0.033      -0.163      -0.007\n",
      "Field:LPPN Score              0.0221      0.040      0.545      0.586      -0.057       0.101\n",
      "=============================================================================================\n"
     ]
    }
   ],
   "source": [
    "# import statsmodels.api as sm\n",
    "# logit_model=sm.Logit(y1,X)\n",
    "process_day1=sm.Logit(y1,X2).fit(maxiter=10000)\n",
    "print(process_day1.summary())\n"
   ]
  },
  {
   "cell_type": "code",
   "execution_count": 29,
   "metadata": {
    "scrolled": false
   },
   "outputs": [
    {
     "name": "stdout",
     "output_type": "stream",
     "text": [
      "Optimization terminated successfully.\n",
      "         Current function value: 0.666810\n",
      "         Iterations 4\n",
      "                           Logit Regression Results                           \n",
      "==============================================================================\n",
      "Dep. Variable:        process_day_>=7   No. Observations:                  358\n",
      "Model:                          Logit   Df Residuals:                      356\n",
      "Method:                           MLE   Df Model:                            1\n",
      "Date:                Sun, 06 Sep 2020   Pseudo R-squ.:                 -0.1641\n",
      "Time:                        11:48:50   Log-Likelihood:                -238.72\n",
      "converged:                       True   LL-Null:                       -205.07\n",
      "Covariance Type:            nonrobust   LLR p-value:                     1.000\n",
      "=============================================================================================\n",
      "                                coef    std err          z      P>|z|      [0.025      0.975]\n",
      "---------------------------------------------------------------------------------------------\n",
      "Field:Medical Needs Score    -0.0832      0.040     -2.061      0.039      -0.162      -0.004\n",
      "Field:LPPN Score             -0.0788      0.042     -1.890      0.059      -0.160       0.003\n",
      "=============================================================================================\n"
     ]
    }
   ],
   "source": [
    "process_day7=sm.Logit(y7,X2).fit()\n",
    "print(process_day7.summary())"
   ]
  },
  {
   "cell_type": "markdown",
   "metadata": {},
   "source": [
    "### Medical or LPPN score above threshold"
   ]
  },
  {
   "cell_type": "markdown",
   "metadata": {},
   "source": [
    "#### Crosstab"
   ]
  },
  {
   "cell_type": "code",
   "execution_count": 30,
   "metadata": {},
   "outputs": [],
   "source": [
    "result['Medical_OR_LPPN_Abovethresh'] = np.where( (result[\"Field:Medical Needs Score\"] >=5)  | (result[\"Field:LPPN Score\"] >=5), \"Above\", \"Below\")\n"
   ]
  },
  {
   "cell_type": "code",
   "execution_count": 31,
   "metadata": {},
   "outputs": [
    {
     "data": {
      "text/html": [
       "<div>\n",
       "<style scoped>\n",
       "    .dataframe tbody tr th:only-of-type {\n",
       "        vertical-align: middle;\n",
       "    }\n",
       "\n",
       "    .dataframe tbody tr th {\n",
       "        vertical-align: top;\n",
       "    }\n",
       "\n",
       "    .dataframe thead th {\n",
       "        text-align: right;\n",
       "    }\n",
       "</style>\n",
       "<table border=\"1\" class=\"dataframe\">\n",
       "  <thead>\n",
       "    <tr style=\"text-align: right;\">\n",
       "      <th>Vulnerability Threshold</th>\n",
       "      <th>Above</th>\n",
       "      <th>Below</th>\n",
       "    </tr>\n",
       "    <tr>\n",
       "      <th>Medical_OR_LPPN_Abovethresh</th>\n",
       "      <th></th>\n",
       "      <th></th>\n",
       "    </tr>\n",
       "  </thead>\n",
       "  <tbody>\n",
       "    <tr>\n",
       "      <th>Above</th>\n",
       "      <td>8</td>\n",
       "      <td>163</td>\n",
       "    </tr>\n",
       "    <tr>\n",
       "      <th>Below</th>\n",
       "      <td>7</td>\n",
       "      <td>542</td>\n",
       "    </tr>\n",
       "  </tbody>\n",
       "</table>\n",
       "</div>"
      ],
      "text/plain": [
       "Vulnerability Threshold      Above  Below\n",
       "Medical_OR_LPPN_Abovethresh              \n",
       "Above                            8    163\n",
       "Below                            7    542"
      ]
     },
     "execution_count": 31,
     "metadata": {},
     "output_type": "execute_result"
    }
   ],
   "source": [
    "pd.crosstab(result['Medical_OR_LPPN_Abovethresh'],result['Vulnerability Threshold'],margins = False)"
   ]
  },
  {
   "cell_type": "code",
   "execution_count": 32,
   "metadata": {},
   "outputs": [
    {
     "data": {
      "text/html": [
       "<div>\n",
       "<style scoped>\n",
       "    .dataframe tbody tr th:only-of-type {\n",
       "        vertical-align: middle;\n",
       "    }\n",
       "\n",
       "    .dataframe tbody tr th {\n",
       "        vertical-align: top;\n",
       "    }\n",
       "\n",
       "    .dataframe thead th {\n",
       "        text-align: right;\n",
       "    }\n",
       "</style>\n",
       "<table border=\"1\" class=\"dataframe\">\n",
       "  <thead>\n",
       "    <tr style=\"text-align: right;\">\n",
       "      <th></th>\n",
       "      <th>Mona Unique Session ID</th>\n",
       "      <th>Mona Unique User ID</th>\n",
       "      <th>Created on</th>\n",
       "      <th>Created by</th>\n",
       "      <th>Pipeline</th>\n",
       "      <th>Date of Referral</th>\n",
       "      <th>First Referral</th>\n",
       "      <th>In IRAP Process</th>\n",
       "      <th>Screening Stage</th>\n",
       "      <th>Screener</th>\n",
       "      <th>...</th>\n",
       "      <th>Field:Vulnerability Assessed</th>\n",
       "      <th>Field:Handoff Timestamp</th>\n",
       "      <th>Field:Prescreening Complete</th>\n",
       "      <th>Field:Pause Handoffs</th>\n",
       "      <th>Field:Lebanon Location</th>\n",
       "      <th>process_day_&gt;=1</th>\n",
       "      <th>process_day_&gt;=7</th>\n",
       "      <th>process_dayA_&gt;=1</th>\n",
       "      <th>process_dayC_&gt;=1</th>\n",
       "      <th>Medical_OR_LPPN_Abovethresh</th>\n",
       "    </tr>\n",
       "  </thead>\n",
       "  <tbody>\n",
       "    <tr>\n",
       "      <th>92</th>\n",
       "      <td>c1c0741a-5110-419a-aaa0-b4f8d8bc0ada.2019-07-2...</td>\n",
       "      <td>c1c0741a-5110-419a-aaa0-b4f8d8bc0ada</td>\n",
       "      <td>2019-10-17 05:27:12</td>\n",
       "      <td>Brooke Sauro</td>\n",
       "      <td>Mona</td>\n",
       "      <td>2019-07-29</td>\n",
       "      <td>Yes</td>\n",
       "      <td>No</td>\n",
       "      <td>Screening Complete</td>\n",
       "      <td>Tiba Fatli</td>\n",
       "      <td>...</td>\n",
       "      <td>NaN</td>\n",
       "      <td>NaN</td>\n",
       "      <td>NaN</td>\n",
       "      <td>NaN</td>\n",
       "      <td>NaN</td>\n",
       "      <td>1.0</td>\n",
       "      <td>1.0</td>\n",
       "      <td>1.0</td>\n",
       "      <td>1.0</td>\n",
       "      <td>Above</td>\n",
       "    </tr>\n",
       "    <tr>\n",
       "      <th>580</th>\n",
       "      <td>cf9221c73c564d7b93fc0eb2a400d52e20190805T16361...</td>\n",
       "      <td>cf9221c7-3c56-4d7b-93fc-0eb2a400d52e</td>\n",
       "      <td>2019-10-17 05:27:13</td>\n",
       "      <td>Brooke Sauro</td>\n",
       "      <td>Mona</td>\n",
       "      <td>2019-08-05</td>\n",
       "      <td>Yes</td>\n",
       "      <td>No</td>\n",
       "      <td>Screening Complete</td>\n",
       "      <td>Tiba Fatli</td>\n",
       "      <td>...</td>\n",
       "      <td>Vulnerability Assessed</td>\n",
       "      <td>2019-08-05T17:23:06.774203+03:00</td>\n",
       "      <td>Yes</td>\n",
       "      <td>NaN</td>\n",
       "      <td>NaN</td>\n",
       "      <td>1.0</td>\n",
       "      <td>1.0</td>\n",
       "      <td>1.0</td>\n",
       "      <td>1.0</td>\n",
       "      <td>Above</td>\n",
       "    </tr>\n",
       "    <tr>\n",
       "      <th>627</th>\n",
       "      <td>a373b632294c40ffbe1f36e54b48fb2b20190802T23075...</td>\n",
       "      <td>a373b632-294c-40ff-be1f-36e54b48fb2b</td>\n",
       "      <td>2019-10-07 08:23:44</td>\n",
       "      <td>Brooke Sauro</td>\n",
       "      <td>Mona</td>\n",
       "      <td>2019-08-03</td>\n",
       "      <td>Yes</td>\n",
       "      <td>No</td>\n",
       "      <td>Screening Complete</td>\n",
       "      <td>Manal ElKhoury</td>\n",
       "      <td>...</td>\n",
       "      <td>Vulnerability Assessed</td>\n",
       "      <td>2019-08-03T00:13:31.299829+03:00</td>\n",
       "      <td>NaN</td>\n",
       "      <td>NaN</td>\n",
       "      <td>NaN</td>\n",
       "      <td>1.0</td>\n",
       "      <td>1.0</td>\n",
       "      <td>1.0</td>\n",
       "      <td>1.0</td>\n",
       "      <td>Above</td>\n",
       "    </tr>\n",
       "    <tr>\n",
       "      <th>680</th>\n",
       "      <td>e4beefb1-cdb3-415a-b557-672bc70829ce.2019-07-2...</td>\n",
       "      <td>e4beefb1-cdb3-415a-b557-672bc70829ce</td>\n",
       "      <td>2019-10-07 08:23:23</td>\n",
       "      <td>Brooke Sauro</td>\n",
       "      <td>Mona</td>\n",
       "      <td>2019-07-25</td>\n",
       "      <td>Yes</td>\n",
       "      <td>No</td>\n",
       "      <td>Screening Complete</td>\n",
       "      <td>Tania El Khoury</td>\n",
       "      <td>...</td>\n",
       "      <td>NaN</td>\n",
       "      <td>NaN</td>\n",
       "      <td>NaN</td>\n",
       "      <td>NaN</td>\n",
       "      <td>NaN</td>\n",
       "      <td>1.0</td>\n",
       "      <td>1.0</td>\n",
       "      <td>1.0</td>\n",
       "      <td>1.0</td>\n",
       "      <td>Above</td>\n",
       "    </tr>\n",
       "    <tr>\n",
       "      <th>740</th>\n",
       "      <td>c13fb63772754238ba8be4e3fd10b0a020190730T21454...</td>\n",
       "      <td>c13fb637-7275-4238-ba8b-e4e3fd10b0a0</td>\n",
       "      <td>2019-10-07 08:23:01</td>\n",
       "      <td>Brooke Sauro</td>\n",
       "      <td>Mona</td>\n",
       "      <td>2019-07-30</td>\n",
       "      <td>Yes</td>\n",
       "      <td>No</td>\n",
       "      <td>Screening Complete</td>\n",
       "      <td>Michaela Gallien</td>\n",
       "      <td>...</td>\n",
       "      <td>NaN</td>\n",
       "      <td>NaN</td>\n",
       "      <td>NaN</td>\n",
       "      <td>NaN</td>\n",
       "      <td>NaN</td>\n",
       "      <td>1.0</td>\n",
       "      <td>1.0</td>\n",
       "      <td>1.0</td>\n",
       "      <td>1.0</td>\n",
       "      <td>Above</td>\n",
       "    </tr>\n",
       "    <tr>\n",
       "      <th>837</th>\n",
       "      <td>63b4f019973146c68bd1ee2c66d3047b20190801T01161...</td>\n",
       "      <td>63b4f019-9731-46c6-8bd1-ee2c66d3047b</td>\n",
       "      <td>2019-10-07 08:22:30</td>\n",
       "      <td>Brooke Sauro</td>\n",
       "      <td>Mona</td>\n",
       "      <td>2019-07-25</td>\n",
       "      <td>Yes</td>\n",
       "      <td>No</td>\n",
       "      <td>Screening Complete</td>\n",
       "      <td>Tiba Fatli</td>\n",
       "      <td>...</td>\n",
       "      <td>NaN</td>\n",
       "      <td>NaN</td>\n",
       "      <td>NaN</td>\n",
       "      <td>NaN</td>\n",
       "      <td>NaN</td>\n",
       "      <td>1.0</td>\n",
       "      <td>1.0</td>\n",
       "      <td>1.0</td>\n",
       "      <td>1.0</td>\n",
       "      <td>Above</td>\n",
       "    </tr>\n",
       "    <tr>\n",
       "      <th>894</th>\n",
       "      <td>fca5a901-9974-48e0-a3d9-627f699e5905.2019-07-2...</td>\n",
       "      <td>fca5a901-9974-48e0-a3d9-627f699e5905</td>\n",
       "      <td>2019-10-07 08:22:10</td>\n",
       "      <td>Brooke Sauro</td>\n",
       "      <td>Mona</td>\n",
       "      <td>2019-07-28</td>\n",
       "      <td>Yes</td>\n",
       "      <td>No</td>\n",
       "      <td>Screening</td>\n",
       "      <td>Tania El Khoury</td>\n",
       "      <td>...</td>\n",
       "      <td>NaN</td>\n",
       "      <td>NaN</td>\n",
       "      <td>NaN</td>\n",
       "      <td>NaN</td>\n",
       "      <td>NaN</td>\n",
       "      <td>NaN</td>\n",
       "      <td>NaN</td>\n",
       "      <td>1.0</td>\n",
       "      <td>NaN</td>\n",
       "      <td>Above</td>\n",
       "    </tr>\n",
       "    <tr>\n",
       "      <th>921</th>\n",
       "      <td>b96ddbddb762459bbc2aa23213d0ce9c20190731T01193...</td>\n",
       "      <td>b96ddbdd-b762-459b-bc2a-a23213d0ce9c</td>\n",
       "      <td>2019-10-07 08:21:46</td>\n",
       "      <td>Brooke Sauro</td>\n",
       "      <td>Mona</td>\n",
       "      <td>2019-07-31</td>\n",
       "      <td>Yes</td>\n",
       "      <td>No</td>\n",
       "      <td>Screening</td>\n",
       "      <td>Tania El Khoury</td>\n",
       "      <td>...</td>\n",
       "      <td>NaN</td>\n",
       "      <td>NaN</td>\n",
       "      <td>NaN</td>\n",
       "      <td>NaN</td>\n",
       "      <td>NaN</td>\n",
       "      <td>NaN</td>\n",
       "      <td>NaN</td>\n",
       "      <td>1.0</td>\n",
       "      <td>NaN</td>\n",
       "      <td>Above</td>\n",
       "    </tr>\n",
       "  </tbody>\n",
       "</table>\n",
       "<p>8 rows × 344 columns</p>\n",
       "</div>"
      ],
      "text/plain": [
       "                                Mona Unique Session ID  \\\n",
       "92   c1c0741a-5110-419a-aaa0-b4f8d8bc0ada.2019-07-2...   \n",
       "580  cf9221c73c564d7b93fc0eb2a400d52e20190805T16361...   \n",
       "627  a373b632294c40ffbe1f36e54b48fb2b20190802T23075...   \n",
       "680  e4beefb1-cdb3-415a-b557-672bc70829ce.2019-07-2...   \n",
       "740  c13fb63772754238ba8be4e3fd10b0a020190730T21454...   \n",
       "837  63b4f019973146c68bd1ee2c66d3047b20190801T01161...   \n",
       "894  fca5a901-9974-48e0-a3d9-627f699e5905.2019-07-2...   \n",
       "921  b96ddbddb762459bbc2aa23213d0ce9c20190731T01193...   \n",
       "\n",
       "                      Mona Unique User ID          Created on    Created by  \\\n",
       "92   c1c0741a-5110-419a-aaa0-b4f8d8bc0ada 2019-10-17 05:27:12  Brooke Sauro   \n",
       "580  cf9221c7-3c56-4d7b-93fc-0eb2a400d52e 2019-10-17 05:27:13  Brooke Sauro   \n",
       "627  a373b632-294c-40ff-be1f-36e54b48fb2b 2019-10-07 08:23:44  Brooke Sauro   \n",
       "680  e4beefb1-cdb3-415a-b557-672bc70829ce 2019-10-07 08:23:23  Brooke Sauro   \n",
       "740  c13fb637-7275-4238-ba8b-e4e3fd10b0a0 2019-10-07 08:23:01  Brooke Sauro   \n",
       "837  63b4f019-9731-46c6-8bd1-ee2c66d3047b 2019-10-07 08:22:30  Brooke Sauro   \n",
       "894  fca5a901-9974-48e0-a3d9-627f699e5905 2019-10-07 08:22:10  Brooke Sauro   \n",
       "921  b96ddbdd-b762-459b-bc2a-a23213d0ce9c 2019-10-07 08:21:46  Brooke Sauro   \n",
       "\n",
       "    Pipeline Date of Referral First Referral In IRAP Process  \\\n",
       "92      Mona       2019-07-29            Yes              No   \n",
       "580     Mona       2019-08-05            Yes              No   \n",
       "627     Mona       2019-08-03            Yes              No   \n",
       "680     Mona       2019-07-25            Yes              No   \n",
       "740     Mona       2019-07-30            Yes              No   \n",
       "837     Mona       2019-07-25            Yes              No   \n",
       "894     Mona       2019-07-28            Yes              No   \n",
       "921     Mona       2019-07-31            Yes              No   \n",
       "\n",
       "        Screening Stage          Screener  ... Field:Vulnerability Assessed  \\\n",
       "92   Screening Complete        Tiba Fatli  ...                          NaN   \n",
       "580  Screening Complete        Tiba Fatli  ...       Vulnerability Assessed   \n",
       "627  Screening Complete    Manal ElKhoury  ...       Vulnerability Assessed   \n",
       "680  Screening Complete   Tania El Khoury  ...                          NaN   \n",
       "740  Screening Complete  Michaela Gallien  ...                          NaN   \n",
       "837  Screening Complete        Tiba Fatli  ...                          NaN   \n",
       "894           Screening   Tania El Khoury  ...                          NaN   \n",
       "921           Screening   Tania El Khoury  ...                          NaN   \n",
       "\n",
       "              Field:Handoff Timestamp Field:Prescreening Complete  \\\n",
       "92                                NaN                         NaN   \n",
       "580  2019-08-05T17:23:06.774203+03:00                         Yes   \n",
       "627  2019-08-03T00:13:31.299829+03:00                         NaN   \n",
       "680                               NaN                         NaN   \n",
       "740                               NaN                         NaN   \n",
       "837                               NaN                         NaN   \n",
       "894                               NaN                         NaN   \n",
       "921                               NaN                         NaN   \n",
       "\n",
       "    Field:Pause Handoffs Field:Lebanon Location process_day_>=1  \\\n",
       "92                   NaN                    NaN             1.0   \n",
       "580                  NaN                    NaN             1.0   \n",
       "627                  NaN                    NaN             1.0   \n",
       "680                  NaN                    NaN             1.0   \n",
       "740                  NaN                    NaN             1.0   \n",
       "837                  NaN                    NaN             1.0   \n",
       "894                  NaN                    NaN             NaN   \n",
       "921                  NaN                    NaN             NaN   \n",
       "\n",
       "    process_day_>=7 process_dayA_>=1 process_dayC_>=1  \\\n",
       "92              1.0              1.0              1.0   \n",
       "580             1.0              1.0              1.0   \n",
       "627             1.0              1.0              1.0   \n",
       "680             1.0              1.0              1.0   \n",
       "740             1.0              1.0              1.0   \n",
       "837             1.0              1.0              1.0   \n",
       "894             NaN              1.0              NaN   \n",
       "921             NaN              1.0              NaN   \n",
       "\n",
       "    Medical_OR_LPPN_Abovethresh  \n",
       "92                        Above  \n",
       "580                       Above  \n",
       "627                       Above  \n",
       "680                       Above  \n",
       "740                       Above  \n",
       "837                       Above  \n",
       "894                       Above  \n",
       "921                       Above  \n",
       "\n",
       "[8 rows x 344 columns]"
      ]
     },
     "execution_count": 32,
     "metadata": {},
     "output_type": "execute_result"
    }
   ],
   "source": [
    "result[(result['Medical_OR_LPPN_Abovethresh']==\"Above\") & (result['Vulnerability Threshold']==\"Above\") ]"
   ]
  },
  {
   "cell_type": "code",
   "execution_count": 33,
   "metadata": {},
   "outputs": [
    {
     "name": "stdout",
     "output_type": "stream",
     "text": [
      "c1c0741a-5110-419a-aaa0-b4f8d8bc0ada.2019-07-29T04:08:40.308165+03:00\n",
      "cf9221c73c564d7b93fc0eb2a400d52e20190805T1636113377840300\n",
      "a373b632294c40ffbe1f36e54b48fb2b20190802T2307590342660300\n",
      "e4beefb1-cdb3-415a-b557-672bc70829ce.2019-07-26T10:45:40.495406+03:00\n",
      "c13fb63772754238ba8be4e3fd10b0a020190730T2145464433810300\n",
      "63b4f019973146c68bd1ee2c66d3047b20190801T0116171295330300\n",
      "fca5a901-9974-48e0-a3d9-627f699e5905.2019-07-29T00:08:15.243443+03:00\n",
      "b96ddbddb762459bbc2aa23213d0ce9c20190731T0119372916290300\n"
     ]
    }
   ],
   "source": [
    "for i in result[(result['Medical_OR_LPPN_Abovethresh']==\"Above\") & (result['Vulnerability Threshold']==\"Above\") ]['Mona Unique Session ID']:\n",
    "    print(i)"
   ]
  },
  {
   "cell_type": "code",
   "execution_count": 34,
   "metadata": {},
   "outputs": [
    {
     "data": {
      "text/plain": [
       "Below    102\n",
       "Above      8\n",
       "Name: Vulnerability Threshold, dtype: int64"
      ]
     },
     "execution_count": 34,
     "metadata": {},
     "output_type": "execute_result"
    }
   ],
   "source": [
    "result[(result['Client Location (Country)']==\"Lebanon\") & (result['Client Nationality']==\"Syrian\") \n",
    "       & (result['First Referral']==\"Yes\") & (result['In IRAP Process']==\"No\") \n",
    "      & (result['Medical_OR_LPPN_Abovethresh']==\"Above\")]['Vulnerability Threshold'].value_counts()"
   ]
  },
  {
   "cell_type": "markdown",
   "metadata": {},
   "source": [
    "### Process days distribution"
   ]
  },
  {
   "cell_type": "code",
   "execution_count": 35,
   "metadata": {},
   "outputs": [
    {
     "data": {
      "text/plain": [
       "0.0    705\n",
       "1.0     15\n",
       "Name: Vulnerability Threshold, dtype: int64"
      ]
     },
     "execution_count": 35,
     "metadata": {},
     "output_type": "execute_result"
    }
   ],
   "source": [
    "full['Vulnerability Threshold'].value_counts()"
   ]
  },
  {
   "cell_type": "code",
   "execution_count": 36,
   "metadata": {},
   "outputs": [],
   "source": [
    "full = full[full['process_days'] >= 0]\n",
    "full = full[full['process_daysA'] >= 0]\n",
    "full = full[full['process_daysC'] >= 0]"
   ]
  },
  {
   "cell_type": "code",
   "execution_count": 37,
   "metadata": {},
   "outputs": [
    {
     "data": {
      "text/plain": [
       "(769, 379)"
      ]
     },
     "execution_count": 37,
     "metadata": {},
     "output_type": "execute_result"
    }
   ],
   "source": [
    "full.shape"
   ]
  },
  {
   "cell_type": "code",
   "execution_count": 38,
   "metadata": {},
   "outputs": [
    {
     "data": {
      "text/plain": [
       "(692, 379)"
      ]
     },
     "execution_count": 38,
     "metadata": {},
     "output_type": "execute_result"
    }
   ],
   "source": [
    "full_filtered = full.dropna(subset=['Vulnerability Threshold'])\n",
    "# full_filtered = full_filtered(full_filtered['Vulnerability Threshold']>=0)\n",
    "full_filtered.shape"
   ]
  },
  {
   "cell_type": "code",
   "execution_count": 39,
   "metadata": {},
   "outputs": [
    {
     "data": {
      "image/png": "[encoded data removed]",
      "text/plain": [
       "<Figure size 432x288 with 1 Axes>"
      ]
     },
     "metadata": {
      "needs_background": "light"
     },
     "output_type": "display_data"
    },
    {
     "data": {
      "image/png": "[encoded data removed]",
      "text/plain": [
       "<Figure size 432x288 with 1 Axes>"
      ]
     },
     "metadata": {
      "needs_background": "light"
     },
     "output_type": "display_data"
    }
   ],
   "source": [
    "plt.hist(full_filtered['process_days'],bins=40)\n",
    "# plt.xlim(0,)\n",
    "plt.title(\"Histogram of process_days\")\n",
    "plt.show()\n",
    "\n",
    "plt.hist(full_filtered['process_days'],bins=130)\n",
    "plt.xlim(0,15)\n",
    "plt.title(\"Histogram of process_days\")\n",
    "plt.show()"
   ]
  },
  {
   "cell_type": "code",
   "execution_count": 40,
   "metadata": {},
   "outputs": [
    {
     "data": {
      "image/png": "[encoded data removed]",
      "text/plain": [
       "<Figure size 432x288 with 1 Axes>"
      ]
     },
     "metadata": {
      "needs_background": "light"
     },
     "output_type": "display_data"
    },
    {
     "data": {
      "image/png": "[encoded data removed]",
      "text/plain": [
       "<Figure size 432x288 with 1 Axes>"
      ]
     },
     "metadata": {
      "needs_background": "light"
     },
     "output_type": "display_data"
    }
   ],
   "source": [
    "plt.hist(full_filtered['process_daysA'],bins=40)\n",
    "# plt.xlim(0,)\n",
    "plt.title(\"Histogram of process_daysA\")\n",
    "plt.show()\n",
    "\n",
    "plt.hist(full_filtered['process_daysA'],bins=130)\n",
    "plt.xlim(0,15)\n",
    "plt.title(\"Histogram of process_daysA\")\n",
    "plt.show()"
   ]
  },
  {
   "cell_type": "code",
   "execution_count": 41,
   "metadata": {},
   "outputs": [
    {
     "data": {
      "image/png": "[encoded data removed]",
      "text/plain": [
       "<Figure size 432x288 with 1 Axes>"
      ]
     },
     "metadata": {
      "needs_background": "light"
     },
     "output_type": "display_data"
    },
    {
     "data": {
      "image/png": "[encoded data removed]",
      "text/plain": [
       "<Figure size 432x288 with 1 Axes>"
      ]
     },
     "metadata": {
      "needs_background": "light"
     },
     "output_type": "display_data"
    }
   ],
   "source": [
    "plt.hist(full_filtered['process_daysC'],bins=40)\n",
    "# plt.xlim(0,)\n",
    "plt.title(\"Histogram of process_daysC\")\n",
    "plt.show()\n",
    "\n",
    "plt.hist(full_filtered['process_daysC'],bins=130)\n",
    "plt.xlim(0,15)\n",
    "plt.title(\"Histogram of process_daysC\")\n",
    "plt.show()"
   ]
  },
  {
   "cell_type": "markdown",
   "metadata": {},
   "source": [
    "#### Look at all variables"
   ]
  },
  {
   "cell_type": "code",
   "execution_count": 42,
   "metadata": {},
   "outputs": [
    {
     "data": {
      "text/html": [
       "<div>\n",
       "<style scoped>\n",
       "    .dataframe tbody tr th:only-of-type {\n",
       "        vertical-align: middle;\n",
       "    }\n",
       "\n",
       "    .dataframe tbody tr th {\n",
       "        vertical-align: top;\n",
       "    }\n",
       "\n",
       "    .dataframe thead th {\n",
       "        text-align: right;\n",
       "    }\n",
       "</style>\n",
       "<table border=\"1\" class=\"dataframe\">\n",
       "  <thead>\n",
       "    <tr style=\"text-align: right;\">\n",
       "      <th></th>\n",
       "      <th>Field:Age</th>\n",
       "      <th>Field:Gender</th>\n",
       "      <th>Field:Traumatic Incident 1 Assessment</th>\n",
       "      <th>Field:LPPN Score</th>\n",
       "      <th>Field:Medical Needs Score</th>\n",
       "      <th>Field:Years in Current Country</th>\n",
       "      <th>process_day_&gt;=1</th>\n",
       "      <th>process_day_&gt;=7</th>\n",
       "      <th>Medical_X_LPPN</th>\n",
       "    </tr>\n",
       "  </thead>\n",
       "  <tbody>\n",
       "    <tr>\n",
       "      <th>4</th>\n",
       "      <td>33.0</td>\n",
       "      <td>1.0</td>\n",
       "      <td>4.0</td>\n",
       "      <td>0.0</td>\n",
       "      <td>0.0</td>\n",
       "      <td>6.0</td>\n",
       "      <td>0.0</td>\n",
       "      <td>0.0</td>\n",
       "      <td>0.0</td>\n",
       "    </tr>\n",
       "    <tr>\n",
       "      <th>6</th>\n",
       "      <td>44.0</td>\n",
       "      <td>1.0</td>\n",
       "      <td>1.0</td>\n",
       "      <td>0.0</td>\n",
       "      <td>0.0</td>\n",
       "      <td>5.0</td>\n",
       "      <td>0.0</td>\n",
       "      <td>0.0</td>\n",
       "      <td>0.0</td>\n",
       "    </tr>\n",
       "    <tr>\n",
       "      <th>10</th>\n",
       "      <td>30.0</td>\n",
       "      <td>1.0</td>\n",
       "      <td>1.0</td>\n",
       "      <td>0.0</td>\n",
       "      <td>0.0</td>\n",
       "      <td>5.0</td>\n",
       "      <td>0.0</td>\n",
       "      <td>0.0</td>\n",
       "      <td>0.0</td>\n",
       "    </tr>\n",
       "    <tr>\n",
       "      <th>11</th>\n",
       "      <td>30.0</td>\n",
       "      <td>1.0</td>\n",
       "      <td>1.0</td>\n",
       "      <td>0.0</td>\n",
       "      <td>0.0</td>\n",
       "      <td>5.0</td>\n",
       "      <td>0.0</td>\n",
       "      <td>0.0</td>\n",
       "      <td>0.0</td>\n",
       "    </tr>\n",
       "    <tr>\n",
       "      <th>23</th>\n",
       "      <td>41.0</td>\n",
       "      <td>1.0</td>\n",
       "      <td>2.0</td>\n",
       "      <td>0.0</td>\n",
       "      <td>0.0</td>\n",
       "      <td>6.0</td>\n",
       "      <td>1.0</td>\n",
       "      <td>1.0</td>\n",
       "      <td>0.0</td>\n",
       "    </tr>\n",
       "    <tr>\n",
       "      <th>...</th>\n",
       "      <td>...</td>\n",
       "      <td>...</td>\n",
       "      <td>...</td>\n",
       "      <td>...</td>\n",
       "      <td>...</td>\n",
       "      <td>...</td>\n",
       "      <td>...</td>\n",
       "      <td>...</td>\n",
       "      <td>...</td>\n",
       "    </tr>\n",
       "    <tr>\n",
       "      <th>1064</th>\n",
       "      <td>34.0</td>\n",
       "      <td>1.0</td>\n",
       "      <td>5.0</td>\n",
       "      <td>0.0</td>\n",
       "      <td>6.0</td>\n",
       "      <td>3.0</td>\n",
       "      <td>0.0</td>\n",
       "      <td>0.0</td>\n",
       "      <td>0.0</td>\n",
       "    </tr>\n",
       "    <tr>\n",
       "      <th>1067</th>\n",
       "      <td>36.0</td>\n",
       "      <td>1.0</td>\n",
       "      <td>5.0</td>\n",
       "      <td>1.0</td>\n",
       "      <td>0.0</td>\n",
       "      <td>7.0</td>\n",
       "      <td>1.0</td>\n",
       "      <td>1.0</td>\n",
       "      <td>0.0</td>\n",
       "    </tr>\n",
       "    <tr>\n",
       "      <th>1078</th>\n",
       "      <td>40.0</td>\n",
       "      <td>1.0</td>\n",
       "      <td>5.0</td>\n",
       "      <td>4.0</td>\n",
       "      <td>5.0</td>\n",
       "      <td>6.0</td>\n",
       "      <td>0.0</td>\n",
       "      <td>0.0</td>\n",
       "      <td>20.0</td>\n",
       "    </tr>\n",
       "    <tr>\n",
       "      <th>1079</th>\n",
       "      <td>29.0</td>\n",
       "      <td>1.0</td>\n",
       "      <td>4.0</td>\n",
       "      <td>0.0</td>\n",
       "      <td>0.0</td>\n",
       "      <td>5.0</td>\n",
       "      <td>0.0</td>\n",
       "      <td>0.0</td>\n",
       "      <td>0.0</td>\n",
       "    </tr>\n",
       "    <tr>\n",
       "      <th>1081</th>\n",
       "      <td>33.0</td>\n",
       "      <td>0.0</td>\n",
       "      <td>1.0</td>\n",
       "      <td>0.0</td>\n",
       "      <td>2.0</td>\n",
       "      <td>7.0</td>\n",
       "      <td>1.0</td>\n",
       "      <td>1.0</td>\n",
       "      <td>0.0</td>\n",
       "    </tr>\n",
       "  </tbody>\n",
       "</table>\n",
       "<p>234 rows × 9 columns</p>\n",
       "</div>"
      ],
      "text/plain": [
       "      Field:Age  Field:Gender  Field:Traumatic Incident 1 Assessment  \\\n",
       "4          33.0           1.0                                    4.0   \n",
       "6          44.0           1.0                                    1.0   \n",
       "10         30.0           1.0                                    1.0   \n",
       "11         30.0           1.0                                    1.0   \n",
       "23         41.0           1.0                                    2.0   \n",
       "...         ...           ...                                    ...   \n",
       "1064       34.0           1.0                                    5.0   \n",
       "1067       36.0           1.0                                    5.0   \n",
       "1078       40.0           1.0                                    5.0   \n",
       "1079       29.0           1.0                                    4.0   \n",
       "1081       33.0           0.0                                    1.0   \n",
       "\n",
       "      Field:LPPN Score  Field:Medical Needs Score  \\\n",
       "4                  0.0                        0.0   \n",
       "6                  0.0                        0.0   \n",
       "10                 0.0                        0.0   \n",
       "11                 0.0                        0.0   \n",
       "23                 0.0                        0.0   \n",
       "...                ...                        ...   \n",
       "1064               0.0                        6.0   \n",
       "1067               1.0                        0.0   \n",
       "1078               4.0                        5.0   \n",
       "1079               0.0                        0.0   \n",
       "1081               0.0                        2.0   \n",
       "\n",
       "      Field:Years in Current Country  process_day_>=1  process_day_>=7  \\\n",
       "4                                6.0              0.0              0.0   \n",
       "6                                5.0              0.0              0.0   \n",
       "10                               5.0              0.0              0.0   \n",
       "11                               5.0              0.0              0.0   \n",
       "23                               6.0              1.0              1.0   \n",
       "...                              ...              ...              ...   \n",
       "1064                             3.0              0.0              0.0   \n",
       "1067                             7.0              1.0              1.0   \n",
       "1078                             6.0              0.0              0.0   \n",
       "1079                             5.0              0.0              0.0   \n",
       "1081                             7.0              1.0              1.0   \n",
       "\n",
       "      Medical_X_LPPN  \n",
       "4                0.0  \n",
       "6                0.0  \n",
       "10               0.0  \n",
       "11               0.0  \n",
       "23               0.0  \n",
       "...              ...  \n",
       "1064             0.0  \n",
       "1067             0.0  \n",
       "1078            20.0  \n",
       "1079             0.0  \n",
       "1081             0.0  \n",
       "\n",
       "[234 rows x 9 columns]"
      ]
     },
     "execution_count": 42,
     "metadata": {},
     "output_type": "execute_result"
    }
   ],
   "source": [
    "dat = full_filtered.select_dtypes(include=['int','float64'])\n",
    "dat = dat.drop(['process_daysA','process_daysC','process_dayA_>=1','process_dayC_>=1'],axis=1)\n",
    "dat = dat.drop(dat.columns[dat.isnull().mean()>0.6], axis=1).dropna()\n",
    "dat = dat.drop(['Vulnerability Threshold','process_days','URN:Facebook',],axis=1).dropna()\n",
    "dat"
   ]
  },
  {
   "cell_type": "code",
   "execution_count": 43,
   "metadata": {},
   "outputs": [],
   "source": [
    "X = dat.drop(['process_day_>=1','process_day_>=7'],axis=1)\n",
    "y1 = dat['process_day_>=1']\n",
    "# y2 = dat['process_dayA_>=1']\n",
    "# y3 = dat['process_dayC_>=1']\n",
    "\n",
    "y7 = dat[['process_day_>=7']]"
   ]
  },
  {
   "cell_type": "code",
   "execution_count": 44,
   "metadata": {},
   "outputs": [
    {
     "data": {
      "text/html": [
       "<div>\n",
       "<style scoped>\n",
       "    .dataframe tbody tr th:only-of-type {\n",
       "        vertical-align: middle;\n",
       "    }\n",
       "\n",
       "    .dataframe tbody tr th {\n",
       "        vertical-align: top;\n",
       "    }\n",
       "\n",
       "    .dataframe thead th {\n",
       "        text-align: right;\n",
       "    }\n",
       "</style>\n",
       "<table border=\"1\" class=\"dataframe\">\n",
       "  <thead>\n",
       "    <tr style=\"text-align: right;\">\n",
       "      <th></th>\n",
       "      <th>Field:Age</th>\n",
       "      <th>Field:Gender</th>\n",
       "      <th>Field:Traumatic Incident 1 Assessment</th>\n",
       "      <th>Field:LPPN Score</th>\n",
       "      <th>Field:Medical Needs Score</th>\n",
       "      <th>Field:Years in Current Country</th>\n",
       "      <th>Medical_X_LPPN</th>\n",
       "    </tr>\n",
       "  </thead>\n",
       "  <tbody>\n",
       "    <tr>\n",
       "      <th>4</th>\n",
       "      <td>33.0</td>\n",
       "      <td>1.0</td>\n",
       "      <td>4.0</td>\n",
       "      <td>0.0</td>\n",
       "      <td>0.0</td>\n",
       "      <td>6.0</td>\n",
       "      <td>0.0</td>\n",
       "    </tr>\n",
       "    <tr>\n",
       "      <th>6</th>\n",
       "      <td>44.0</td>\n",
       "      <td>1.0</td>\n",
       "      <td>1.0</td>\n",
       "      <td>0.0</td>\n",
       "      <td>0.0</td>\n",
       "      <td>5.0</td>\n",
       "      <td>0.0</td>\n",
       "    </tr>\n",
       "    <tr>\n",
       "      <th>10</th>\n",
       "      <td>30.0</td>\n",
       "      <td>1.0</td>\n",
       "      <td>1.0</td>\n",
       "      <td>0.0</td>\n",
       "      <td>0.0</td>\n",
       "      <td>5.0</td>\n",
       "      <td>0.0</td>\n",
       "    </tr>\n",
       "    <tr>\n",
       "      <th>11</th>\n",
       "      <td>30.0</td>\n",
       "      <td>1.0</td>\n",
       "      <td>1.0</td>\n",
       "      <td>0.0</td>\n",
       "      <td>0.0</td>\n",
       "      <td>5.0</td>\n",
       "      <td>0.0</td>\n",
       "    </tr>\n",
       "    <tr>\n",
       "      <th>23</th>\n",
       "      <td>41.0</td>\n",
       "      <td>1.0</td>\n",
       "      <td>2.0</td>\n",
       "      <td>0.0</td>\n",
       "      <td>0.0</td>\n",
       "      <td>6.0</td>\n",
       "      <td>0.0</td>\n",
       "    </tr>\n",
       "    <tr>\n",
       "      <th>...</th>\n",
       "      <td>...</td>\n",
       "      <td>...</td>\n",
       "      <td>...</td>\n",
       "      <td>...</td>\n",
       "      <td>...</td>\n",
       "      <td>...</td>\n",
       "      <td>...</td>\n",
       "    </tr>\n",
       "    <tr>\n",
       "      <th>1064</th>\n",
       "      <td>34.0</td>\n",
       "      <td>1.0</td>\n",
       "      <td>5.0</td>\n",
       "      <td>0.0</td>\n",
       "      <td>6.0</td>\n",
       "      <td>3.0</td>\n",
       "      <td>0.0</td>\n",
       "    </tr>\n",
       "    <tr>\n",
       "      <th>1067</th>\n",
       "      <td>36.0</td>\n",
       "      <td>1.0</td>\n",
       "      <td>5.0</td>\n",
       "      <td>1.0</td>\n",
       "      <td>0.0</td>\n",
       "      <td>7.0</td>\n",
       "      <td>0.0</td>\n",
       "    </tr>\n",
       "    <tr>\n",
       "      <th>1078</th>\n",
       "      <td>40.0</td>\n",
       "      <td>1.0</td>\n",
       "      <td>5.0</td>\n",
       "      <td>4.0</td>\n",
       "      <td>5.0</td>\n",
       "      <td>6.0</td>\n",
       "      <td>20.0</td>\n",
       "    </tr>\n",
       "    <tr>\n",
       "      <th>1079</th>\n",
       "      <td>29.0</td>\n",
       "      <td>1.0</td>\n",
       "      <td>4.0</td>\n",
       "      <td>0.0</td>\n",
       "      <td>0.0</td>\n",
       "      <td>5.0</td>\n",
       "      <td>0.0</td>\n",
       "    </tr>\n",
       "    <tr>\n",
       "      <th>1081</th>\n",
       "      <td>33.0</td>\n",
       "      <td>0.0</td>\n",
       "      <td>1.0</td>\n",
       "      <td>0.0</td>\n",
       "      <td>2.0</td>\n",
       "      <td>7.0</td>\n",
       "      <td>0.0</td>\n",
       "    </tr>\n",
       "  </tbody>\n",
       "</table>\n",
       "<p>234 rows × 7 columns</p>\n",
       "</div>"
      ],
      "text/plain": [
       "      Field:Age  Field:Gender  Field:Traumatic Incident 1 Assessment  \\\n",
       "4          33.0           1.0                                    4.0   \n",
       "6          44.0           1.0                                    1.0   \n",
       "10         30.0           1.0                                    1.0   \n",
       "11         30.0           1.0                                    1.0   \n",
       "23         41.0           1.0                                    2.0   \n",
       "...         ...           ...                                    ...   \n",
       "1064       34.0           1.0                                    5.0   \n",
       "1067       36.0           1.0                                    5.0   \n",
       "1078       40.0           1.0                                    5.0   \n",
       "1079       29.0           1.0                                    4.0   \n",
       "1081       33.0           0.0                                    1.0   \n",
       "\n",
       "      Field:LPPN Score  Field:Medical Needs Score  \\\n",
       "4                  0.0                        0.0   \n",
       "6                  0.0                        0.0   \n",
       "10                 0.0                        0.0   \n",
       "11                 0.0                        0.0   \n",
       "23                 0.0                        0.0   \n",
       "...                ...                        ...   \n",
       "1064               0.0                        6.0   \n",
       "1067               1.0                        0.0   \n",
       "1078               4.0                        5.0   \n",
       "1079               0.0                        0.0   \n",
       "1081               0.0                        2.0   \n",
       "\n",
       "      Field:Years in Current Country  Medical_X_LPPN  \n",
       "4                                6.0             0.0  \n",
       "6                                5.0             0.0  \n",
       "10                               5.0             0.0  \n",
       "11                               5.0             0.0  \n",
       "23                               6.0             0.0  \n",
       "...                              ...             ...  \n",
       "1064                             3.0             0.0  \n",
       "1067                             7.0             0.0  \n",
       "1078                             6.0            20.0  \n",
       "1079                             5.0             0.0  \n",
       "1081                             7.0             0.0  \n",
       "\n",
       "[234 rows x 7 columns]"
      ]
     },
     "execution_count": 44,
     "metadata": {},
     "output_type": "execute_result"
    }
   ],
   "source": [
    "X"
   ]
  },
  {
   "cell_type": "code",
   "execution_count": 45,
   "metadata": {},
   "outputs": [],
   "source": [
    "X2=dat[['Field:Traumatic Incident 1 Assessment']]\n",
    "X3=dat[['Field:Years in Current Country']]"
   ]
  },
  {
   "cell_type": "markdown",
   "metadata": {},
   "source": [
    "#### Select variables using p-value"
   ]
  },
  {
   "cell_type": "code",
   "execution_count": 46,
   "metadata": {},
   "outputs": [],
   "source": [
    "selected_columns= X.columns.values\n",
    "\n",
    "def backwardElimination(x, Y, sl, columns):\n",
    "    numVars = len(x[0])\n",
    "    for i in range(0, numVars):\n",
    "        regressor_Logit = sm.Logit(Y, x).fit(method='bfgs',maxiter=400)\n",
    "        maxVar = max(regressor_Logit.pvalues).astype(float)\n",
    "        if maxVar > sl:\n",
    "            for j in range(0, numVars - i):\n",
    "                if (regressor_Logit.pvalues[j].astype(float) == maxVar):\n",
    "                    x = np.delete(x, j, 1)\n",
    "                    columns = np.delete(columns, j)\n",
    "    regressor_Logit.summary()\n",
    "    return x, columns\n",
    "SL = 0.05\n"
   ]
  },
  {
   "cell_type": "code",
   "execution_count": 47,
   "metadata": {
    "scrolled": true
   },
   "outputs": [
    {
     "name": "stdout",
     "output_type": "stream",
     "text": [
      "Optimization terminated successfully.\n",
      "         Current function value: 0.575223\n",
      "         Iterations: 39\n",
      "         Function evaluations: 43\n",
      "         Gradient evaluations: 43\n",
      "Optimization terminated successfully.\n",
      "         Current function value: 0.575407\n",
      "         Iterations: 38\n",
      "         Function evaluations: 44\n",
      "         Gradient evaluations: 44\n",
      "Optimization terminated successfully.\n",
      "         Current function value: 0.575894\n",
      "         Iterations: 30\n",
      "         Function evaluations: 34\n",
      "         Gradient evaluations: 34\n",
      "Optimization terminated successfully.\n",
      "         Current function value: 0.579517\n",
      "         Iterations: 21\n",
      "         Function evaluations: 27\n",
      "         Gradient evaluations: 27\n",
      "Optimization terminated successfully.\n",
      "         Current function value: 0.583256\n",
      "         Iterations: 25\n",
      "         Function evaluations: 29\n",
      "         Gradient evaluations: 29\n",
      "Optimization terminated successfully.\n",
      "         Current function value: 0.593103\n",
      "         Iterations: 6\n",
      "         Function evaluations: 8\n",
      "         Gradient evaluations: 8\n",
      "Optimization terminated successfully.\n",
      "         Current function value: 0.593103\n",
      "         Iterations: 6\n",
      "         Function evaluations: 8\n",
      "         Gradient evaluations: 8\n",
      "['Field:Traumatic Incident 1 Assessment' 'Field:LPPN Score']\n"
     ]
    },
    {
     "name": "stderr",
     "output_type": "stream",
     "text": [
      "/Users/xiaoxiangma/.local/lib/python3.7/site-packages/statsmodels/discrete/discrete_model.py:1736: RuntimeWarning: overflow encountered in exp\n",
      "  return 1/(1+np.exp(-X))\n"
     ]
    }
   ],
   "source": [
    "_, selected_columns = backwardElimination(X.values, y1.values, SL, selected_columns)\n",
    "print(selected_columns)"
   ]
  },
  {
   "cell_type": "markdown",
   "metadata": {},
   "source": [
    "#### Random forest and downsample functions"
   ]
  },
  {
   "cell_type": "code",
   "execution_count": 48,
   "metadata": {},
   "outputs": [],
   "source": [
    "def rforest_100x(depth_upper,x,y,samplemethod):\n",
    "    X_train, X_test, y_train, y_test = samplemethod(x, y)\n",
    "    train_acc=[]\n",
    "    test_acc=[]\n",
    "    depth=[]\n",
    "    auc=[]\n",
    "\n",
    "    for i in np.arange(1,depth_upper,1):\n",
    "        ind_train_acc=[]\n",
    "        ind_test_acc=[]\n",
    "        ind_auc=[]\n",
    "\n",
    "        for k in range(100):\n",
    "            rf=RandomForestClassifier(100, \n",
    "                                      max_depth=i, \n",
    "                                      criterion='gini')\n",
    "            rf.fit(X_train, y_train)\n",
    "            y_true = y_test\n",
    "            y_pred = rf.predict(X_test)\n",
    "            y_pred_proba = rf.predict_proba(X_test)\n",
    "\n",
    "            ind_train_acc.append(np.round(rf.score(X_train, y_train),4))\n",
    "            ind_test_acc.append(rf.score(X_test,y_test))\n",
    "            ind_auc.append(roc_auc_score(y_true, y_pred_proba[:,1]))\n",
    "        \n",
    "        train_acc.append(np.mean(ind_train_acc))\n",
    "        test_acc.append(np.mean(ind_test_acc))\n",
    "        auc.append(np.mean(ind_auc))\n",
    "        depth.append(i)\n",
    "        \n",
    "    plt.plot(depth,train_acc)\n",
    "    plt.plot(depth,test_acc)\n",
    "    plt.plot(depth,auc)\n",
    "\n",
    "\n",
    "    ymax = max(auc)\n",
    "    xpos = auc.index(ymax)\n",
    "    xmax = depth[xpos]\n",
    "    acc = test_acc[xpos]\n",
    "\n",
    "    plt.plot(xmax, ymax, 'g*')\n",
    "    plt.annotate(\"Depth: {}, auc: {:.3f}, test accuracy: {:.3f}\".format(xmax,ymax,acc),\n",
    "                 (xmax, ymax),)\n",
    "    plt.title(\"Random Forest: Depth 1 to {}\".format(depth_upper))\n",
    "\n",
    "    plt.show()\n",
    "\n",
    "#     return(roc[xpos])"
   ]
  },
  {
   "cell_type": "code",
   "execution_count": 49,
   "metadata": {},
   "outputs": [],
   "source": [
    "def downsample_split(X,y):\n",
    "    var= y.name\n",
    "    #combine them for resampling\n",
    "    train_data = pd.concat([X, y], axis=1)\n",
    "    # separate minority and majority classes\n",
    "    negative = train_data[train_data[var]==0]\n",
    "    positive = train_data[train_data[var]==1]\n",
    "\n",
    "    # downsample majority\n",
    "    neg_downsampled = resample(negative,\n",
    "        replace=True, # sample with replacement\n",
    "        n_samples=len(positive), # match number in minority class\n",
    "        ) # reproducible results\n",
    "    \n",
    "    \n",
    "    # combine majority and upsampled minority\n",
    "    upsampled = pd.concat([neg_downsampled, positive])\n",
    "    \n",
    "    X_train, X_test, y_train, y_test = train_test_split( \n",
    "        upsampled.drop(var,axis=1), upsampled[var], stratify=upsampled[var],\n",
    "        test_size=0.33,)\n",
    "    \n",
    "    # check new class counts\n",
    "#     print(y_train.value_counts())\n",
    "\n",
    "    return X_train, X_test, y_train, y_test"
   ]
  },
  {
   "cell_type": "code",
   "execution_count": 50,
   "metadata": {},
   "outputs": [],
   "source": [
    "from sklearn.utils import resample\n",
    "from sklearn.model_selection import train_test_split\n",
    "from sklearn.ensemble import RandomForestClassifier\n",
    "from sklearn.metrics import roc_auc_score, roc_curve, auc\n"
   ]
  },
  {
   "cell_type": "code",
   "execution_count": 51,
   "metadata": {},
   "outputs": [
    {
     "data": {
      "text/plain": [
       "[(0.23059473545897033, 'Field:LPPN Score'),\n",
       " (0.21436900175420023, 'Field:Age'),\n",
       " (0.17712286787771286, 'Field:Years in Current Country'),\n",
       " (0.15027208992986493, 'Medical_X_LPPN'),\n",
       " (0.09622729935548459, 'Field:Medical Needs Score'),\n",
       " (0.08961133891112653, 'Field:Traumatic Incident 1 Assessment'),\n",
       " (0.041802666712640504, 'Field:Gender')]"
      ]
     },
     "execution_count": 51,
     "metadata": {},
     "output_type": "execute_result"
    }
   ],
   "source": [
    "model = RandomForestClassifier(max_depth=4,n_estimators = 64,criterion='gini')\n",
    "model.fit(X,y1)\n",
    "sorted(list(zip(model.feature_importances_,X.columns)), reverse=True)"
   ]
  },
  {
   "cell_type": "code",
   "execution_count": 52,
   "metadata": {},
   "outputs": [
    {
     "data": {
      "text/html": [
       "<div>\n",
       "<style scoped>\n",
       "    .dataframe tbody tr th:only-of-type {\n",
       "        vertical-align: middle;\n",
       "    }\n",
       "\n",
       "    .dataframe tbody tr th {\n",
       "        vertical-align: top;\n",
       "    }\n",
       "\n",
       "    .dataframe thead th {\n",
       "        text-align: right;\n",
       "    }\n",
       "</style>\n",
       "<table border=\"1\" class=\"dataframe\">\n",
       "  <thead>\n",
       "    <tr style=\"text-align: right;\">\n",
       "      <th></th>\n",
       "      <th>Field:Age</th>\n",
       "      <th>Field:Gender</th>\n",
       "      <th>Field:Traumatic Incident 1 Assessment</th>\n",
       "      <th>Field:LPPN Score</th>\n",
       "      <th>Field:Medical Needs Score</th>\n",
       "      <th>Field:Years in Current Country</th>\n",
       "      <th>process_day_&gt;=1</th>\n",
       "      <th>process_day_&gt;=7</th>\n",
       "      <th>process_dayA_&gt;=1</th>\n",
       "      <th>process_dayC_&gt;=1</th>\n",
       "      <th>Medical_X_LPPN</th>\n",
       "    </tr>\n",
       "  </thead>\n",
       "  <tbody>\n",
       "    <tr>\n",
       "      <th>4</th>\n",
       "      <td>33.0</td>\n",
       "      <td>1.0</td>\n",
       "      <td>4.0</td>\n",
       "      <td>0.0</td>\n",
       "      <td>0.0</td>\n",
       "      <td>6.0</td>\n",
       "      <td>0.0</td>\n",
       "      <td>0.0</td>\n",
       "      <td>1.0</td>\n",
       "      <td>1.0</td>\n",
       "      <td>0.0</td>\n",
       "    </tr>\n",
       "    <tr>\n",
       "      <th>6</th>\n",
       "      <td>44.0</td>\n",
       "      <td>1.0</td>\n",
       "      <td>1.0</td>\n",
       "      <td>0.0</td>\n",
       "      <td>0.0</td>\n",
       "      <td>5.0</td>\n",
       "      <td>0.0</td>\n",
       "      <td>0.0</td>\n",
       "      <td>1.0</td>\n",
       "      <td>1.0</td>\n",
       "      <td>0.0</td>\n",
       "    </tr>\n",
       "    <tr>\n",
       "      <th>10</th>\n",
       "      <td>30.0</td>\n",
       "      <td>1.0</td>\n",
       "      <td>1.0</td>\n",
       "      <td>0.0</td>\n",
       "      <td>0.0</td>\n",
       "      <td>5.0</td>\n",
       "      <td>0.0</td>\n",
       "      <td>0.0</td>\n",
       "      <td>1.0</td>\n",
       "      <td>1.0</td>\n",
       "      <td>0.0</td>\n",
       "    </tr>\n",
       "    <tr>\n",
       "      <th>11</th>\n",
       "      <td>30.0</td>\n",
       "      <td>1.0</td>\n",
       "      <td>1.0</td>\n",
       "      <td>0.0</td>\n",
       "      <td>0.0</td>\n",
       "      <td>5.0</td>\n",
       "      <td>0.0</td>\n",
       "      <td>0.0</td>\n",
       "      <td>1.0</td>\n",
       "      <td>1.0</td>\n",
       "      <td>0.0</td>\n",
       "    </tr>\n",
       "    <tr>\n",
       "      <th>23</th>\n",
       "      <td>41.0</td>\n",
       "      <td>1.0</td>\n",
       "      <td>2.0</td>\n",
       "      <td>0.0</td>\n",
       "      <td>0.0</td>\n",
       "      <td>6.0</td>\n",
       "      <td>1.0</td>\n",
       "      <td>1.0</td>\n",
       "      <td>1.0</td>\n",
       "      <td>1.0</td>\n",
       "      <td>0.0</td>\n",
       "    </tr>\n",
       "    <tr>\n",
       "      <th>...</th>\n",
       "      <td>...</td>\n",
       "      <td>...</td>\n",
       "      <td>...</td>\n",
       "      <td>...</td>\n",
       "      <td>...</td>\n",
       "      <td>...</td>\n",
       "      <td>...</td>\n",
       "      <td>...</td>\n",
       "      <td>...</td>\n",
       "      <td>...</td>\n",
       "      <td>...</td>\n",
       "    </tr>\n",
       "    <tr>\n",
       "      <th>1064</th>\n",
       "      <td>34.0</td>\n",
       "      <td>1.0</td>\n",
       "      <td>5.0</td>\n",
       "      <td>0.0</td>\n",
       "      <td>6.0</td>\n",
       "      <td>3.0</td>\n",
       "      <td>0.0</td>\n",
       "      <td>0.0</td>\n",
       "      <td>1.0</td>\n",
       "      <td>1.0</td>\n",
       "      <td>0.0</td>\n",
       "    </tr>\n",
       "    <tr>\n",
       "      <th>1067</th>\n",
       "      <td>36.0</td>\n",
       "      <td>1.0</td>\n",
       "      <td>5.0</td>\n",
       "      <td>1.0</td>\n",
       "      <td>0.0</td>\n",
       "      <td>7.0</td>\n",
       "      <td>1.0</td>\n",
       "      <td>1.0</td>\n",
       "      <td>1.0</td>\n",
       "      <td>1.0</td>\n",
       "      <td>0.0</td>\n",
       "    </tr>\n",
       "    <tr>\n",
       "      <th>1078</th>\n",
       "      <td>40.0</td>\n",
       "      <td>1.0</td>\n",
       "      <td>5.0</td>\n",
       "      <td>4.0</td>\n",
       "      <td>5.0</td>\n",
       "      <td>6.0</td>\n",
       "      <td>0.0</td>\n",
       "      <td>0.0</td>\n",
       "      <td>1.0</td>\n",
       "      <td>1.0</td>\n",
       "      <td>20.0</td>\n",
       "    </tr>\n",
       "    <tr>\n",
       "      <th>1079</th>\n",
       "      <td>29.0</td>\n",
       "      <td>1.0</td>\n",
       "      <td>4.0</td>\n",
       "      <td>0.0</td>\n",
       "      <td>0.0</td>\n",
       "      <td>5.0</td>\n",
       "      <td>0.0</td>\n",
       "      <td>0.0</td>\n",
       "      <td>1.0</td>\n",
       "      <td>1.0</td>\n",
       "      <td>0.0</td>\n",
       "    </tr>\n",
       "    <tr>\n",
       "      <th>1081</th>\n",
       "      <td>33.0</td>\n",
       "      <td>0.0</td>\n",
       "      <td>1.0</td>\n",
       "      <td>0.0</td>\n",
       "      <td>2.0</td>\n",
       "      <td>7.0</td>\n",
       "      <td>1.0</td>\n",
       "      <td>1.0</td>\n",
       "      <td>1.0</td>\n",
       "      <td>1.0</td>\n",
       "      <td>0.0</td>\n",
       "    </tr>\n",
       "  </tbody>\n",
       "</table>\n",
       "<p>234 rows × 11 columns</p>\n",
       "</div>"
      ],
      "text/plain": [
       "      Field:Age  Field:Gender  Field:Traumatic Incident 1 Assessment  \\\n",
       "4          33.0           1.0                                    4.0   \n",
       "6          44.0           1.0                                    1.0   \n",
       "10         30.0           1.0                                    1.0   \n",
       "11         30.0           1.0                                    1.0   \n",
       "23         41.0           1.0                                    2.0   \n",
       "...         ...           ...                                    ...   \n",
       "1064       34.0           1.0                                    5.0   \n",
       "1067       36.0           1.0                                    5.0   \n",
       "1078       40.0           1.0                                    5.0   \n",
       "1079       29.0           1.0                                    4.0   \n",
       "1081       33.0           0.0                                    1.0   \n",
       "\n",
       "      Field:LPPN Score  Field:Medical Needs Score  \\\n",
       "4                  0.0                        0.0   \n",
       "6                  0.0                        0.0   \n",
       "10                 0.0                        0.0   \n",
       "11                 0.0                        0.0   \n",
       "23                 0.0                        0.0   \n",
       "...                ...                        ...   \n",
       "1064               0.0                        6.0   \n",
       "1067               1.0                        0.0   \n",
       "1078               4.0                        5.0   \n",
       "1079               0.0                        0.0   \n",
       "1081               0.0                        2.0   \n",
       "\n",
       "      Field:Years in Current Country  process_day_>=1  process_day_>=7  \\\n",
       "4                                6.0              0.0              0.0   \n",
       "6                                5.0              0.0              0.0   \n",
       "10                               5.0              0.0              0.0   \n",
       "11                               5.0              0.0              0.0   \n",
       "23                               6.0              1.0              1.0   \n",
       "...                              ...              ...              ...   \n",
       "1064                             3.0              0.0              0.0   \n",
       "1067                             7.0              1.0              1.0   \n",
       "1078                             6.0              0.0              0.0   \n",
       "1079                             5.0              0.0              0.0   \n",
       "1081                             7.0              1.0              1.0   \n",
       "\n",
       "      process_dayA_>=1  process_dayC_>=1  Medical_X_LPPN  \n",
       "4                  1.0               1.0             0.0  \n",
       "6                  1.0               1.0             0.0  \n",
       "10                 1.0               1.0             0.0  \n",
       "11                 1.0               1.0             0.0  \n",
       "23                 1.0               1.0             0.0  \n",
       "...                ...               ...             ...  \n",
       "1064               1.0               1.0             0.0  \n",
       "1067               1.0               1.0             0.0  \n",
       "1078               1.0               1.0            20.0  \n",
       "1079               1.0               1.0             0.0  \n",
       "1081               1.0               1.0             0.0  \n",
       "\n",
       "[234 rows x 11 columns]"
      ]
     },
     "execution_count": 52,
     "metadata": {},
     "output_type": "execute_result"
    }
   ],
   "source": [
    "dat = full_filtered.select_dtypes(include=['int','float64'])\n",
    "dat = dat.drop(['process_daysA','process_daysC'],axis=1)\n",
    "dat = dat.drop(dat.columns[dat.isnull().mean()>0.6], axis=1).dropna()\n",
    "dat = dat.drop(['Vulnerability Threshold','process_days','URN:Facebook',],axis=1).dropna()\n",
    "dat"
   ]
  },
  {
   "cell_type": "code",
   "execution_count": 53,
   "metadata": {},
   "outputs": [],
   "source": [
    "X = dat.drop(['process_day_>=1','process_day_>=7','process_dayA_>=1','process_dayC_>=1'],axis=1)\n",
    "y1 = dat['process_day_>=1']\n",
    "y2 = dat['process_dayA_>=1']\n",
    "y3 = dat['process_dayC_>=1']\n",
    "\n",
    "y7 = dat[['process_day_>=7']]"
   ]
  },
  {
   "cell_type": "code",
   "execution_count": 59,
   "metadata": {},
   "outputs": [
    {
     "name": "stderr",
     "output_type": "stream",
     "text": [
      "/Users/xiaoxiangma/.local/lib/python3.7/site-packages/numpy/lib/histograms.py:829: RuntimeWarning: invalid value encountered in greater_equal\n",
      "  keep = (tmp_a >= first_edge)\n",
      "/Users/xiaoxiangma/.local/lib/python3.7/site-packages/numpy/lib/histograms.py:830: RuntimeWarning: invalid value encountered in less_equal\n",
      "  keep &= (tmp_a <= last_edge)\n"
     ]
    },
    {
     "data": {
      "image/png": "[encoded data removed]",
      "text/plain": [
       "<Figure size 432x288 with 1 Axes>"
      ]
     },
     "metadata": {
      "needs_background": "light"
     },
     "output_type": "display_data"
    }
   ],
   "source": [
    "plt.hist(full[\"Field:Traumatic Incident 1 Assessment\"])\n",
    "plt.title(\"Field:Traumatic Incident 1 Assessment\")\n",
    "plt.show()"
   ]
  },
  {
   "cell_type": "code",
   "execution_count": 60,
   "metadata": {},
   "outputs": [
    {
     "data": {
      "image/png": "[encoded data removed]",
      "text/plain": [
       "<Figure size 432x288 with 1 Axes>"
      ]
     },
     "metadata": {
      "needs_background": "light"
     },
     "output_type": "display_data"
    }
   ],
   "source": [
    "plt.hist(full[\"Field:Years in Current Country\"])\n",
    "plt.title(\"Field:Years in Current Country\")\n",
    "plt.show()"
   ]
  },
  {
   "cell_type": "code",
   "execution_count": 61,
   "metadata": {},
   "outputs": [
    {
     "data": {
      "image/png": "[encoded data removed]",
      "text/plain": [
       "<Figure size 432x288 with 1 Axes>"
      ]
     },
     "metadata": {
      "needs_background": "light"
     },
     "output_type": "display_data"
    }
   ],
   "source": [
    "plt.hist(full[\"process_days\"])\n",
    "plt.title(\"Process Days\")\n",
    "plt.show()"
   ]
  },
  {
   "cell_type": "markdown",
   "metadata": {},
   "source": [
    "###  Preperation for Data Cleaning\n"
   ]
  },
  {
   "cell_type": "markdown",
   "metadata": {},
   "source": [
    "field names, values, and percentage missing"
   ]
  },
  {
   "cell_type": "code",
   "execution_count": 62,
   "metadata": {},
   "outputs": [
    {
     "data": {
      "text/plain": [
       "(769, 379)"
      ]
     },
     "execution_count": 62,
     "metadata": {},
     "output_type": "execute_result"
    }
   ],
   "source": [
    "full.shape"
   ]
  },
  {
   "cell_type": "code",
   "execution_count": 63,
   "metadata": {
    "scrolled": false
   },
   "outputs": [
    {
     "data": {
      "text/html": [
       "<div>\n",
       "<style scoped>\n",
       "    .dataframe tbody tr th:only-of-type {\n",
       "        vertical-align: middle;\n",
       "    }\n",
       "\n",
       "    .dataframe tbody tr th {\n",
       "        vertical-align: top;\n",
       "    }\n",
       "\n",
       "    .dataframe thead th {\n",
       "        text-align: right;\n",
       "    }\n",
       "</style>\n",
       "<table border=\"1\" class=\"dataframe\">\n",
       "  <thead>\n",
       "    <tr style=\"text-align: right;\">\n",
       "      <th></th>\n",
       "      <th>null_counts</th>\n",
       "      <th>null_percent</th>\n",
       "      <th>dtype</th>\n",
       "      <th>sample_value</th>\n",
       "    </tr>\n",
       "  </thead>\n",
       "  <tbody>\n",
       "    <tr>\n",
       "      <th>Mona Unique Session ID</th>\n",
       "      <td>0</td>\n",
       "      <td>0.00</td>\n",
       "      <td>object</td>\n",
       "      <td>003b4c8a-fa26-4d7c-bb47-c27109b757e3.2019-07-2...</td>\n",
       "    </tr>\n",
       "    <tr>\n",
       "      <th>Mona Unique User ID</th>\n",
       "      <td>169</td>\n",
       "      <td>0.22</td>\n",
       "      <td>object</td>\n",
       "      <td>22975d7c-8975-4578-9286-9d8221d83a14</td>\n",
       "    </tr>\n",
       "    <tr>\n",
       "      <th>Created on</th>\n",
       "      <td>0</td>\n",
       "      <td>0.00</td>\n",
       "      <td>datetime64[ns]</td>\n",
       "      <td>2019-10-07 08:21:19</td>\n",
       "    </tr>\n",
       "    <tr>\n",
       "      <th>Created by</th>\n",
       "      <td>0</td>\n",
       "      <td>0.00</td>\n",
       "      <td>object</td>\n",
       "      <td>Brooke Sauro</td>\n",
       "    </tr>\n",
       "    <tr>\n",
       "      <th>Pipeline</th>\n",
       "      <td>0</td>\n",
       "      <td>0.00</td>\n",
       "      <td>object</td>\n",
       "      <td>Mona</td>\n",
       "    </tr>\n",
       "    <tr>\n",
       "      <th>...</th>\n",
       "      <td>...</td>\n",
       "      <td>...</td>\n",
       "      <td>...</td>\n",
       "      <td>...</td>\n",
       "    </tr>\n",
       "    <tr>\n",
       "      <th>process_day_&gt;=1</th>\n",
       "      <td>0</td>\n",
       "      <td>0.00</td>\n",
       "      <td>float64</td>\n",
       "      <td>0</td>\n",
       "    </tr>\n",
       "    <tr>\n",
       "      <th>process_day_&gt;=7</th>\n",
       "      <td>0</td>\n",
       "      <td>0.00</td>\n",
       "      <td>float64</td>\n",
       "      <td>0</td>\n",
       "    </tr>\n",
       "    <tr>\n",
       "      <th>process_dayA_&gt;=1</th>\n",
       "      <td>0</td>\n",
       "      <td>0.00</td>\n",
       "      <td>float64</td>\n",
       "      <td>1</td>\n",
       "    </tr>\n",
       "    <tr>\n",
       "      <th>process_dayC_&gt;=1</th>\n",
       "      <td>0</td>\n",
       "      <td>0.00</td>\n",
       "      <td>float64</td>\n",
       "      <td>1</td>\n",
       "    </tr>\n",
       "    <tr>\n",
       "      <th>Medical_X_LPPN</th>\n",
       "      <td>416</td>\n",
       "      <td>0.54</td>\n",
       "      <td>float64</td>\n",
       "      <td>0</td>\n",
       "    </tr>\n",
       "  </tbody>\n",
       "</table>\n",
       "<p>379 rows × 4 columns</p>\n",
       "</div>"
      ],
      "text/plain": [
       "                        null_counts  null_percent           dtype  \\\n",
       "Mona Unique Session ID            0          0.00          object   \n",
       "Mona Unique User ID             169          0.22          object   \n",
       "Created on                        0          0.00  datetime64[ns]   \n",
       "Created by                        0          0.00          object   \n",
       "Pipeline                          0          0.00          object   \n",
       "...                             ...           ...             ...   \n",
       "process_day_>=1                   0          0.00         float64   \n",
       "process_day_>=7                   0          0.00         float64   \n",
       "process_dayA_>=1                  0          0.00         float64   \n",
       "process_dayC_>=1                  0          0.00         float64   \n",
       "Medical_X_LPPN                  416          0.54         float64   \n",
       "\n",
       "                                                             sample_value  \n",
       "Mona Unique Session ID  003b4c8a-fa26-4d7c-bb47-c27109b757e3.2019-07-2...  \n",
       "Mona Unique User ID                  22975d7c-8975-4578-9286-9d8221d83a14  \n",
       "Created on                                            2019-10-07 08:21:19  \n",
       "Created by                                                   Brooke Sauro  \n",
       "Pipeline                                                             Mona  \n",
       "...                                                                   ...  \n",
       "process_day_>=1                                                         0  \n",
       "process_day_>=7                                                         0  \n",
       "process_dayA_>=1                                                        1  \n",
       "process_dayC_>=1                                                        1  \n",
       "Medical_X_LPPN                                                          0  \n",
       "\n",
       "[379 rows x 4 columns]"
      ]
     },
     "execution_count": 63,
     "metadata": {},
     "output_type": "execute_result"
    }
   ],
   "source": [
    "null_count = pd.Series.to_frame(full.isna().sum())\n",
    "# null_count.rename(columns={\"0\": \"null_count\"})\n",
    "null_count.columns = [\"null_counts\"]\n",
    "null_count[\"null_percent\"] = np.round(null_count[\"null_counts\"] / 769 , 2)\n",
    "null_count[\"dtype\"] = pd.Series.to_frame(full.dtypes)\n",
    "null_count[\"sample_value\"] = full.mode()[:1].T\n",
    "null_count"
   ]
  },
  {
   "cell_type": "code",
   "execution_count": 64,
   "metadata": {},
   "outputs": [
    {
     "data": {
      "text/plain": [
       "null_counts        768\n",
       "null_percent         1\n",
       "dtype           object\n",
       "sample_value      سامر\n",
       "Name: Field:Siv Follow To Join Relative Name 1, dtype: object"
      ]
     },
     "execution_count": 64,
     "metadata": {},
     "output_type": "execute_result"
    }
   ],
   "source": [
    "null_count.loc['Field:Siv Follow To Join Relative Name 1']"
   ]
  },
  {
   "cell_type": "code",
   "execution_count": 65,
   "metadata": {},
   "outputs": [],
   "source": [
    "null_count.to_csv(\"null_counts.csv\")"
   ]
  },
  {
   "cell_type": "code",
   "execution_count": 66,
   "metadata": {},
   "outputs": [
    {
     "data": {
      "text/plain": [
       "Index(['Mona Unique Session ID', 'Mona Unique User ID', 'Created on',\n",
       "       'Created by', 'Pipeline', 'Date of Referral', 'First Referral',\n",
       "       'In IRAP Process', 'Screening Stage', 'Screener',\n",
       "       ...\n",
       "       'curr_country_جورجيا تبليسي', 'curr_country_قطاع غزة',\n",
       "       'curr_country_كندا', 'curr_country_نعم أنا في إيطاليا',\n",
       "       'curr_country_يونان', 'process_day_>=1', 'process_day_>=7',\n",
       "       'process_dayA_>=1', 'process_dayC_>=1', 'Medical_X_LPPN'],\n",
       "      dtype='object', length=379)"
      ]
     },
     "execution_count": 66,
     "metadata": {},
     "output_type": "execute_result"
    }
   ],
   "source": [
    "full.columns"
   ]
  },
  {
   "cell_type": "code",
   "execution_count": 67,
   "metadata": {},
   "outputs": [
    {
     "data": {
      "text/html": [
       "<div>\n",
       "<style scoped>\n",
       "    .dataframe tbody tr th:only-of-type {\n",
       "        vertical-align: middle;\n",
       "    }\n",
       "\n",
       "    .dataframe tbody tr th {\n",
       "        vertical-align: top;\n",
       "    }\n",
       "\n",
       "    .dataframe thead th {\n",
       "        text-align: right;\n",
       "    }\n",
       "</style>\n",
       "<table border=\"1\" class=\"dataframe\">\n",
       "  <thead>\n",
       "    <tr style=\"text-align: right;\">\n",
       "      <th></th>\n",
       "      <th>0</th>\n",
       "    </tr>\n",
       "  </thead>\n",
       "  <tbody>\n",
       "    <tr>\n",
       "      <th>Mona Unique Session ID</th>\n",
       "      <td>object</td>\n",
       "    </tr>\n",
       "    <tr>\n",
       "      <th>Mona Unique User ID</th>\n",
       "      <td>object</td>\n",
       "    </tr>\n",
       "    <tr>\n",
       "      <th>Created on</th>\n",
       "      <td>datetime64[ns]</td>\n",
       "    </tr>\n",
       "    <tr>\n",
       "      <th>Created by</th>\n",
       "      <td>object</td>\n",
       "    </tr>\n",
       "    <tr>\n",
       "      <th>Pipeline</th>\n",
       "      <td>object</td>\n",
       "    </tr>\n",
       "    <tr>\n",
       "      <th>...</th>\n",
       "      <td>...</td>\n",
       "    </tr>\n",
       "    <tr>\n",
       "      <th>process_day_&gt;=1</th>\n",
       "      <td>float64</td>\n",
       "    </tr>\n",
       "    <tr>\n",
       "      <th>process_day_&gt;=7</th>\n",
       "      <td>float64</td>\n",
       "    </tr>\n",
       "    <tr>\n",
       "      <th>process_dayA_&gt;=1</th>\n",
       "      <td>float64</td>\n",
       "    </tr>\n",
       "    <tr>\n",
       "      <th>process_dayC_&gt;=1</th>\n",
       "      <td>float64</td>\n",
       "    </tr>\n",
       "    <tr>\n",
       "      <th>Medical_X_LPPN</th>\n",
       "      <td>float64</td>\n",
       "    </tr>\n",
       "  </tbody>\n",
       "</table>\n",
       "<p>379 rows × 1 columns</p>\n",
       "</div>"
      ],
      "text/plain": [
       "                                     0\n",
       "Mona Unique Session ID          object\n",
       "Mona Unique User ID             object\n",
       "Created on              datetime64[ns]\n",
       "Created by                      object\n",
       "Pipeline                        object\n",
       "...                                ...\n",
       "process_day_>=1                float64\n",
       "process_day_>=7                float64\n",
       "process_dayA_>=1               float64\n",
       "process_dayC_>=1               float64\n",
       "Medical_X_LPPN                 float64\n",
       "\n",
       "[379 rows x 1 columns]"
      ]
     },
     "execution_count": 67,
     "metadata": {},
     "output_type": "execute_result"
    }
   ],
   "source": [
    "pd.Series.to_frame(full.dtypes)"
   ]
  },
  {
   "cell_type": "code",
   "execution_count": 68,
   "metadata": {},
   "outputs": [
    {
     "data": {
      "text/html": [
       "<div>\n",
       "<style scoped>\n",
       "    .dataframe tbody tr th:only-of-type {\n",
       "        vertical-align: middle;\n",
       "    }\n",
       "\n",
       "    .dataframe tbody tr th {\n",
       "        vertical-align: top;\n",
       "    }\n",
       "\n",
       "    .dataframe thead th {\n",
       "        text-align: right;\n",
       "    }\n",
       "</style>\n",
       "<table border=\"1\" class=\"dataframe\">\n",
       "  <thead>\n",
       "    <tr style=\"text-align: right;\">\n",
       "      <th></th>\n",
       "      <th>0</th>\n",
       "    </tr>\n",
       "  </thead>\n",
       "  <tbody>\n",
       "    <tr>\n",
       "      <th>Mona Unique Session ID</th>\n",
       "      <td>003b4c8a-fa26-4d7c-bb47-c27109b757e3.2019-07-2...</td>\n",
       "    </tr>\n",
       "    <tr>\n",
       "      <th>Mona Unique User ID</th>\n",
       "      <td>22975d7c-8975-4578-9286-9d8221d83a14</td>\n",
       "    </tr>\n",
       "    <tr>\n",
       "      <th>Created on</th>\n",
       "      <td>2019-10-07 08:21:19</td>\n",
       "    </tr>\n",
       "    <tr>\n",
       "      <th>Created by</th>\n",
       "      <td>Brooke Sauro</td>\n",
       "    </tr>\n",
       "    <tr>\n",
       "      <th>Pipeline</th>\n",
       "      <td>Mona</td>\n",
       "    </tr>\n",
       "    <tr>\n",
       "      <th>...</th>\n",
       "      <td>...</td>\n",
       "    </tr>\n",
       "    <tr>\n",
       "      <th>process_day_&gt;=1</th>\n",
       "      <td>0</td>\n",
       "    </tr>\n",
       "    <tr>\n",
       "      <th>process_day_&gt;=7</th>\n",
       "      <td>0</td>\n",
       "    </tr>\n",
       "    <tr>\n",
       "      <th>process_dayA_&gt;=1</th>\n",
       "      <td>1</td>\n",
       "    </tr>\n",
       "    <tr>\n",
       "      <th>process_dayC_&gt;=1</th>\n",
       "      <td>1</td>\n",
       "    </tr>\n",
       "    <tr>\n",
       "      <th>Medical_X_LPPN</th>\n",
       "      <td>0</td>\n",
       "    </tr>\n",
       "  </tbody>\n",
       "</table>\n",
       "<p>379 rows × 1 columns</p>\n",
       "</div>"
      ],
      "text/plain": [
       "                                                                        0\n",
       "Mona Unique Session ID  003b4c8a-fa26-4d7c-bb47-c27109b757e3.2019-07-2...\n",
       "Mona Unique User ID                  22975d7c-8975-4578-9286-9d8221d83a14\n",
       "Created on                                            2019-10-07 08:21:19\n",
       "Created by                                                   Brooke Sauro\n",
       "Pipeline                                                             Mona\n",
       "...                                                                   ...\n",
       "process_day_>=1                                                         0\n",
       "process_day_>=7                                                         0\n",
       "process_dayA_>=1                                                        1\n",
       "process_dayC_>=1                                                        1\n",
       "Medical_X_LPPN                                                          0\n",
       "\n",
       "[379 rows x 1 columns]"
      ]
     },
     "execution_count": 68,
     "metadata": {},
     "output_type": "execute_result"
    }
   ],
   "source": [
    "full.mode()[:1].T"
   ]
  },
  {
   "cell_type": "code",
   "execution_count": 69,
   "metadata": {},
   "outputs": [
    {
     "data": {
      "text/html": [
       "<div>\n",
       "<style scoped>\n",
       "    .dataframe tbody tr th:only-of-type {\n",
       "        vertical-align: middle;\n",
       "    }\n",
       "\n",
       "    .dataframe tbody tr th {\n",
       "        vertical-align: top;\n",
       "    }\n",
       "\n",
       "    .dataframe thead th {\n",
       "        text-align: right;\n",
       "    }\n",
       "</style>\n",
       "<table border=\"1\" class=\"dataframe\">\n",
       "  <thead>\n",
       "    <tr style=\"text-align: right;\">\n",
       "      <th></th>\n",
       "      <th>0</th>\n",
       "    </tr>\n",
       "  </thead>\n",
       "  <tbody>\n",
       "    <tr>\n",
       "      <th>0</th>\n",
       "      <td>0.0</td>\n",
       "    </tr>\n",
       "    <tr>\n",
       "      <th>4</th>\n",
       "      <td>0.0</td>\n",
       "    </tr>\n",
       "    <tr>\n",
       "      <th>5</th>\n",
       "      <td>0.0</td>\n",
       "    </tr>\n",
       "    <tr>\n",
       "      <th>6</th>\n",
       "      <td>0.0</td>\n",
       "    </tr>\n",
       "    <tr>\n",
       "      <th>10</th>\n",
       "      <td>0.0</td>\n",
       "    </tr>\n",
       "    <tr>\n",
       "      <th>...</th>\n",
       "      <td>...</td>\n",
       "    </tr>\n",
       "    <tr>\n",
       "      <th>1075</th>\n",
       "      <td>0.0</td>\n",
       "    </tr>\n",
       "    <tr>\n",
       "      <th>1077</th>\n",
       "      <td>0.0</td>\n",
       "    </tr>\n",
       "    <tr>\n",
       "      <th>1078</th>\n",
       "      <td>0.0</td>\n",
       "    </tr>\n",
       "    <tr>\n",
       "      <th>1079</th>\n",
       "      <td>0.0</td>\n",
       "    </tr>\n",
       "    <tr>\n",
       "      <th>1081</th>\n",
       "      <td>0.0</td>\n",
       "    </tr>\n",
       "  </tbody>\n",
       "</table>\n",
       "<p>769 rows × 1 columns</p>\n",
       "</div>"
      ],
      "text/plain": [
       "        0\n",
       "0     0.0\n",
       "4     0.0\n",
       "5     0.0\n",
       "6     0.0\n",
       "10    0.0\n",
       "...   ...\n",
       "1075  0.0\n",
       "1077  0.0\n",
       "1078  0.0\n",
       "1079  0.0\n",
       "1081  0.0\n",
       "\n",
       "[769 rows x 1 columns]"
      ]
     },
     "execution_count": 69,
     "metadata": {},
     "output_type": "execute_result"
    }
   ],
   "source": [
    "full.mode(axis='columns')"
   ]
  }
 ],
 "metadata": {
  "kernelspec": {
   "display_name": "Python 3",
   "language": "python",
   "name": "python3"
  },
  "language_info": {
   "codemirror_mode": {
    "name": "ipython",
    "version": 3
   },
   "file_extension": ".py",
   "mimetype": "text/x-python",
   "name": "python",
   "nbconvert_exporter": "python",
   "pygments_lexer": "ipython3",
   "version": "3.7.5"
  }
 },
 "nbformat": 4,
 "nbformat_minor": 2
}
